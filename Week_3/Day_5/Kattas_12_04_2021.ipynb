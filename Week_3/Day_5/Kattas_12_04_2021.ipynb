{
 "cells": [
  {
   "cell_type": "code",
   "execution_count": 17,
   "id": "missing-glance",
   "metadata": {},
   "outputs": [],
   "source": [
    "def powers_of_two(n):\n",
    "    list = []\n",
    "    for i in range(0,n+1):\n",
    "        list.append(2**i)\n",
    "    return list"
   ]
  },
  {
   "cell_type": "code",
   "execution_count": 61,
   "id": "advance-algorithm",
   "metadata": {},
   "outputs": [],
   "source": []
  },
  {
   "cell_type": "code",
   "execution_count": 57,
   "id": "simple-dictionary",
   "metadata": {},
   "outputs": [],
   "source": [
    "def number(lines):\n",
    "    list = []\n",
    "    for index, line in enumerate(lines, start=1):\n",
    "        list.append(str(index) + str(\": \") + str(line))\n",
    "    return list"
   ]
  },
  {
   "cell_type": "code",
   "execution_count": 58,
   "id": "equipped-sigma",
   "metadata": {},
   "outputs": [
    {
     "data": {
      "text/plain": [
       "['1: a', '2: b', '3: c']"
      ]
     },
     "execution_count": 58,
     "metadata": {},
     "output_type": "execute_result"
    }
   ],
   "source": [
    "number(lines)"
   ]
  },
  {
   "cell_type": "code",
   "execution_count": 91,
   "id": "altered-samba",
   "metadata": {},
   "outputs": [],
   "source": [
    "lines = [\"a\", \"b\", \"c\"]"
   ]
  },
  {
   "cell_type": "code",
   "execution_count": 92,
   "id": "photographic-origin",
   "metadata": {},
   "outputs": [],
   "source": [
    "def number(lines):\n",
    "    return [str(index) + str(\": \") + str(line) for index, line in enumerate(lines, start=1)]\n",
    "   "
   ]
  },
  {
   "cell_type": "code",
   "execution_count": 93,
   "id": "promising-devon",
   "metadata": {},
   "outputs": [
    {
     "data": {
      "text/plain": [
       "['1: a', '2: b', '3: c']"
      ]
     },
     "execution_count": 93,
     "metadata": {},
     "output_type": "execute_result"
    }
   ],
   "source": [
    "number(lines)"
   ]
  },
  {
   "cell_type": "code",
   "execution_count": null,
   "id": "proper-consciousness",
   "metadata": {},
   "outputs": [],
   "source": []
  }
 ],
 "metadata": {
  "kernelspec": {
   "display_name": "Python 3",
   "language": "python",
   "name": "python3"
  },
  "language_info": {
   "codemirror_mode": {
    "name": "ipython",
    "version": 3
   },
   "file_extension": ".py",
   "mimetype": "text/x-python",
   "name": "python",
   "nbconvert_exporter": "python",
   "pygments_lexer": "ipython3",
   "version": "3.9.2"
  }
 },
 "nbformat": 4,
 "nbformat_minor": 5
}
