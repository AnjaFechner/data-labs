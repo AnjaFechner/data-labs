{
 "cells": [
  {
   "cell_type": "markdown",
   "id": "valuable-nelson",
   "metadata": {},
   "source": [
    "### 0. Libraries"
   ]
  },
  {
   "cell_type": "code",
   "execution_count": 17,
   "id": "selected-concentrate",
   "metadata": {},
   "outputs": [],
   "source": [
    "import pymysql\n",
    "from sqlalchemy import create_engine\n",
    "import pandas as pd\n",
    "import seaborn as sns \n",
    "import matplotlib.pyplot as plt\n",
    "import numpy as np\n",
    "from datetime import date\n",
    "from sklearn.preprocessing import StandardScaler"
   ]
  },
  {
   "cell_type": "markdown",
   "id": "unusual-bread",
   "metadata": {},
   "source": [
    "### 1. Create a DataFrame and make a copy"
   ]
  },
  {
   "cell_type": "code",
   "execution_count": 18,
   "id": "champion-magazine",
   "metadata": {},
   "outputs": [],
   "source": [
    "data=pd.read_csv('marketing_customer_analysis.csv')"
   ]
  },
  {
   "cell_type": "code",
   "execution_count": 19,
   "id": "afraid-butter",
   "metadata": {},
   "outputs": [],
   "source": [
    "data_c = data"
   ]
  },
  {
   "cell_type": "markdown",
   "id": "classical-biodiversity",
   "metadata": {},
   "source": [
    "### 2. EDA, cleaning and wrangling the data"
   ]
  },
  {
   "cell_type": "code",
   "execution_count": 20,
   "id": "vocal-housing",
   "metadata": {},
   "outputs": [
    {
     "data": {
      "text/html": [
       "<div>\n",
       "<style scoped>\n",
       "    .dataframe tbody tr th:only-of-type {\n",
       "        vertical-align: middle;\n",
       "    }\n",
       "\n",
       "    .dataframe tbody tr th {\n",
       "        vertical-align: top;\n",
       "    }\n",
       "\n",
       "    .dataframe thead th {\n",
       "        text-align: right;\n",
       "    }\n",
       "</style>\n",
       "<table border=\"1\" class=\"dataframe\">\n",
       "  <thead>\n",
       "    <tr style=\"text-align: right;\">\n",
       "      <th></th>\n",
       "      <th>Customer</th>\n",
       "      <th>State</th>\n",
       "      <th>Customer Lifetime Value</th>\n",
       "      <th>Response</th>\n",
       "      <th>Coverage</th>\n",
       "      <th>Education</th>\n",
       "      <th>Effective To Date</th>\n",
       "      <th>EmploymentStatus</th>\n",
       "      <th>Gender</th>\n",
       "      <th>Income</th>\n",
       "      <th>...</th>\n",
       "      <th>Months Since Policy Inception</th>\n",
       "      <th>Number of Open Complaints</th>\n",
       "      <th>Number of Policies</th>\n",
       "      <th>Policy Type</th>\n",
       "      <th>Policy</th>\n",
       "      <th>Renew Offer Type</th>\n",
       "      <th>Sales Channel</th>\n",
       "      <th>Total Claim Amount</th>\n",
       "      <th>Vehicle Class</th>\n",
       "      <th>Vehicle Size</th>\n",
       "    </tr>\n",
       "  </thead>\n",
       "  <tbody>\n",
       "    <tr>\n",
       "      <th>0</th>\n",
       "      <td>BU79786</td>\n",
       "      <td>Washington</td>\n",
       "      <td>2763.519279</td>\n",
       "      <td>No</td>\n",
       "      <td>Basic</td>\n",
       "      <td>Bachelor</td>\n",
       "      <td>2/24/11</td>\n",
       "      <td>Employed</td>\n",
       "      <td>F</td>\n",
       "      <td>56274</td>\n",
       "      <td>...</td>\n",
       "      <td>5</td>\n",
       "      <td>0</td>\n",
       "      <td>1</td>\n",
       "      <td>Corporate Auto</td>\n",
       "      <td>Corporate L3</td>\n",
       "      <td>Offer1</td>\n",
       "      <td>Agent</td>\n",
       "      <td>384.811147</td>\n",
       "      <td>Two-Door Car</td>\n",
       "      <td>Medsize</td>\n",
       "    </tr>\n",
       "    <tr>\n",
       "      <th>1</th>\n",
       "      <td>QZ44356</td>\n",
       "      <td>Arizona</td>\n",
       "      <td>6979.535903</td>\n",
       "      <td>No</td>\n",
       "      <td>Extended</td>\n",
       "      <td>Bachelor</td>\n",
       "      <td>1/31/11</td>\n",
       "      <td>Unemployed</td>\n",
       "      <td>F</td>\n",
       "      <td>0</td>\n",
       "      <td>...</td>\n",
       "      <td>42</td>\n",
       "      <td>0</td>\n",
       "      <td>8</td>\n",
       "      <td>Personal Auto</td>\n",
       "      <td>Personal L3</td>\n",
       "      <td>Offer3</td>\n",
       "      <td>Agent</td>\n",
       "      <td>1131.464935</td>\n",
       "      <td>Four-Door Car</td>\n",
       "      <td>Medsize</td>\n",
       "    </tr>\n",
       "    <tr>\n",
       "      <th>2</th>\n",
       "      <td>AI49188</td>\n",
       "      <td>Nevada</td>\n",
       "      <td>12887.431650</td>\n",
       "      <td>No</td>\n",
       "      <td>Premium</td>\n",
       "      <td>Bachelor</td>\n",
       "      <td>2/19/11</td>\n",
       "      <td>Employed</td>\n",
       "      <td>F</td>\n",
       "      <td>48767</td>\n",
       "      <td>...</td>\n",
       "      <td>38</td>\n",
       "      <td>0</td>\n",
       "      <td>2</td>\n",
       "      <td>Personal Auto</td>\n",
       "      <td>Personal L3</td>\n",
       "      <td>Offer1</td>\n",
       "      <td>Agent</td>\n",
       "      <td>566.472247</td>\n",
       "      <td>Two-Door Car</td>\n",
       "      <td>Medsize</td>\n",
       "    </tr>\n",
       "    <tr>\n",
       "      <th>3</th>\n",
       "      <td>WW63253</td>\n",
       "      <td>California</td>\n",
       "      <td>7645.861827</td>\n",
       "      <td>No</td>\n",
       "      <td>Basic</td>\n",
       "      <td>Bachelor</td>\n",
       "      <td>1/20/11</td>\n",
       "      <td>Unemployed</td>\n",
       "      <td>M</td>\n",
       "      <td>0</td>\n",
       "      <td>...</td>\n",
       "      <td>65</td>\n",
       "      <td>0</td>\n",
       "      <td>7</td>\n",
       "      <td>Corporate Auto</td>\n",
       "      <td>Corporate L2</td>\n",
       "      <td>Offer1</td>\n",
       "      <td>Call Center</td>\n",
       "      <td>529.881344</td>\n",
       "      <td>SUV</td>\n",
       "      <td>Medsize</td>\n",
       "    </tr>\n",
       "    <tr>\n",
       "      <th>4</th>\n",
       "      <td>HB64268</td>\n",
       "      <td>Washington</td>\n",
       "      <td>2813.692575</td>\n",
       "      <td>No</td>\n",
       "      <td>Basic</td>\n",
       "      <td>Bachelor</td>\n",
       "      <td>2/3/11</td>\n",
       "      <td>Employed</td>\n",
       "      <td>M</td>\n",
       "      <td>43836</td>\n",
       "      <td>...</td>\n",
       "      <td>44</td>\n",
       "      <td>0</td>\n",
       "      <td>1</td>\n",
       "      <td>Personal Auto</td>\n",
       "      <td>Personal L1</td>\n",
       "      <td>Offer1</td>\n",
       "      <td>Agent</td>\n",
       "      <td>138.130879</td>\n",
       "      <td>Four-Door Car</td>\n",
       "      <td>Medsize</td>\n",
       "    </tr>\n",
       "  </tbody>\n",
       "</table>\n",
       "<p>5 rows × 24 columns</p>\n",
       "</div>"
      ],
      "text/plain": [
       "  Customer       State  Customer Lifetime Value Response  Coverage Education  \\\n",
       "0  BU79786  Washington              2763.519279       No     Basic  Bachelor   \n",
       "1  QZ44356     Arizona              6979.535903       No  Extended  Bachelor   \n",
       "2  AI49188      Nevada             12887.431650       No   Premium  Bachelor   \n",
       "3  WW63253  California              7645.861827       No     Basic  Bachelor   \n",
       "4  HB64268  Washington              2813.692575       No     Basic  Bachelor   \n",
       "\n",
       "  Effective To Date EmploymentStatus Gender  Income  ...  \\\n",
       "0           2/24/11         Employed      F   56274  ...   \n",
       "1           1/31/11       Unemployed      F       0  ...   \n",
       "2           2/19/11         Employed      F   48767  ...   \n",
       "3           1/20/11       Unemployed      M       0  ...   \n",
       "4            2/3/11         Employed      M   43836  ...   \n",
       "\n",
       "  Months Since Policy Inception Number of Open Complaints  Number of Policies  \\\n",
       "0                             5                         0                   1   \n",
       "1                            42                         0                   8   \n",
       "2                            38                         0                   2   \n",
       "3                            65                         0                   7   \n",
       "4                            44                         0                   1   \n",
       "\n",
       "      Policy Type        Policy  Renew Offer Type  Sales Channel  \\\n",
       "0  Corporate Auto  Corporate L3            Offer1          Agent   \n",
       "1   Personal Auto   Personal L3            Offer3          Agent   \n",
       "2   Personal Auto   Personal L3            Offer1          Agent   \n",
       "3  Corporate Auto  Corporate L2            Offer1    Call Center   \n",
       "4   Personal Auto   Personal L1            Offer1          Agent   \n",
       "\n",
       "  Total Claim Amount  Vehicle Class Vehicle Size  \n",
       "0         384.811147   Two-Door Car      Medsize  \n",
       "1        1131.464935  Four-Door Car      Medsize  \n",
       "2         566.472247   Two-Door Car      Medsize  \n",
       "3         529.881344            SUV      Medsize  \n",
       "4         138.130879  Four-Door Car      Medsize  \n",
       "\n",
       "[5 rows x 24 columns]"
      ]
     },
     "execution_count": 20,
     "metadata": {},
     "output_type": "execute_result"
    }
   ],
   "source": [
    "data_c.head()"
   ]
  },
  {
   "cell_type": "markdown",
   "id": "involved-optics",
   "metadata": {},
   "source": [
    "- ***Standardizing header names***"
   ]
  },
  {
   "cell_type": "code",
   "execution_count": 21,
   "id": "foreign-champagne",
   "metadata": {},
   "outputs": [
    {
     "data": {
      "text/plain": [
       "['customer',\n",
       " 'state',\n",
       " 'customer_lifetime_value',\n",
       " 'response',\n",
       " 'coverage',\n",
       " 'education',\n",
       " 'effective_to_date',\n",
       " 'employmentstatus',\n",
       " 'gender',\n",
       " 'income',\n",
       " 'location_code',\n",
       " 'marital_status',\n",
       " 'monthly_premium_auto',\n",
       " 'months_since_last_claim',\n",
       " 'months_since_policy_inception',\n",
       " 'number_of_open_complaints',\n",
       " 'number_of_policies',\n",
       " 'policy_type',\n",
       " 'policy',\n",
       " 'renew_offer_type',\n",
       " 'sales_channel',\n",
       " 'total_claim_amount',\n",
       " 'vehicle_class',\n",
       " 'vehicle_size']"
      ]
     },
     "execution_count": 21,
     "metadata": {},
     "output_type": "execute_result"
    }
   ],
   "source": [
    "cols = []\n",
    "for i in range(len(data_c.columns)):\n",
    "    cols.append(data_c.columns[i].lower().replace(' ', '_'))\n",
    "cols"
   ]
  },
  {
   "cell_type": "code",
   "execution_count": 22,
   "id": "sorted-absorption",
   "metadata": {},
   "outputs": [],
   "source": [
    "data_c.columns=cols"
   ]
  },
  {
   "cell_type": "code",
   "execution_count": 23,
   "id": "mineral-drill",
   "metadata": {},
   "outputs": [
    {
     "data": {
      "text/html": [
       "<div>\n",
       "<style scoped>\n",
       "    .dataframe tbody tr th:only-of-type {\n",
       "        vertical-align: middle;\n",
       "    }\n",
       "\n",
       "    .dataframe tbody tr th {\n",
       "        vertical-align: top;\n",
       "    }\n",
       "\n",
       "    .dataframe thead th {\n",
       "        text-align: right;\n",
       "    }\n",
       "</style>\n",
       "<table border=\"1\" class=\"dataframe\">\n",
       "  <thead>\n",
       "    <tr style=\"text-align: right;\">\n",
       "      <th></th>\n",
       "      <th>customer</th>\n",
       "      <th>state</th>\n",
       "      <th>customer_lifetime_value</th>\n",
       "      <th>response</th>\n",
       "      <th>coverage</th>\n",
       "      <th>education</th>\n",
       "      <th>effective_to_date</th>\n",
       "      <th>employmentstatus</th>\n",
       "      <th>gender</th>\n",
       "      <th>income</th>\n",
       "      <th>...</th>\n",
       "      <th>months_since_policy_inception</th>\n",
       "      <th>number_of_open_complaints</th>\n",
       "      <th>number_of_policies</th>\n",
       "      <th>policy_type</th>\n",
       "      <th>policy</th>\n",
       "      <th>renew_offer_type</th>\n",
       "      <th>sales_channel</th>\n",
       "      <th>total_claim_amount</th>\n",
       "      <th>vehicle_class</th>\n",
       "      <th>vehicle_size</th>\n",
       "    </tr>\n",
       "  </thead>\n",
       "  <tbody>\n",
       "    <tr>\n",
       "      <th>0</th>\n",
       "      <td>BU79786</td>\n",
       "      <td>Washington</td>\n",
       "      <td>2763.519279</td>\n",
       "      <td>No</td>\n",
       "      <td>Basic</td>\n",
       "      <td>Bachelor</td>\n",
       "      <td>2/24/11</td>\n",
       "      <td>Employed</td>\n",
       "      <td>F</td>\n",
       "      <td>56274</td>\n",
       "      <td>...</td>\n",
       "      <td>5</td>\n",
       "      <td>0</td>\n",
       "      <td>1</td>\n",
       "      <td>Corporate Auto</td>\n",
       "      <td>Corporate L3</td>\n",
       "      <td>Offer1</td>\n",
       "      <td>Agent</td>\n",
       "      <td>384.811147</td>\n",
       "      <td>Two-Door Car</td>\n",
       "      <td>Medsize</td>\n",
       "    </tr>\n",
       "    <tr>\n",
       "      <th>1</th>\n",
       "      <td>QZ44356</td>\n",
       "      <td>Arizona</td>\n",
       "      <td>6979.535903</td>\n",
       "      <td>No</td>\n",
       "      <td>Extended</td>\n",
       "      <td>Bachelor</td>\n",
       "      <td>1/31/11</td>\n",
       "      <td>Unemployed</td>\n",
       "      <td>F</td>\n",
       "      <td>0</td>\n",
       "      <td>...</td>\n",
       "      <td>42</td>\n",
       "      <td>0</td>\n",
       "      <td>8</td>\n",
       "      <td>Personal Auto</td>\n",
       "      <td>Personal L3</td>\n",
       "      <td>Offer3</td>\n",
       "      <td>Agent</td>\n",
       "      <td>1131.464935</td>\n",
       "      <td>Four-Door Car</td>\n",
       "      <td>Medsize</td>\n",
       "    </tr>\n",
       "    <tr>\n",
       "      <th>2</th>\n",
       "      <td>AI49188</td>\n",
       "      <td>Nevada</td>\n",
       "      <td>12887.431650</td>\n",
       "      <td>No</td>\n",
       "      <td>Premium</td>\n",
       "      <td>Bachelor</td>\n",
       "      <td>2/19/11</td>\n",
       "      <td>Employed</td>\n",
       "      <td>F</td>\n",
       "      <td>48767</td>\n",
       "      <td>...</td>\n",
       "      <td>38</td>\n",
       "      <td>0</td>\n",
       "      <td>2</td>\n",
       "      <td>Personal Auto</td>\n",
       "      <td>Personal L3</td>\n",
       "      <td>Offer1</td>\n",
       "      <td>Agent</td>\n",
       "      <td>566.472247</td>\n",
       "      <td>Two-Door Car</td>\n",
       "      <td>Medsize</td>\n",
       "    </tr>\n",
       "    <tr>\n",
       "      <th>3</th>\n",
       "      <td>WW63253</td>\n",
       "      <td>California</td>\n",
       "      <td>7645.861827</td>\n",
       "      <td>No</td>\n",
       "      <td>Basic</td>\n",
       "      <td>Bachelor</td>\n",
       "      <td>1/20/11</td>\n",
       "      <td>Unemployed</td>\n",
       "      <td>M</td>\n",
       "      <td>0</td>\n",
       "      <td>...</td>\n",
       "      <td>65</td>\n",
       "      <td>0</td>\n",
       "      <td>7</td>\n",
       "      <td>Corporate Auto</td>\n",
       "      <td>Corporate L2</td>\n",
       "      <td>Offer1</td>\n",
       "      <td>Call Center</td>\n",
       "      <td>529.881344</td>\n",
       "      <td>SUV</td>\n",
       "      <td>Medsize</td>\n",
       "    </tr>\n",
       "    <tr>\n",
       "      <th>4</th>\n",
       "      <td>HB64268</td>\n",
       "      <td>Washington</td>\n",
       "      <td>2813.692575</td>\n",
       "      <td>No</td>\n",
       "      <td>Basic</td>\n",
       "      <td>Bachelor</td>\n",
       "      <td>2/3/11</td>\n",
       "      <td>Employed</td>\n",
       "      <td>M</td>\n",
       "      <td>43836</td>\n",
       "      <td>...</td>\n",
       "      <td>44</td>\n",
       "      <td>0</td>\n",
       "      <td>1</td>\n",
       "      <td>Personal Auto</td>\n",
       "      <td>Personal L1</td>\n",
       "      <td>Offer1</td>\n",
       "      <td>Agent</td>\n",
       "      <td>138.130879</td>\n",
       "      <td>Four-Door Car</td>\n",
       "      <td>Medsize</td>\n",
       "    </tr>\n",
       "  </tbody>\n",
       "</table>\n",
       "<p>5 rows × 24 columns</p>\n",
       "</div>"
      ],
      "text/plain": [
       "  customer       state  customer_lifetime_value response  coverage education  \\\n",
       "0  BU79786  Washington              2763.519279       No     Basic  Bachelor   \n",
       "1  QZ44356     Arizona              6979.535903       No  Extended  Bachelor   \n",
       "2  AI49188      Nevada             12887.431650       No   Premium  Bachelor   \n",
       "3  WW63253  California              7645.861827       No     Basic  Bachelor   \n",
       "4  HB64268  Washington              2813.692575       No     Basic  Bachelor   \n",
       "\n",
       "  effective_to_date employmentstatus gender  income  ...  \\\n",
       "0           2/24/11         Employed      F   56274  ...   \n",
       "1           1/31/11       Unemployed      F       0  ...   \n",
       "2           2/19/11         Employed      F   48767  ...   \n",
       "3           1/20/11       Unemployed      M       0  ...   \n",
       "4            2/3/11         Employed      M   43836  ...   \n",
       "\n",
       "  months_since_policy_inception number_of_open_complaints  number_of_policies  \\\n",
       "0                             5                         0                   1   \n",
       "1                            42                         0                   8   \n",
       "2                            38                         0                   2   \n",
       "3                            65                         0                   7   \n",
       "4                            44                         0                   1   \n",
       "\n",
       "      policy_type        policy  renew_offer_type  sales_channel  \\\n",
       "0  Corporate Auto  Corporate L3            Offer1          Agent   \n",
       "1   Personal Auto   Personal L3            Offer3          Agent   \n",
       "2   Personal Auto   Personal L3            Offer1          Agent   \n",
       "3  Corporate Auto  Corporate L2            Offer1    Call Center   \n",
       "4   Personal Auto   Personal L1            Offer1          Agent   \n",
       "\n",
       "  total_claim_amount  vehicle_class vehicle_size  \n",
       "0         384.811147   Two-Door Car      Medsize  \n",
       "1        1131.464935  Four-Door Car      Medsize  \n",
       "2         566.472247   Two-Door Car      Medsize  \n",
       "3         529.881344            SUV      Medsize  \n",
       "4         138.130879  Four-Door Car      Medsize  \n",
       "\n",
       "[5 rows x 24 columns]"
      ]
     },
     "execution_count": 23,
     "metadata": {},
     "output_type": "execute_result"
    }
   ],
   "source": [
    "data_c.head()"
   ]
  },
  {
   "cell_type": "markdown",
   "id": "cross-internet",
   "metadata": {},
   "source": [
    "- ***Missing Data***"
   ]
  },
  {
   "cell_type": "code",
   "execution_count": 24,
   "id": "current-fraction",
   "metadata": {},
   "outputs": [
    {
     "data": {
      "text/plain": [
       "customer                         0.0\n",
       "state                            0.0\n",
       "customer_lifetime_value          0.0\n",
       "response                         0.0\n",
       "coverage                         0.0\n",
       "education                        0.0\n",
       "effective_to_date                0.0\n",
       "employmentstatus                 0.0\n",
       "gender                           0.0\n",
       "income                           0.0\n",
       "location_code                    0.0\n",
       "marital_status                   0.0\n",
       "monthly_premium_auto             0.0\n",
       "months_since_last_claim          0.0\n",
       "months_since_policy_inception    0.0\n",
       "number_of_open_complaints        0.0\n",
       "number_of_policies               0.0\n",
       "policy_type                      0.0\n",
       "policy                           0.0\n",
       "renew_offer_type                 0.0\n",
       "sales_channel                    0.0\n",
       "total_claim_amount               0.0\n",
       "vehicle_class                    0.0\n",
       "vehicle_size                     0.0\n",
       "dtype: float64"
      ]
     },
     "execution_count": 24,
     "metadata": {},
     "output_type": "execute_result"
    }
   ],
   "source": [
    "data_c.isna().mean().round(4) *100"
   ]
  },
  {
   "cell_type": "code",
   "execution_count": 25,
   "id": "excellent-polish",
   "metadata": {},
   "outputs": [
    {
     "name": "stdout",
     "output_type": "stream",
     "text": [
      "<class 'pandas.core.frame.DataFrame'>\n",
      "RangeIndex: 9134 entries, 0 to 9133\n",
      "Data columns (total 24 columns):\n",
      " #   Column                         Non-Null Count  Dtype  \n",
      "---  ------                         --------------  -----  \n",
      " 0   customer                       9134 non-null   object \n",
      " 1   state                          9134 non-null   object \n",
      " 2   customer_lifetime_value        9134 non-null   float64\n",
      " 3   response                       9134 non-null   object \n",
      " 4   coverage                       9134 non-null   object \n",
      " 5   education                      9134 non-null   object \n",
      " 6   effective_to_date              9134 non-null   object \n",
      " 7   employmentstatus               9134 non-null   object \n",
      " 8   gender                         9134 non-null   object \n",
      " 9   income                         9134 non-null   int64  \n",
      " 10  location_code                  9134 non-null   object \n",
      " 11  marital_status                 9134 non-null   object \n",
      " 12  monthly_premium_auto           9134 non-null   int64  \n",
      " 13  months_since_last_claim        9134 non-null   int64  \n",
      " 14  months_since_policy_inception  9134 non-null   int64  \n",
      " 15  number_of_open_complaints      9134 non-null   int64  \n",
      " 16  number_of_policies             9134 non-null   int64  \n",
      " 17  policy_type                    9134 non-null   object \n",
      " 18  policy                         9134 non-null   object \n",
      " 19  renew_offer_type               9134 non-null   object \n",
      " 20  sales_channel                  9134 non-null   object \n",
      " 21  total_claim_amount             9134 non-null   float64\n",
      " 22  vehicle_class                  9134 non-null   object \n",
      " 23  vehicle_size                   9134 non-null   object \n",
      "dtypes: float64(2), int64(6), object(16)\n",
      "memory usage: 1.7+ MB\n"
     ]
    }
   ],
   "source": [
    "data_c.info()"
   ]
  },
  {
   "cell_type": "markdown",
   "id": "elect-stopping",
   "metadata": {},
   "source": [
    "Result: There are no NaN."
   ]
  },
  {
   "cell_type": "markdown",
   "id": "ideal-miami",
   "metadata": {},
   "source": [
    "- ***check the datatypes***"
   ]
  },
  {
   "cell_type": "code",
   "execution_count": 26,
   "id": "mineral-brother",
   "metadata": {},
   "outputs": [
    {
     "data": {
      "text/plain": [
       "customer                          object\n",
       "state                             object\n",
       "customer_lifetime_value          float64\n",
       "response                          object\n",
       "coverage                          object\n",
       "education                         object\n",
       "effective_to_date                 object\n",
       "employmentstatus                  object\n",
       "gender                            object\n",
       "income                             int64\n",
       "location_code                     object\n",
       "marital_status                    object\n",
       "monthly_premium_auto               int64\n",
       "months_since_last_claim            int64\n",
       "months_since_policy_inception      int64\n",
       "number_of_open_complaints          int64\n",
       "number_of_policies                 int64\n",
       "policy_type                       object\n",
       "policy                            object\n",
       "renew_offer_type                  object\n",
       "sales_channel                     object\n",
       "total_claim_amount               float64\n",
       "vehicle_class                     object\n",
       "vehicle_size                      object\n",
       "dtype: object"
      ]
     },
     "execution_count": 26,
     "metadata": {},
     "output_type": "execute_result"
    }
   ],
   "source": [
    "data_c.dtypes"
   ]
  },
  {
   "cell_type": "code",
   "execution_count": 27,
   "id": "theoretical-cutting",
   "metadata": {},
   "outputs": [
    {
     "data": {
      "text/html": [
       "<div>\n",
       "<style scoped>\n",
       "    .dataframe tbody tr th:only-of-type {\n",
       "        vertical-align: middle;\n",
       "    }\n",
       "\n",
       "    .dataframe tbody tr th {\n",
       "        vertical-align: top;\n",
       "    }\n",
       "\n",
       "    .dataframe thead th {\n",
       "        text-align: right;\n",
       "    }\n",
       "</style>\n",
       "<table border=\"1\" class=\"dataframe\">\n",
       "  <thead>\n",
       "    <tr style=\"text-align: right;\">\n",
       "      <th></th>\n",
       "      <th>customer</th>\n",
       "      <th>state</th>\n",
       "      <th>customer_lifetime_value</th>\n",
       "      <th>response</th>\n",
       "      <th>coverage</th>\n",
       "      <th>education</th>\n",
       "      <th>effective_to_date</th>\n",
       "      <th>employmentstatus</th>\n",
       "      <th>gender</th>\n",
       "      <th>income</th>\n",
       "      <th>...</th>\n",
       "      <th>months_since_policy_inception</th>\n",
       "      <th>number_of_open_complaints</th>\n",
       "      <th>number_of_policies</th>\n",
       "      <th>policy_type</th>\n",
       "      <th>policy</th>\n",
       "      <th>renew_offer_type</th>\n",
       "      <th>sales_channel</th>\n",
       "      <th>total_claim_amount</th>\n",
       "      <th>vehicle_class</th>\n",
       "      <th>vehicle_size</th>\n",
       "    </tr>\n",
       "  </thead>\n",
       "  <tbody>\n",
       "    <tr>\n",
       "      <th>0</th>\n",
       "      <td>BU79786</td>\n",
       "      <td>Washington</td>\n",
       "      <td>2763.519279</td>\n",
       "      <td>No</td>\n",
       "      <td>Basic</td>\n",
       "      <td>Bachelor</td>\n",
       "      <td>2/24/11</td>\n",
       "      <td>Employed</td>\n",
       "      <td>F</td>\n",
       "      <td>56274</td>\n",
       "      <td>...</td>\n",
       "      <td>5</td>\n",
       "      <td>0</td>\n",
       "      <td>1</td>\n",
       "      <td>Corporate Auto</td>\n",
       "      <td>Corporate L3</td>\n",
       "      <td>Offer1</td>\n",
       "      <td>Agent</td>\n",
       "      <td>384.811147</td>\n",
       "      <td>Two-Door Car</td>\n",
       "      <td>Medsize</td>\n",
       "    </tr>\n",
       "    <tr>\n",
       "      <th>1</th>\n",
       "      <td>QZ44356</td>\n",
       "      <td>Arizona</td>\n",
       "      <td>6979.535903</td>\n",
       "      <td>No</td>\n",
       "      <td>Extended</td>\n",
       "      <td>Bachelor</td>\n",
       "      <td>1/31/11</td>\n",
       "      <td>Unemployed</td>\n",
       "      <td>F</td>\n",
       "      <td>0</td>\n",
       "      <td>...</td>\n",
       "      <td>42</td>\n",
       "      <td>0</td>\n",
       "      <td>8</td>\n",
       "      <td>Personal Auto</td>\n",
       "      <td>Personal L3</td>\n",
       "      <td>Offer3</td>\n",
       "      <td>Agent</td>\n",
       "      <td>1131.464935</td>\n",
       "      <td>Four-Door Car</td>\n",
       "      <td>Medsize</td>\n",
       "    </tr>\n",
       "    <tr>\n",
       "      <th>2</th>\n",
       "      <td>AI49188</td>\n",
       "      <td>Nevada</td>\n",
       "      <td>12887.431650</td>\n",
       "      <td>No</td>\n",
       "      <td>Premium</td>\n",
       "      <td>Bachelor</td>\n",
       "      <td>2/19/11</td>\n",
       "      <td>Employed</td>\n",
       "      <td>F</td>\n",
       "      <td>48767</td>\n",
       "      <td>...</td>\n",
       "      <td>38</td>\n",
       "      <td>0</td>\n",
       "      <td>2</td>\n",
       "      <td>Personal Auto</td>\n",
       "      <td>Personal L3</td>\n",
       "      <td>Offer1</td>\n",
       "      <td>Agent</td>\n",
       "      <td>566.472247</td>\n",
       "      <td>Two-Door Car</td>\n",
       "      <td>Medsize</td>\n",
       "    </tr>\n",
       "    <tr>\n",
       "      <th>3</th>\n",
       "      <td>WW63253</td>\n",
       "      <td>California</td>\n",
       "      <td>7645.861827</td>\n",
       "      <td>No</td>\n",
       "      <td>Basic</td>\n",
       "      <td>Bachelor</td>\n",
       "      <td>1/20/11</td>\n",
       "      <td>Unemployed</td>\n",
       "      <td>M</td>\n",
       "      <td>0</td>\n",
       "      <td>...</td>\n",
       "      <td>65</td>\n",
       "      <td>0</td>\n",
       "      <td>7</td>\n",
       "      <td>Corporate Auto</td>\n",
       "      <td>Corporate L2</td>\n",
       "      <td>Offer1</td>\n",
       "      <td>Call Center</td>\n",
       "      <td>529.881344</td>\n",
       "      <td>SUV</td>\n",
       "      <td>Medsize</td>\n",
       "    </tr>\n",
       "    <tr>\n",
       "      <th>4</th>\n",
       "      <td>HB64268</td>\n",
       "      <td>Washington</td>\n",
       "      <td>2813.692575</td>\n",
       "      <td>No</td>\n",
       "      <td>Basic</td>\n",
       "      <td>Bachelor</td>\n",
       "      <td>2/3/11</td>\n",
       "      <td>Employed</td>\n",
       "      <td>M</td>\n",
       "      <td>43836</td>\n",
       "      <td>...</td>\n",
       "      <td>44</td>\n",
       "      <td>0</td>\n",
       "      <td>1</td>\n",
       "      <td>Personal Auto</td>\n",
       "      <td>Personal L1</td>\n",
       "      <td>Offer1</td>\n",
       "      <td>Agent</td>\n",
       "      <td>138.130879</td>\n",
       "      <td>Four-Door Car</td>\n",
       "      <td>Medsize</td>\n",
       "    </tr>\n",
       "  </tbody>\n",
       "</table>\n",
       "<p>5 rows × 24 columns</p>\n",
       "</div>"
      ],
      "text/plain": [
       "  customer       state  customer_lifetime_value response  coverage education  \\\n",
       "0  BU79786  Washington              2763.519279       No     Basic  Bachelor   \n",
       "1  QZ44356     Arizona              6979.535903       No  Extended  Bachelor   \n",
       "2  AI49188      Nevada             12887.431650       No   Premium  Bachelor   \n",
       "3  WW63253  California              7645.861827       No     Basic  Bachelor   \n",
       "4  HB64268  Washington              2813.692575       No     Basic  Bachelor   \n",
       "\n",
       "  effective_to_date employmentstatus gender  income  ...  \\\n",
       "0           2/24/11         Employed      F   56274  ...   \n",
       "1           1/31/11       Unemployed      F       0  ...   \n",
       "2           2/19/11         Employed      F   48767  ...   \n",
       "3           1/20/11       Unemployed      M       0  ...   \n",
       "4            2/3/11         Employed      M   43836  ...   \n",
       "\n",
       "  months_since_policy_inception number_of_open_complaints  number_of_policies  \\\n",
       "0                             5                         0                   1   \n",
       "1                            42                         0                   8   \n",
       "2                            38                         0                   2   \n",
       "3                            65                         0                   7   \n",
       "4                            44                         0                   1   \n",
       "\n",
       "      policy_type        policy  renew_offer_type  sales_channel  \\\n",
       "0  Corporate Auto  Corporate L3            Offer1          Agent   \n",
       "1   Personal Auto   Personal L3            Offer3          Agent   \n",
       "2   Personal Auto   Personal L3            Offer1          Agent   \n",
       "3  Corporate Auto  Corporate L2            Offer1    Call Center   \n",
       "4   Personal Auto   Personal L1            Offer1          Agent   \n",
       "\n",
       "  total_claim_amount  vehicle_class vehicle_size  \n",
       "0         384.811147   Two-Door Car      Medsize  \n",
       "1        1131.464935  Four-Door Car      Medsize  \n",
       "2         566.472247   Two-Door Car      Medsize  \n",
       "3         529.881344            SUV      Medsize  \n",
       "4         138.130879  Four-Door Car      Medsize  \n",
       "\n",
       "[5 rows x 24 columns]"
      ]
     },
     "execution_count": 27,
     "metadata": {},
     "output_type": "execute_result"
    }
   ],
   "source": [
    "data_c.head()"
   ]
  },
  {
   "cell_type": "markdown",
   "id": "through-detail",
   "metadata": {},
   "source": [
    "- ***change the column effective_to_date from object to date***"
   ]
  },
  {
   "cell_type": "code",
   "execution_count": 28,
   "id": "favorite-injection",
   "metadata": {},
   "outputs": [],
   "source": [
    "data_c['effective_to_date'] = pd.to_datetime(data_c['effective_to_date'], errors='coerce')"
   ]
  },
  {
   "cell_type": "code",
   "execution_count": 29,
   "id": "muslim-sterling",
   "metadata": {},
   "outputs": [
    {
     "data": {
      "text/plain": [
       "customer                                 object\n",
       "state                                    object\n",
       "customer_lifetime_value                 float64\n",
       "response                                 object\n",
       "coverage                                 object\n",
       "education                                object\n",
       "effective_to_date                datetime64[ns]\n",
       "employmentstatus                         object\n",
       "gender                                   object\n",
       "income                                    int64\n",
       "location_code                            object\n",
       "marital_status                           object\n",
       "monthly_premium_auto                      int64\n",
       "months_since_last_claim                   int64\n",
       "months_since_policy_inception             int64\n",
       "number_of_open_complaints                 int64\n",
       "number_of_policies                        int64\n",
       "policy_type                              object\n",
       "policy                                   object\n",
       "renew_offer_type                         object\n",
       "sales_channel                            object\n",
       "total_claim_amount                      float64\n",
       "vehicle_class                            object\n",
       "vehicle_size                             object\n",
       "dtype: object"
      ]
     },
     "execution_count": 29,
     "metadata": {},
     "output_type": "execute_result"
    }
   ],
   "source": [
    "data_c.dtypes"
   ]
  },
  {
   "cell_type": "markdown",
   "id": "saved-prefix",
   "metadata": {},
   "source": [
    "- ***Transform the time variables (day, week and month) to integers.***"
   ]
  },
  {
   "cell_type": "code",
   "execution_count": 30,
   "id": "expired-found",
   "metadata": {},
   "outputs": [],
   "source": [
    "data_c['day'] = pd.DatetimeIndex(data_c['effective_to_date']).day"
   ]
  },
  {
   "cell_type": "code",
   "execution_count": 31,
   "id": "expired-short",
   "metadata": {},
   "outputs": [],
   "source": [
    "data_c['month'] = pd.DatetimeIndex(data_c['effective_to_date']).month"
   ]
  },
  {
   "cell_type": "code",
   "execution_count": 32,
   "id": "original-persian",
   "metadata": {},
   "outputs": [
    {
     "name": "stderr",
     "output_type": "stream",
     "text": [
      "<ipython-input-32-f47953e2e7fa>:1: FutureWarning: weekofyear and week have been deprecated, please use DatetimeIndex.isocalendar().week instead, which returns a Series.  To exactly reproduce the behavior of week and weekofyear and return an Index, you may call pd.Int64Index(idx.isocalendar().week)\n",
      "  data_c['weeknumber'] = pd.DatetimeIndex(data_c['effective_to_date']).week\n"
     ]
    }
   ],
   "source": [
    "data_c['weeknumber'] = pd.DatetimeIndex(data_c['effective_to_date']).week"
   ]
  },
  {
   "cell_type": "code",
   "execution_count": 33,
   "id": "trying-roman",
   "metadata": {},
   "outputs": [
    {
     "data": {
      "text/html": [
       "<div>\n",
       "<style scoped>\n",
       "    .dataframe tbody tr th:only-of-type {\n",
       "        vertical-align: middle;\n",
       "    }\n",
       "\n",
       "    .dataframe tbody tr th {\n",
       "        vertical-align: top;\n",
       "    }\n",
       "\n",
       "    .dataframe thead th {\n",
       "        text-align: right;\n",
       "    }\n",
       "</style>\n",
       "<table border=\"1\" class=\"dataframe\">\n",
       "  <thead>\n",
       "    <tr style=\"text-align: right;\">\n",
       "      <th></th>\n",
       "      <th>customer</th>\n",
       "      <th>state</th>\n",
       "      <th>customer_lifetime_value</th>\n",
       "      <th>response</th>\n",
       "      <th>coverage</th>\n",
       "      <th>education</th>\n",
       "      <th>effective_to_date</th>\n",
       "      <th>employmentstatus</th>\n",
       "      <th>gender</th>\n",
       "      <th>income</th>\n",
       "      <th>...</th>\n",
       "      <th>policy_type</th>\n",
       "      <th>policy</th>\n",
       "      <th>renew_offer_type</th>\n",
       "      <th>sales_channel</th>\n",
       "      <th>total_claim_amount</th>\n",
       "      <th>vehicle_class</th>\n",
       "      <th>vehicle_size</th>\n",
       "      <th>day</th>\n",
       "      <th>month</th>\n",
       "      <th>weeknumber</th>\n",
       "    </tr>\n",
       "  </thead>\n",
       "  <tbody>\n",
       "    <tr>\n",
       "      <th>0</th>\n",
       "      <td>BU79786</td>\n",
       "      <td>Washington</td>\n",
       "      <td>2763.519279</td>\n",
       "      <td>No</td>\n",
       "      <td>Basic</td>\n",
       "      <td>Bachelor</td>\n",
       "      <td>2011-02-24</td>\n",
       "      <td>Employed</td>\n",
       "      <td>F</td>\n",
       "      <td>56274</td>\n",
       "      <td>...</td>\n",
       "      <td>Corporate Auto</td>\n",
       "      <td>Corporate L3</td>\n",
       "      <td>Offer1</td>\n",
       "      <td>Agent</td>\n",
       "      <td>384.811147</td>\n",
       "      <td>Two-Door Car</td>\n",
       "      <td>Medsize</td>\n",
       "      <td>24</td>\n",
       "      <td>2</td>\n",
       "      <td>8</td>\n",
       "    </tr>\n",
       "    <tr>\n",
       "      <th>1</th>\n",
       "      <td>QZ44356</td>\n",
       "      <td>Arizona</td>\n",
       "      <td>6979.535903</td>\n",
       "      <td>No</td>\n",
       "      <td>Extended</td>\n",
       "      <td>Bachelor</td>\n",
       "      <td>2011-01-31</td>\n",
       "      <td>Unemployed</td>\n",
       "      <td>F</td>\n",
       "      <td>0</td>\n",
       "      <td>...</td>\n",
       "      <td>Personal Auto</td>\n",
       "      <td>Personal L3</td>\n",
       "      <td>Offer3</td>\n",
       "      <td>Agent</td>\n",
       "      <td>1131.464935</td>\n",
       "      <td>Four-Door Car</td>\n",
       "      <td>Medsize</td>\n",
       "      <td>31</td>\n",
       "      <td>1</td>\n",
       "      <td>5</td>\n",
       "    </tr>\n",
       "    <tr>\n",
       "      <th>2</th>\n",
       "      <td>AI49188</td>\n",
       "      <td>Nevada</td>\n",
       "      <td>12887.431650</td>\n",
       "      <td>No</td>\n",
       "      <td>Premium</td>\n",
       "      <td>Bachelor</td>\n",
       "      <td>2011-02-19</td>\n",
       "      <td>Employed</td>\n",
       "      <td>F</td>\n",
       "      <td>48767</td>\n",
       "      <td>...</td>\n",
       "      <td>Personal Auto</td>\n",
       "      <td>Personal L3</td>\n",
       "      <td>Offer1</td>\n",
       "      <td>Agent</td>\n",
       "      <td>566.472247</td>\n",
       "      <td>Two-Door Car</td>\n",
       "      <td>Medsize</td>\n",
       "      <td>19</td>\n",
       "      <td>2</td>\n",
       "      <td>7</td>\n",
       "    </tr>\n",
       "    <tr>\n",
       "      <th>3</th>\n",
       "      <td>WW63253</td>\n",
       "      <td>California</td>\n",
       "      <td>7645.861827</td>\n",
       "      <td>No</td>\n",
       "      <td>Basic</td>\n",
       "      <td>Bachelor</td>\n",
       "      <td>2011-01-20</td>\n",
       "      <td>Unemployed</td>\n",
       "      <td>M</td>\n",
       "      <td>0</td>\n",
       "      <td>...</td>\n",
       "      <td>Corporate Auto</td>\n",
       "      <td>Corporate L2</td>\n",
       "      <td>Offer1</td>\n",
       "      <td>Call Center</td>\n",
       "      <td>529.881344</td>\n",
       "      <td>SUV</td>\n",
       "      <td>Medsize</td>\n",
       "      <td>20</td>\n",
       "      <td>1</td>\n",
       "      <td>3</td>\n",
       "    </tr>\n",
       "    <tr>\n",
       "      <th>4</th>\n",
       "      <td>HB64268</td>\n",
       "      <td>Washington</td>\n",
       "      <td>2813.692575</td>\n",
       "      <td>No</td>\n",
       "      <td>Basic</td>\n",
       "      <td>Bachelor</td>\n",
       "      <td>2011-02-03</td>\n",
       "      <td>Employed</td>\n",
       "      <td>M</td>\n",
       "      <td>43836</td>\n",
       "      <td>...</td>\n",
       "      <td>Personal Auto</td>\n",
       "      <td>Personal L1</td>\n",
       "      <td>Offer1</td>\n",
       "      <td>Agent</td>\n",
       "      <td>138.130879</td>\n",
       "      <td>Four-Door Car</td>\n",
       "      <td>Medsize</td>\n",
       "      <td>3</td>\n",
       "      <td>2</td>\n",
       "      <td>5</td>\n",
       "    </tr>\n",
       "  </tbody>\n",
       "</table>\n",
       "<p>5 rows × 27 columns</p>\n",
       "</div>"
      ],
      "text/plain": [
       "  customer       state  customer_lifetime_value response  coverage education  \\\n",
       "0  BU79786  Washington              2763.519279       No     Basic  Bachelor   \n",
       "1  QZ44356     Arizona              6979.535903       No  Extended  Bachelor   \n",
       "2  AI49188      Nevada             12887.431650       No   Premium  Bachelor   \n",
       "3  WW63253  California              7645.861827       No     Basic  Bachelor   \n",
       "4  HB64268  Washington              2813.692575       No     Basic  Bachelor   \n",
       "\n",
       "  effective_to_date employmentstatus gender  income  ...     policy_type  \\\n",
       "0        2011-02-24         Employed      F   56274  ...  Corporate Auto   \n",
       "1        2011-01-31       Unemployed      F       0  ...   Personal Auto   \n",
       "2        2011-02-19         Employed      F   48767  ...   Personal Auto   \n",
       "3        2011-01-20       Unemployed      M       0  ...  Corporate Auto   \n",
       "4        2011-02-03         Employed      M   43836  ...   Personal Auto   \n",
       "\n",
       "         policy  renew_offer_type  sales_channel  total_claim_amount  \\\n",
       "0  Corporate L3            Offer1          Agent          384.811147   \n",
       "1   Personal L3            Offer3          Agent         1131.464935   \n",
       "2   Personal L3            Offer1          Agent          566.472247   \n",
       "3  Corporate L2            Offer1    Call Center          529.881344   \n",
       "4   Personal L1            Offer1          Agent          138.130879   \n",
       "\n",
       "   vehicle_class  vehicle_size day month weeknumber  \n",
       "0   Two-Door Car       Medsize  24     2          8  \n",
       "1  Four-Door Car       Medsize  31     1          5  \n",
       "2   Two-Door Car       Medsize  19     2          7  \n",
       "3            SUV       Medsize  20     1          3  \n",
       "4  Four-Door Car       Medsize   3     2          5  \n",
       "\n",
       "[5 rows x 27 columns]"
      ]
     },
     "execution_count": 33,
     "metadata": {},
     "output_type": "execute_result"
    }
   ],
   "source": [
    "data_c.head()"
   ]
  },
  {
   "cell_type": "markdown",
   "id": "mounted-contractor",
   "metadata": {},
   "source": [
    "\n",
    "\n",
    "Result: The column 'effective_to_date' is split into day, month and week. The column 'effective_to_date' will remove from the dataset.\n",
    "\n"
   ]
  },
  {
   "cell_type": "code",
   "execution_count": 34,
   "id": "waiting-stylus",
   "metadata": {},
   "outputs": [],
   "source": [
    "data_c = data_c.drop(['effective_to_date'], axis=1)"
   ]
  },
  {
   "cell_type": "code",
   "execution_count": 35,
   "id": "european-oracle",
   "metadata": {},
   "outputs": [
    {
     "data": {
      "text/html": [
       "<div>\n",
       "<style scoped>\n",
       "    .dataframe tbody tr th:only-of-type {\n",
       "        vertical-align: middle;\n",
       "    }\n",
       "\n",
       "    .dataframe tbody tr th {\n",
       "        vertical-align: top;\n",
       "    }\n",
       "\n",
       "    .dataframe thead th {\n",
       "        text-align: right;\n",
       "    }\n",
       "</style>\n",
       "<table border=\"1\" class=\"dataframe\">\n",
       "  <thead>\n",
       "    <tr style=\"text-align: right;\">\n",
       "      <th></th>\n",
       "      <th>customer</th>\n",
       "      <th>state</th>\n",
       "      <th>customer_lifetime_value</th>\n",
       "      <th>response</th>\n",
       "      <th>coverage</th>\n",
       "      <th>education</th>\n",
       "      <th>employmentstatus</th>\n",
       "      <th>gender</th>\n",
       "      <th>income</th>\n",
       "      <th>location_code</th>\n",
       "      <th>...</th>\n",
       "      <th>policy_type</th>\n",
       "      <th>policy</th>\n",
       "      <th>renew_offer_type</th>\n",
       "      <th>sales_channel</th>\n",
       "      <th>total_claim_amount</th>\n",
       "      <th>vehicle_class</th>\n",
       "      <th>vehicle_size</th>\n",
       "      <th>day</th>\n",
       "      <th>month</th>\n",
       "      <th>weeknumber</th>\n",
       "    </tr>\n",
       "  </thead>\n",
       "  <tbody>\n",
       "    <tr>\n",
       "      <th>0</th>\n",
       "      <td>BU79786</td>\n",
       "      <td>Washington</td>\n",
       "      <td>2763.519279</td>\n",
       "      <td>No</td>\n",
       "      <td>Basic</td>\n",
       "      <td>Bachelor</td>\n",
       "      <td>Employed</td>\n",
       "      <td>F</td>\n",
       "      <td>56274</td>\n",
       "      <td>Suburban</td>\n",
       "      <td>...</td>\n",
       "      <td>Corporate Auto</td>\n",
       "      <td>Corporate L3</td>\n",
       "      <td>Offer1</td>\n",
       "      <td>Agent</td>\n",
       "      <td>384.811147</td>\n",
       "      <td>Two-Door Car</td>\n",
       "      <td>Medsize</td>\n",
       "      <td>24</td>\n",
       "      <td>2</td>\n",
       "      <td>8</td>\n",
       "    </tr>\n",
       "    <tr>\n",
       "      <th>1</th>\n",
       "      <td>QZ44356</td>\n",
       "      <td>Arizona</td>\n",
       "      <td>6979.535903</td>\n",
       "      <td>No</td>\n",
       "      <td>Extended</td>\n",
       "      <td>Bachelor</td>\n",
       "      <td>Unemployed</td>\n",
       "      <td>F</td>\n",
       "      <td>0</td>\n",
       "      <td>Suburban</td>\n",
       "      <td>...</td>\n",
       "      <td>Personal Auto</td>\n",
       "      <td>Personal L3</td>\n",
       "      <td>Offer3</td>\n",
       "      <td>Agent</td>\n",
       "      <td>1131.464935</td>\n",
       "      <td>Four-Door Car</td>\n",
       "      <td>Medsize</td>\n",
       "      <td>31</td>\n",
       "      <td>1</td>\n",
       "      <td>5</td>\n",
       "    </tr>\n",
       "    <tr>\n",
       "      <th>2</th>\n",
       "      <td>AI49188</td>\n",
       "      <td>Nevada</td>\n",
       "      <td>12887.431650</td>\n",
       "      <td>No</td>\n",
       "      <td>Premium</td>\n",
       "      <td>Bachelor</td>\n",
       "      <td>Employed</td>\n",
       "      <td>F</td>\n",
       "      <td>48767</td>\n",
       "      <td>Suburban</td>\n",
       "      <td>...</td>\n",
       "      <td>Personal Auto</td>\n",
       "      <td>Personal L3</td>\n",
       "      <td>Offer1</td>\n",
       "      <td>Agent</td>\n",
       "      <td>566.472247</td>\n",
       "      <td>Two-Door Car</td>\n",
       "      <td>Medsize</td>\n",
       "      <td>19</td>\n",
       "      <td>2</td>\n",
       "      <td>7</td>\n",
       "    </tr>\n",
       "    <tr>\n",
       "      <th>3</th>\n",
       "      <td>WW63253</td>\n",
       "      <td>California</td>\n",
       "      <td>7645.861827</td>\n",
       "      <td>No</td>\n",
       "      <td>Basic</td>\n",
       "      <td>Bachelor</td>\n",
       "      <td>Unemployed</td>\n",
       "      <td>M</td>\n",
       "      <td>0</td>\n",
       "      <td>Suburban</td>\n",
       "      <td>...</td>\n",
       "      <td>Corporate Auto</td>\n",
       "      <td>Corporate L2</td>\n",
       "      <td>Offer1</td>\n",
       "      <td>Call Center</td>\n",
       "      <td>529.881344</td>\n",
       "      <td>SUV</td>\n",
       "      <td>Medsize</td>\n",
       "      <td>20</td>\n",
       "      <td>1</td>\n",
       "      <td>3</td>\n",
       "    </tr>\n",
       "    <tr>\n",
       "      <th>4</th>\n",
       "      <td>HB64268</td>\n",
       "      <td>Washington</td>\n",
       "      <td>2813.692575</td>\n",
       "      <td>No</td>\n",
       "      <td>Basic</td>\n",
       "      <td>Bachelor</td>\n",
       "      <td>Employed</td>\n",
       "      <td>M</td>\n",
       "      <td>43836</td>\n",
       "      <td>Rural</td>\n",
       "      <td>...</td>\n",
       "      <td>Personal Auto</td>\n",
       "      <td>Personal L1</td>\n",
       "      <td>Offer1</td>\n",
       "      <td>Agent</td>\n",
       "      <td>138.130879</td>\n",
       "      <td>Four-Door Car</td>\n",
       "      <td>Medsize</td>\n",
       "      <td>3</td>\n",
       "      <td>2</td>\n",
       "      <td>5</td>\n",
       "    </tr>\n",
       "  </tbody>\n",
       "</table>\n",
       "<p>5 rows × 26 columns</p>\n",
       "</div>"
      ],
      "text/plain": [
       "  customer       state  customer_lifetime_value response  coverage education  \\\n",
       "0  BU79786  Washington              2763.519279       No     Basic  Bachelor   \n",
       "1  QZ44356     Arizona              6979.535903       No  Extended  Bachelor   \n",
       "2  AI49188      Nevada             12887.431650       No   Premium  Bachelor   \n",
       "3  WW63253  California              7645.861827       No     Basic  Bachelor   \n",
       "4  HB64268  Washington              2813.692575       No     Basic  Bachelor   \n",
       "\n",
       "  employmentstatus gender  income location_code  ...     policy_type  \\\n",
       "0         Employed      F   56274      Suburban  ...  Corporate Auto   \n",
       "1       Unemployed      F       0      Suburban  ...   Personal Auto   \n",
       "2         Employed      F   48767      Suburban  ...   Personal Auto   \n",
       "3       Unemployed      M       0      Suburban  ...  Corporate Auto   \n",
       "4         Employed      M   43836         Rural  ...   Personal Auto   \n",
       "\n",
       "         policy  renew_offer_type  sales_channel  total_claim_amount  \\\n",
       "0  Corporate L3            Offer1          Agent          384.811147   \n",
       "1   Personal L3            Offer3          Agent         1131.464935   \n",
       "2   Personal L3            Offer1          Agent          566.472247   \n",
       "3  Corporate L2            Offer1    Call Center          529.881344   \n",
       "4   Personal L1            Offer1          Agent          138.130879   \n",
       "\n",
       "   vehicle_class vehicle_size day month weeknumber  \n",
       "0   Two-Door Car      Medsize  24     2          8  \n",
       "1  Four-Door Car      Medsize  31     1          5  \n",
       "2   Two-Door Car      Medsize  19     2          7  \n",
       "3            SUV      Medsize  20     1          3  \n",
       "4  Four-Door Car      Medsize   3     2          5  \n",
       "\n",
       "[5 rows x 26 columns]"
      ]
     },
     "execution_count": 35,
     "metadata": {},
     "output_type": "execute_result"
    }
   ],
   "source": [
    "data_c.head()"
   ]
  },
  {
   "cell_type": "code",
   "execution_count": 36,
   "id": "outdoor-current",
   "metadata": {},
   "outputs": [
    {
     "data": {
      "text/plain": [
       "customer                          object\n",
       "state                             object\n",
       "customer_lifetime_value          float64\n",
       "response                          object\n",
       "coverage                          object\n",
       "education                         object\n",
       "employmentstatus                  object\n",
       "gender                            object\n",
       "income                             int64\n",
       "location_code                     object\n",
       "marital_status                    object\n",
       "monthly_premium_auto               int64\n",
       "months_since_last_claim            int64\n",
       "months_since_policy_inception      int64\n",
       "number_of_open_complaints          int64\n",
       "number_of_policies                 int64\n",
       "policy_type                       object\n",
       "policy                            object\n",
       "renew_offer_type                  object\n",
       "sales_channel                     object\n",
       "total_claim_amount               float64\n",
       "vehicle_class                     object\n",
       "vehicle_size                      object\n",
       "day                                int64\n",
       "month                              int64\n",
       "weeknumber                         int64\n",
       "dtype: object"
      ]
     },
     "execution_count": 36,
     "metadata": {},
     "output_type": "execute_result"
    }
   ],
   "source": [
    "data_c.dtypes"
   ]
  },
  {
   "cell_type": "markdown",
   "id": "defensive-battlefield",
   "metadata": {},
   "source": [
    "***check the duplicates***"
   ]
  },
  {
   "cell_type": "code",
   "execution_count": 37,
   "id": "motivated-absolute",
   "metadata": {},
   "outputs": [],
   "source": [
    "data_c=data_c.drop_duplicates()"
   ]
  },
  {
   "cell_type": "code",
   "execution_count": 39,
   "id": "listed-mountain",
   "metadata": {},
   "outputs": [
    {
     "data": {
      "text/plain": [
       "(9134, 26)"
      ]
     },
     "execution_count": 39,
     "metadata": {},
     "output_type": "execute_result"
    }
   ],
   "source": [
    "data_c.shape"
   ]
  },
  {
   "cell_type": "markdown",
   "id": "broad-commonwealth",
   "metadata": {},
   "source": [
    "Result: There are no duplicates, Index must not be reset."
   ]
  },
  {
   "cell_type": "markdown",
   "id": "italian-liberia",
   "metadata": {},
   "source": [
    "- ***Split the dataset into data_num (only numerical data) only to check the outliers.***"
   ]
  },
  {
   "cell_type": "code",
   "execution_count": null,
   "id": "musical-typing",
   "metadata": {},
   "outputs": [],
   "source": [
    "data_num = data_c.select_dtypes(include = np.number)"
   ]
  },
  {
   "cell_type": "markdown",
   "id": "looking-poultry",
   "metadata": {},
   "source": [
    " *** Check the outliers in the numerical data***\n",
    " - using the boxplot to visalize the outliers and describe()-function"
   ]
  },
  {
   "cell_type": "code",
   "execution_count": null,
   "id": "ranging-venice",
   "metadata": {},
   "outputs": [],
   "source": [
    "calc_data_num = data_num.describe()\n",
    "calc_data_num"
   ]
  },
  {
   "cell_type": "markdown",
   "id": "dependent-emerald",
   "metadata": {},
   "source": [
    "***- Calculate the borders (whisker) for Outliers***"
   ]
  },
  {
   "cell_type": "code",
   "execution_count": null,
   "id": "anonymous-stanley",
   "metadata": {},
   "outputs": [],
   "source": [
    "Q1 = data_c.quantile(q=0.25)\n",
    "Q1"
   ]
  },
  {
   "cell_type": "code",
   "execution_count": null,
   "id": "breeding-offense",
   "metadata": {},
   "outputs": [],
   "source": [
    "Q3 = data_c.quantile(q=0.75)\n",
    "Q3"
   ]
  },
  {
   "cell_type": "code",
   "execution_count": null,
   "id": "relevant-dancing",
   "metadata": {},
   "outputs": [],
   "source": [
    "IQR = Q3-Q1\n",
    "IQR"
   ]
  },
  {
   "cell_type": "code",
   "execution_count": null,
   "id": "unique-marathon",
   "metadata": {},
   "outputs": [],
   "source": [
    "lower_whisker = Q1 - IQR*1,5\n",
    "lower_whisker"
   ]
  },
  {
   "cell_type": "code",
   "execution_count": null,
   "id": "induced-advisory",
   "metadata": {},
   "outputs": [],
   "source": [
    "upper_whisker = Q3 + IQR*1,5\n",
    "upper_whisker"
   ]
  },
  {
   "cell_type": "markdown",
   "id": "reasonable-norman",
   "metadata": {},
   "source": [
    "***Visualization of the outliers***"
   ]
  },
  {
   "cell_type": "code",
   "execution_count": null,
   "id": "desperate-alcohol",
   "metadata": {},
   "outputs": [],
   "source": [
    "plt.boxplot(data_num['customer_lifetime_value'])\n",
    "plt.show()"
   ]
  },
  {
   "cell_type": "code",
   "execution_count": null,
   "id": "known-governor",
   "metadata": {},
   "outputs": [],
   "source": [
    "plt.boxplot(data_num['income'])\n",
    "plt.show()"
   ]
  },
  {
   "cell_type": "code",
   "execution_count": null,
   "id": "delayed-digit",
   "metadata": {},
   "outputs": [],
   "source": [
    "plt.boxplot(data_num['monthly_premium_auto'])\n",
    "plt.show()"
   ]
  },
  {
   "cell_type": "code",
   "execution_count": null,
   "id": "blind-piano",
   "metadata": {},
   "outputs": [],
   "source": [
    "plt.boxplot(data_num['months_since_last_claim'])\n",
    "plt.show()"
   ]
  },
  {
   "cell_type": "code",
   "execution_count": null,
   "id": "limited-population",
   "metadata": {},
   "outputs": [],
   "source": [
    "plt.boxplot(data_num['months_since_policy_inception'])\n",
    "plt.show()"
   ]
  },
  {
   "cell_type": "code",
   "execution_count": null,
   "id": "conservative-cursor",
   "metadata": {},
   "outputs": [],
   "source": [
    "plt.boxplot(data_num['number_of_open_complaints'])\n",
    "plt.show()"
   ]
  },
  {
   "cell_type": "code",
   "execution_count": null,
   "id": "caroline-street",
   "metadata": {},
   "outputs": [],
   "source": [
    "plt.boxplot(data_num['number_of_policies'])\n",
    "plt.show()"
   ]
  },
  {
   "cell_type": "code",
   "execution_count": null,
   "id": "national-adoption",
   "metadata": {},
   "outputs": [],
   "source": [
    "plt.boxplot(data_num['total_claim_amount'])\n",
    "plt.show()"
   ]
  },
  {
   "cell_type": "markdown",
   "id": "strange-coalition",
   "metadata": {},
   "source": [
    "*** What to do with outliers?***"
   ]
  },
  {
   "cell_type": "markdown",
   "id": "alleged-arthritis",
   "metadata": {},
   "source": [
    "Hint: Cap or drop\n",
    "Cap: do not exaggerate\n",
    "Drop: make sure it's not a typing mistake, drop outliers with significant impact"
   ]
  },
  {
   "cell_type": "markdown",
   "id": "geological-virus",
   "metadata": {},
   "source": [
    "-> I capped the outliers."
   ]
  },
  {
   "cell_type": "markdown",
   "id": "arbitrary-penetration",
   "metadata": {},
   "source": [
    "***'number_of_policies'***"
   ]
  },
  {
   "cell_type": "code",
   "execution_count": null,
   "id": "roman-giving",
   "metadata": {},
   "outputs": [],
   "source": [
    "Upper_lim1 = data_c['number_of_policies'].quantile(0.95) \n",
    "Upper_lim1"
   ]
  },
  {
   "cell_type": "code",
   "execution_count": null,
   "id": "wanted-valentine",
   "metadata": {},
   "outputs": [],
   "source": [
    "Lower_lim1 = data_c['number_of_policies'].quantile(0.05)\n",
    "Lower_lim1"
   ]
  },
  {
   "cell_type": "code",
   "execution_count": null,
   "id": "pointed-subcommittee",
   "metadata": {},
   "outputs": [],
   "source": [
    "data_c.loc[(data_c['number_of_policies']> Upper_lim1), 'number_of_policies']"
   ]
  },
  {
   "cell_type": "code",
   "execution_count": null,
   "id": "furnished-strand",
   "metadata": {},
   "outputs": [],
   "source": [
    "# There are no outliers below the lower_lim1\n",
    "#data_c.loc[(data_c['number_of_policies']< Lower_lim1), 'number_of_policies']"
   ]
  },
  {
   "cell_type": "code",
   "execution_count": null,
   "id": "acting-leisure",
   "metadata": {},
   "outputs": [],
   "source": [
    "data_c = data_c.drop(data_c[data_c.number_of_policies > Upper_lim1].index)"
   ]
  },
  {
   "cell_type": "code",
   "execution_count": null,
   "id": "passing-national",
   "metadata": {},
   "outputs": [],
   "source": [
    "data_c.info()"
   ]
  },
  {
   "cell_type": "code",
   "execution_count": null,
   "id": "documentary-necessity",
   "metadata": {},
   "outputs": [],
   "source": [
    "plt.boxplot(data_num['number_of_policies'])\n",
    "plt.show()"
   ]
  },
  {
   "cell_type": "markdown",
   "id": "competent-heather",
   "metadata": {},
   "source": [
    "***'customer_lifetime_value'***"
   ]
  },
  {
   "cell_type": "code",
   "execution_count": null,
   "id": "heard-preparation",
   "metadata": {},
   "outputs": [],
   "source": [
    "Upper_lim2 = data_c['customer_lifetime_value'].quantile(0.95) \n",
    "Upper_lim2"
   ]
  },
  {
   "cell_type": "code",
   "execution_count": null,
   "id": "satisfied-arizona",
   "metadata": {},
   "outputs": [],
   "source": [
    "Lower_lim2 = data_c['customer_lifetime_value'].quantile(0.05)\n",
    "Lower_lim2"
   ]
  },
  {
   "cell_type": "code",
   "execution_count": null,
   "id": "appropriate-drawing",
   "metadata": {},
   "outputs": [],
   "source": [
    "data_c.loc[(data_c['customer_lifetime_value']> Upper_lim2), 'customer_lifetime_value']"
   ]
  },
  {
   "cell_type": "code",
   "execution_count": null,
   "id": "liable-computer",
   "metadata": {},
   "outputs": [],
   "source": [
    "data_c.loc[(data_c['customer_lifetime_value'] < Lower_lim2), 'customer_lifetime_value']"
   ]
  },
  {
   "cell_type": "code",
   "execution_count": null,
   "id": "wound-humanitarian",
   "metadata": {},
   "outputs": [],
   "source": [
    "data_c = data_c.drop(data_c[data_c.customer_lifetime_value > Upper_lim2].index)"
   ]
  },
  {
   "cell_type": "code",
   "execution_count": null,
   "id": "cardiac-attraction",
   "metadata": {},
   "outputs": [],
   "source": [
    "data_c = data_c.drop(data_c[data_c.customer_lifetime_value < Lower_lim2].index)"
   ]
  },
  {
   "cell_type": "code",
   "execution_count": null,
   "id": "quick-airline",
   "metadata": {},
   "outputs": [],
   "source": [
    "data_c.info()"
   ]
  },
  {
   "cell_type": "code",
   "execution_count": null,
   "id": "stopped-collection",
   "metadata": {},
   "outputs": [],
   "source": [
    "plt.boxplot(data_num['customer_lifetime_value'])\n",
    "plt.show()"
   ]
  },
  {
   "cell_type": "markdown",
   "id": "usual-protocol",
   "metadata": {},
   "source": [
    "***'monthly_premium_auto'***"
   ]
  },
  {
   "cell_type": "code",
   "execution_count": null,
   "id": "lesser-crossing",
   "metadata": {},
   "outputs": [],
   "source": [
    "Upper_lim3 = data_c['monthly_premium_auto'].quantile(0.95) \n",
    "Upper_lim3"
   ]
  },
  {
   "cell_type": "code",
   "execution_count": null,
   "id": "irish-correspondence",
   "metadata": {},
   "outputs": [],
   "source": [
    "Lower_lim3 = data_c['monthly_premium_auto'].quantile(0.05)\n",
    "Lower_lim3"
   ]
  },
  {
   "cell_type": "code",
   "execution_count": null,
   "id": "annual-employer",
   "metadata": {},
   "outputs": [],
   "source": [
    "data_c.loc[(data_c['monthly_premium_auto']> Upper_lim3), 'monthly_premium_auto']"
   ]
  },
  {
   "cell_type": "code",
   "execution_count": null,
   "id": "continued-professor",
   "metadata": {},
   "outputs": [],
   "source": [
    "data_c.loc[(data_c['monthly_premium_auto'] < Lower_lim3), 'monthly_premium_auto']"
   ]
  },
  {
   "cell_type": "code",
   "execution_count": null,
   "id": "technical-permit",
   "metadata": {},
   "outputs": [],
   "source": [
    "data_c = data_c.drop(data_c[data_c.monthly_premium_auto > Upper_lim3].index)"
   ]
  },
  {
   "cell_type": "code",
   "execution_count": null,
   "id": "anonymous-bulletin",
   "metadata": {},
   "outputs": [],
   "source": [
    "data_c = data_c.drop(data_c[data_c.monthly_premium_auto < Lower_lim3].index)"
   ]
  },
  {
   "cell_type": "code",
   "execution_count": null,
   "id": "based-testing",
   "metadata": {},
   "outputs": [],
   "source": [
    "data_c.info()"
   ]
  },
  {
   "cell_type": "markdown",
   "id": "inside-reason",
   "metadata": {},
   "source": [
    "***'total_claim_amount'***"
   ]
  },
  {
   "cell_type": "code",
   "execution_count": null,
   "id": "outside-butler",
   "metadata": {},
   "outputs": [],
   "source": [
    "Upper_lim4 = data_c['total_claim_amount'].quantile(0.95) \n",
    "Lower_lim4 = data_c['total_claim_amount'].quantile(0.05)"
   ]
  },
  {
   "cell_type": "code",
   "execution_count": null,
   "id": "cathedral-native",
   "metadata": {},
   "outputs": [],
   "source": [
    "data_c.loc[(data_c['total_claim_amount']> Upper_lim4), 'total_claim_amount']"
   ]
  },
  {
   "cell_type": "code",
   "execution_count": null,
   "id": "recorded-setting",
   "metadata": {},
   "outputs": [],
   "source": [
    "data_c.loc[(data_c['total_claim_amount'] < Lower_lim4), 'total_claim_amount']"
   ]
  },
  {
   "cell_type": "code",
   "execution_count": null,
   "id": "corporate-softball",
   "metadata": {},
   "outputs": [],
   "source": [
    "data_c = data_c.drop(data_c[data_c.total_claim_amount > Upper_lim4].index)\n",
    "data_c = data_c.drop(data_c[data_c.total_claim_amount < Lower_lim4].index)\n",
    "data_c.info()"
   ]
  },
  {
   "cell_type": "markdown",
   "id": "healthy-intro",
   "metadata": {},
   "source": [
    "- ***Now split the dataset into data_num (only numerical data) and data_cat (only object).***"
   ]
  },
  {
   "cell_type": "code",
   "execution_count": null,
   "id": "sublime-jones",
   "metadata": {},
   "outputs": [],
   "source": [
    "data_num = data_c.select_dtypes(include = np.number)"
   ]
  },
  {
   "cell_type": "code",
   "execution_count": null,
   "id": "included-insight",
   "metadata": {},
   "outputs": [],
   "source": [
    "data_cat = data_c.select_dtypes(include = np.object)"
   ]
  },
  {
   "cell_type": "code",
   "execution_count": null,
   "id": "rational-mentor",
   "metadata": {},
   "outputs": [],
   "source": [
    "data_cat.head()"
   ]
  },
  {
   "cell_type": "code",
   "execution_count": null,
   "id": "wrapped-concept",
   "metadata": {},
   "outputs": [],
   "source": [
    "data_num.head()"
   ]
  },
  {
   "cell_type": "markdown",
   "id": "weighted-conditioning",
   "metadata": {},
   "source": [
    "- ***Check the categorical data (the content of the rows - typing mistakes, summarize similar groups ..... )***"
   ]
  },
  {
   "cell_type": "code",
   "execution_count": null,
   "id": "colonial-source",
   "metadata": {},
   "outputs": [],
   "source": [
    "data_cat['state'].value_counts()"
   ]
  },
  {
   "cell_type": "code",
   "execution_count": null,
   "id": "acoustic-trigger",
   "metadata": {},
   "outputs": [],
   "source": [
    "data_cat['response'].value_counts()"
   ]
  },
  {
   "cell_type": "code",
   "execution_count": null,
   "id": "asian-block",
   "metadata": {},
   "outputs": [],
   "source": [
    "data_cat['coverage'].value_counts()"
   ]
  },
  {
   "cell_type": "code",
   "execution_count": null,
   "id": "graphic-easter",
   "metadata": {},
   "outputs": [],
   "source": [
    "data_cat['education'].value_counts()"
   ]
  },
  {
   "cell_type": "code",
   "execution_count": null,
   "id": "limited-philosophy",
   "metadata": {},
   "outputs": [],
   "source": [
    "data_cat['employmentstatus'].value_counts()"
   ]
  },
  {
   "cell_type": "code",
   "execution_count": null,
   "id": "annual-analyst",
   "metadata": {},
   "outputs": [],
   "source": [
    "data_cat['gender'].value_counts()"
   ]
  },
  {
   "cell_type": "code",
   "execution_count": null,
   "id": "clinical-teacher",
   "metadata": {},
   "outputs": [],
   "source": [
    "data_cat['location_code'].value_counts()"
   ]
  },
  {
   "cell_type": "code",
   "execution_count": null,
   "id": "expensive-picnic",
   "metadata": {},
   "outputs": [],
   "source": [
    "data_cat['marital_status'].value_counts()"
   ]
  },
  {
   "cell_type": "code",
   "execution_count": null,
   "id": "iraqi-cameroon",
   "metadata": {},
   "outputs": [],
   "source": [
    "data_cat['policy_type'].value_counts()"
   ]
  },
  {
   "cell_type": "code",
   "execution_count": null,
   "id": "moved-alias",
   "metadata": {},
   "outputs": [],
   "source": [
    "data_cat['policy'].value_counts()"
   ]
  },
  {
   "cell_type": "code",
   "execution_count": null,
   "id": "dense-beijing",
   "metadata": {},
   "outputs": [],
   "source": [
    "data_cat['sales_channel'].value_counts()"
   ]
  },
  {
   "cell_type": "code",
   "execution_count": null,
   "id": "developmental-optimization",
   "metadata": {},
   "outputs": [],
   "source": [
    "data_cat['renew_offer_type'].value_counts()"
   ]
  },
  {
   "cell_type": "code",
   "execution_count": null,
   "id": "sudden-function",
   "metadata": {},
   "outputs": [],
   "source": [
    "data_cat['vehicle_class'].value_counts()"
   ]
  },
  {
   "cell_type": "code",
   "execution_count": null,
   "id": "alert-tulsa",
   "metadata": {},
   "outputs": [],
   "source": [
    "data_cat['vehicle_size'].value_counts()"
   ]
  },
  {
   "cell_type": "markdown",
   "id": "novel-bermuda",
   "metadata": {},
   "source": [
    "- ****possible groupings (For me: Possible summarizeng depends at first on the hypothesis. But I try to summarize similar groups together. The goal is to achieve bigger groups and less distinct groups and of cours less distinct categorical values )***"
   ]
  },
  {
   "cell_type": "markdown",
   "id": "creative-english",
   "metadata": {},
   "source": [
    "***-> column \"education\"***\n",
    "\n",
    "- It could be possible to put the education level doctor and master in one group. After that, the both in one group make the group bigger. The both separate is too small.\n",
    "- new name for the degree doctor and master = Higher_degree"
   ]
  },
  {
   "cell_type": "code",
   "execution_count": null,
   "id": "higher-netscape",
   "metadata": {},
   "outputs": [],
   "source": [
    "data_cat[\"education\"].value_counts().plot(kind=\"bar\")\n",
    "plt.figure();"
   ]
  },
  {
   "cell_type": "code",
   "execution_count": null,
   "id": "chemical-scholar",
   "metadata": {},
   "outputs": [],
   "source": [
    "def col_education(x):\n",
    "    if 'Bachelor' in x:\n",
    "        return 'Bachelor'\n",
    "    elif 'College' in x:\n",
    "        return 'College'\n",
    "    elif 'High School or Below' in x:\n",
    "        return 'High School or Below'\n",
    "    elif 'Master' or 'Doctor' in x:\n",
    "        return 'Higher_degree'\n",
    "    else:\n",
    "        return 'unknown'"
   ]
  },
  {
   "cell_type": "code",
   "execution_count": null,
   "id": "printable-depth",
   "metadata": {},
   "outputs": [],
   "source": [
    "data_cat['education'] = data_cat['education'].apply(col_education)"
   ]
  },
  {
   "cell_type": "code",
   "execution_count": null,
   "id": "ignored-jacket",
   "metadata": {},
   "outputs": [],
   "source": [
    "data_cat['education'].value_counts()"
   ]
  },
  {
   "cell_type": "markdown",
   "id": "olive-graduation",
   "metadata": {},
   "source": [
    "***-> column 'employmentstatus'***\n",
    "- summarize the group 'Medical Leave','Disabled' and 'Retired' to the new group \"no_participation_work_life\""
   ]
  },
  {
   "cell_type": "code",
   "execution_count": null,
   "id": "advised-nature",
   "metadata": {},
   "outputs": [],
   "source": [
    "data_cat[\"employmentstatus\"].value_counts().plot(kind=\"bar\")\n",
    "plt.figure()"
   ]
  },
  {
   "cell_type": "code",
   "execution_count": null,
   "id": "approximate-victoria",
   "metadata": {},
   "outputs": [],
   "source": [
    "def col_employmentstatus(x):\n",
    "    if 'Employed' in x:\n",
    "        return 'Employed'\n",
    "    elif 'Unemployed' in x:\n",
    "        return 'Unemployed'\n",
    "    elif x in ['Medical Leave','Disabled','Retired']:\n",
    "        return 'no_participation_work_life'\n",
    "    else:\n",
    "        return 'unknown'"
   ]
  },
  {
   "cell_type": "code",
   "execution_count": null,
   "id": "spread-synthetic",
   "metadata": {},
   "outputs": [],
   "source": [
    "data_cat['employmentstatus'] = data_cat['employmentstatus'].apply(col_employmentstatus)"
   ]
  },
  {
   "cell_type": "code",
   "execution_count": null,
   "id": "plain-diving",
   "metadata": {},
   "outputs": [],
   "source": [
    "data_cat['employmentstatus'].value_counts()"
   ]
  },
  {
   "cell_type": "markdown",
   "id": "synthetic-settlement",
   "metadata": {},
   "source": [
    "***-> column 'vehicle_class'***\n",
    "\n",
    "summarize the group 'Sports Car ','Luxury SUV' and 'Luxury Car' to the new group \"Luxury\""
   ]
  },
  {
   "cell_type": "code",
   "execution_count": null,
   "id": "published-sugar",
   "metadata": {},
   "outputs": [],
   "source": [
    "data_cat[\"vehicle_class\"].value_counts().plot(kind=\"bar\")\n",
    "plt.figure();"
   ]
  },
  {
   "cell_type": "code",
   "execution_count": null,
   "id": "changing-nebraska",
   "metadata": {},
   "outputs": [],
   "source": [
    "def col_vehicle_class(x):\n",
    "    if 'Four-Door Car' in x:\n",
    "        return 'Four-Door Car'\n",
    "    elif 'Two-Door Car' in x:\n",
    "        return 'Two-Door Car'\n",
    "    elif 'SUV' in x:\n",
    "        return 'SUV'\n",
    "    elif x in ['Sports Car','Luxury SUV','Luxury Car']:\n",
    "        return 'Luxury'\n",
    "    else:\n",
    "        return 'unknown'"
   ]
  },
  {
   "cell_type": "code",
   "execution_count": null,
   "id": "suited-bunch",
   "metadata": {},
   "outputs": [],
   "source": [
    "data_cat['vehicle_class'] = data_cat['vehicle_class'].apply(col_vehicle_class)"
   ]
  },
  {
   "cell_type": "code",
   "execution_count": null,
   "id": "advisory-mainland",
   "metadata": {},
   "outputs": [],
   "source": [
    "data_cat['vehicle_class'].value_counts()"
   ]
  },
  {
   "cell_type": "markdown",
   "id": "expired-anatomy",
   "metadata": {},
   "source": [
    "- Normalize the continuous variables."
   ]
  },
  {
   "cell_type": "markdown",
   "id": "revised-reaction",
   "metadata": {},
   "source": [
    "Standard Scaler: standardising all numeric features / rescaling using"
   ]
  },
  {
   "cell_type": "code",
   "execution_count": null,
   "id": "different-exercise",
   "metadata": {},
   "outputs": [],
   "source": [
    "transformer = StandardScaler().fit(data_num)\n",
    "x_standardized = transformer.transform(data_num)"
   ]
  },
  {
   "cell_type": "code",
   "execution_count": null,
   "id": "graphic-bumper",
   "metadata": {},
   "outputs": [],
   "source": [
    "num_new = pd.DataFrame(x_standardized, columns=data_num.columns)"
   ]
  },
  {
   "cell_type": "code",
   "execution_count": null,
   "id": "sudden-royal",
   "metadata": {},
   "outputs": [],
   "source": [
    "num_new.head()"
   ]
  },
  {
   "cell_type": "markdown",
   "id": "devoted-accent",
   "metadata": {},
   "source": [
    "- Encode the categorical variables"
   ]
  },
  {
   "cell_type": "markdown",
   "id": "interim-forum",
   "metadata": {},
   "source": [
    "Using get_dummies"
   ]
  },
  {
   "cell_type": "code",
   "execution_count": null,
   "id": "turned-technician",
   "metadata": {},
   "outputs": [],
   "source": [
    "cat_new = pd.get_dummies(data_cat, columns=['customer','state', 'response', 'coverage', 'education','employmentstatus','gender','location_code','marital_status','policy_type', 'policy', 'renew_offer_type','sales_channel','vehicle_class','vehicle_size'], drop_first=True)\n"
   ]
  },
  {
   "cell_type": "code",
   "execution_count": null,
   "id": "under-combination",
   "metadata": {},
   "outputs": [],
   "source": [
    "cat_new.head()"
   ]
  },
  {
   "cell_type": "markdown",
   "id": "aggressive-mumbai",
   "metadata": {},
   "source": [
    "- check the lengths to avoid mismatches"
   ]
  },
  {
   "cell_type": "code",
   "execution_count": null,
   "id": "affiliated-warrant",
   "metadata": {},
   "outputs": [],
   "source": [
    "len(data_num), len(x_standardized), len(cat_new)"
   ]
  },
  {
   "cell_type": "code",
   "execution_count": null,
   "id": "weekly-cradle",
   "metadata": {},
   "outputs": [],
   "source": [
    "new_data = np.concatenate((cat_new, num_new), axis=1)"
   ]
  },
  {
   "cell_type": "code",
   "execution_count": null,
   "id": "invisible-glossary",
   "metadata": {},
   "outputs": [],
   "source": [
    "new_data.shape"
   ]
  },
  {
   "cell_type": "markdown",
   "id": "spread-horizon",
   "metadata": {},
   "source": [
    "- Since the model will only accept numerical data, check and make sure that every column is numerical, if some are not, change it using encoding."
   ]
  }
 ],
 "metadata": {
  "kernelspec": {
   "display_name": "Python 3",
   "language": "python",
   "name": "python3"
  },
  "language_info": {
   "codemirror_mode": {
    "name": "ipython",
    "version": 3
   },
   "file_extension": ".py",
   "mimetype": "text/x-python",
   "name": "python",
   "nbconvert_exporter": "python",
   "pygments_lexer": "ipython3",
   "version": "3.9.2"
  }
 },
 "nbformat": 4,
 "nbformat_minor": 5
}
