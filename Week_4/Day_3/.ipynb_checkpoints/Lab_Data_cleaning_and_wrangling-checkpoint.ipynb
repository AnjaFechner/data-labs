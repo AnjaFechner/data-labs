{
 "cells": [
  {
   "cell_type": "markdown",
   "id": "valuable-nelson",
   "metadata": {},
   "source": [
    "### 0. Libraries"
   ]
  },
  {
   "cell_type": "code",
   "execution_count": 201,
   "id": "selected-concentrate",
   "metadata": {},
   "outputs": [],
   "source": [
    "import pymysql\n",
    "from sqlalchemy import create_engine\n",
    "import pandas as pd\n",
    "import seaborn as sns \n",
    "import matplotlib.pyplot as plt\n",
    "import numpy as np\n",
    "from datetime import date\n",
    "from sklearn.preprocessing import StandardScaler"
   ]
  },
  {
   "cell_type": "markdown",
   "id": "unusual-bread",
   "metadata": {},
   "source": [
    "### 1. Create a DataFrame and make a copy"
   ]
  },
  {
   "cell_type": "code",
   "execution_count": 202,
   "id": "champion-magazine",
   "metadata": {},
   "outputs": [],
   "source": [
    "data=pd.read_csv('marketing_customer_analysis.csv')"
   ]
  },
  {
   "cell_type": "code",
   "execution_count": 203,
   "id": "afraid-butter",
   "metadata": {},
   "outputs": [],
   "source": [
    "data_c = data"
   ]
  },
  {
   "cell_type": "markdown",
   "id": "classical-biodiversity",
   "metadata": {},
   "source": [
    "### 2. EDA, cleaning and wrangling the data"
   ]
  },
  {
   "cell_type": "code",
   "execution_count": 204,
   "id": "vocal-housing",
   "metadata": {},
   "outputs": [
    {
     "data": {
      "text/html": [
       "<div>\n",
       "<style scoped>\n",
       "    .dataframe tbody tr th:only-of-type {\n",
       "        vertical-align: middle;\n",
       "    }\n",
       "\n",
       "    .dataframe tbody tr th {\n",
       "        vertical-align: top;\n",
       "    }\n",
       "\n",
       "    .dataframe thead th {\n",
       "        text-align: right;\n",
       "    }\n",
       "</style>\n",
       "<table border=\"1\" class=\"dataframe\">\n",
       "  <thead>\n",
       "    <tr style=\"text-align: right;\">\n",
       "      <th></th>\n",
       "      <th>Customer</th>\n",
       "      <th>State</th>\n",
       "      <th>Customer Lifetime Value</th>\n",
       "      <th>Response</th>\n",
       "      <th>Coverage</th>\n",
       "      <th>Education</th>\n",
       "      <th>Effective To Date</th>\n",
       "      <th>EmploymentStatus</th>\n",
       "      <th>Gender</th>\n",
       "      <th>Income</th>\n",
       "      <th>...</th>\n",
       "      <th>Months Since Policy Inception</th>\n",
       "      <th>Number of Open Complaints</th>\n",
       "      <th>Number of Policies</th>\n",
       "      <th>Policy Type</th>\n",
       "      <th>Policy</th>\n",
       "      <th>Renew Offer Type</th>\n",
       "      <th>Sales Channel</th>\n",
       "      <th>Total Claim Amount</th>\n",
       "      <th>Vehicle Class</th>\n",
       "      <th>Vehicle Size</th>\n",
       "    </tr>\n",
       "  </thead>\n",
       "  <tbody>\n",
       "    <tr>\n",
       "      <th>0</th>\n",
       "      <td>BU79786</td>\n",
       "      <td>Washington</td>\n",
       "      <td>2763.519279</td>\n",
       "      <td>No</td>\n",
       "      <td>Basic</td>\n",
       "      <td>Bachelor</td>\n",
       "      <td>2/24/11</td>\n",
       "      <td>Employed</td>\n",
       "      <td>F</td>\n",
       "      <td>56274</td>\n",
       "      <td>...</td>\n",
       "      <td>5</td>\n",
       "      <td>0</td>\n",
       "      <td>1</td>\n",
       "      <td>Corporate Auto</td>\n",
       "      <td>Corporate L3</td>\n",
       "      <td>Offer1</td>\n",
       "      <td>Agent</td>\n",
       "      <td>384.811147</td>\n",
       "      <td>Two-Door Car</td>\n",
       "      <td>Medsize</td>\n",
       "    </tr>\n",
       "    <tr>\n",
       "      <th>1</th>\n",
       "      <td>QZ44356</td>\n",
       "      <td>Arizona</td>\n",
       "      <td>6979.535903</td>\n",
       "      <td>No</td>\n",
       "      <td>Extended</td>\n",
       "      <td>Bachelor</td>\n",
       "      <td>1/31/11</td>\n",
       "      <td>Unemployed</td>\n",
       "      <td>F</td>\n",
       "      <td>0</td>\n",
       "      <td>...</td>\n",
       "      <td>42</td>\n",
       "      <td>0</td>\n",
       "      <td>8</td>\n",
       "      <td>Personal Auto</td>\n",
       "      <td>Personal L3</td>\n",
       "      <td>Offer3</td>\n",
       "      <td>Agent</td>\n",
       "      <td>1131.464935</td>\n",
       "      <td>Four-Door Car</td>\n",
       "      <td>Medsize</td>\n",
       "    </tr>\n",
       "    <tr>\n",
       "      <th>2</th>\n",
       "      <td>AI49188</td>\n",
       "      <td>Nevada</td>\n",
       "      <td>12887.431650</td>\n",
       "      <td>No</td>\n",
       "      <td>Premium</td>\n",
       "      <td>Bachelor</td>\n",
       "      <td>2/19/11</td>\n",
       "      <td>Employed</td>\n",
       "      <td>F</td>\n",
       "      <td>48767</td>\n",
       "      <td>...</td>\n",
       "      <td>38</td>\n",
       "      <td>0</td>\n",
       "      <td>2</td>\n",
       "      <td>Personal Auto</td>\n",
       "      <td>Personal L3</td>\n",
       "      <td>Offer1</td>\n",
       "      <td>Agent</td>\n",
       "      <td>566.472247</td>\n",
       "      <td>Two-Door Car</td>\n",
       "      <td>Medsize</td>\n",
       "    </tr>\n",
       "    <tr>\n",
       "      <th>3</th>\n",
       "      <td>WW63253</td>\n",
       "      <td>California</td>\n",
       "      <td>7645.861827</td>\n",
       "      <td>No</td>\n",
       "      <td>Basic</td>\n",
       "      <td>Bachelor</td>\n",
       "      <td>1/20/11</td>\n",
       "      <td>Unemployed</td>\n",
       "      <td>M</td>\n",
       "      <td>0</td>\n",
       "      <td>...</td>\n",
       "      <td>65</td>\n",
       "      <td>0</td>\n",
       "      <td>7</td>\n",
       "      <td>Corporate Auto</td>\n",
       "      <td>Corporate L2</td>\n",
       "      <td>Offer1</td>\n",
       "      <td>Call Center</td>\n",
       "      <td>529.881344</td>\n",
       "      <td>SUV</td>\n",
       "      <td>Medsize</td>\n",
       "    </tr>\n",
       "    <tr>\n",
       "      <th>4</th>\n",
       "      <td>HB64268</td>\n",
       "      <td>Washington</td>\n",
       "      <td>2813.692575</td>\n",
       "      <td>No</td>\n",
       "      <td>Basic</td>\n",
       "      <td>Bachelor</td>\n",
       "      <td>2/3/11</td>\n",
       "      <td>Employed</td>\n",
       "      <td>M</td>\n",
       "      <td>43836</td>\n",
       "      <td>...</td>\n",
       "      <td>44</td>\n",
       "      <td>0</td>\n",
       "      <td>1</td>\n",
       "      <td>Personal Auto</td>\n",
       "      <td>Personal L1</td>\n",
       "      <td>Offer1</td>\n",
       "      <td>Agent</td>\n",
       "      <td>138.130879</td>\n",
       "      <td>Four-Door Car</td>\n",
       "      <td>Medsize</td>\n",
       "    </tr>\n",
       "  </tbody>\n",
       "</table>\n",
       "<p>5 rows × 24 columns</p>\n",
       "</div>"
      ],
      "text/plain": [
       "  Customer       State  Customer Lifetime Value Response  Coverage Education  \\\n",
       "0  BU79786  Washington              2763.519279       No     Basic  Bachelor   \n",
       "1  QZ44356     Arizona              6979.535903       No  Extended  Bachelor   \n",
       "2  AI49188      Nevada             12887.431650       No   Premium  Bachelor   \n",
       "3  WW63253  California              7645.861827       No     Basic  Bachelor   \n",
       "4  HB64268  Washington              2813.692575       No     Basic  Bachelor   \n",
       "\n",
       "  Effective To Date EmploymentStatus Gender  Income  ...  \\\n",
       "0           2/24/11         Employed      F   56274  ...   \n",
       "1           1/31/11       Unemployed      F       0  ...   \n",
       "2           2/19/11         Employed      F   48767  ...   \n",
       "3           1/20/11       Unemployed      M       0  ...   \n",
       "4            2/3/11         Employed      M   43836  ...   \n",
       "\n",
       "  Months Since Policy Inception Number of Open Complaints  Number of Policies  \\\n",
       "0                             5                         0                   1   \n",
       "1                            42                         0                   8   \n",
       "2                            38                         0                   2   \n",
       "3                            65                         0                   7   \n",
       "4                            44                         0                   1   \n",
       "\n",
       "      Policy Type        Policy  Renew Offer Type  Sales Channel  \\\n",
       "0  Corporate Auto  Corporate L3            Offer1          Agent   \n",
       "1   Personal Auto   Personal L3            Offer3          Agent   \n",
       "2   Personal Auto   Personal L3            Offer1          Agent   \n",
       "3  Corporate Auto  Corporate L2            Offer1    Call Center   \n",
       "4   Personal Auto   Personal L1            Offer1          Agent   \n",
       "\n",
       "  Total Claim Amount  Vehicle Class Vehicle Size  \n",
       "0         384.811147   Two-Door Car      Medsize  \n",
       "1        1131.464935  Four-Door Car      Medsize  \n",
       "2         566.472247   Two-Door Car      Medsize  \n",
       "3         529.881344            SUV      Medsize  \n",
       "4         138.130879  Four-Door Car      Medsize  \n",
       "\n",
       "[5 rows x 24 columns]"
      ]
     },
     "execution_count": 204,
     "metadata": {},
     "output_type": "execute_result"
    }
   ],
   "source": [
    "data_c.head()"
   ]
  },
  {
   "cell_type": "markdown",
   "id": "involved-optics",
   "metadata": {},
   "source": [
    "- ***Standardizing header names***"
   ]
  },
  {
   "cell_type": "code",
   "execution_count": 205,
   "id": "foreign-champagne",
   "metadata": {},
   "outputs": [
    {
     "data": {
      "text/plain": [
       "['customer',\n",
       " 'state',\n",
       " 'customer_lifetime_value',\n",
       " 'response',\n",
       " 'coverage',\n",
       " 'education',\n",
       " 'effective_to_date',\n",
       " 'employmentstatus',\n",
       " 'gender',\n",
       " 'income',\n",
       " 'location_code',\n",
       " 'marital_status',\n",
       " 'monthly_premium_auto',\n",
       " 'months_since_last_claim',\n",
       " 'months_since_policy_inception',\n",
       " 'number_of_open_complaints',\n",
       " 'number_of_policies',\n",
       " 'policy_type',\n",
       " 'policy',\n",
       " 'renew_offer_type',\n",
       " 'sales_channel',\n",
       " 'total_claim_amount',\n",
       " 'vehicle_class',\n",
       " 'vehicle_size']"
      ]
     },
     "execution_count": 205,
     "metadata": {},
     "output_type": "execute_result"
    }
   ],
   "source": [
    "cols = []\n",
    "for i in range(len(data_c.columns)):\n",
    "    cols.append(data_c.columns[i].lower().replace(' ', '_'))\n",
    "cols"
   ]
  },
  {
   "cell_type": "code",
   "execution_count": 206,
   "id": "sorted-absorption",
   "metadata": {},
   "outputs": [],
   "source": [
    "data_c.columns=cols"
   ]
  },
  {
   "cell_type": "code",
   "execution_count": 207,
   "id": "mineral-drill",
   "metadata": {},
   "outputs": [
    {
     "data": {
      "text/html": [
       "<div>\n",
       "<style scoped>\n",
       "    .dataframe tbody tr th:only-of-type {\n",
       "        vertical-align: middle;\n",
       "    }\n",
       "\n",
       "    .dataframe tbody tr th {\n",
       "        vertical-align: top;\n",
       "    }\n",
       "\n",
       "    .dataframe thead th {\n",
       "        text-align: right;\n",
       "    }\n",
       "</style>\n",
       "<table border=\"1\" class=\"dataframe\">\n",
       "  <thead>\n",
       "    <tr style=\"text-align: right;\">\n",
       "      <th></th>\n",
       "      <th>customer</th>\n",
       "      <th>state</th>\n",
       "      <th>customer_lifetime_value</th>\n",
       "      <th>response</th>\n",
       "      <th>coverage</th>\n",
       "      <th>education</th>\n",
       "      <th>effective_to_date</th>\n",
       "      <th>employmentstatus</th>\n",
       "      <th>gender</th>\n",
       "      <th>income</th>\n",
       "      <th>...</th>\n",
       "      <th>months_since_policy_inception</th>\n",
       "      <th>number_of_open_complaints</th>\n",
       "      <th>number_of_policies</th>\n",
       "      <th>policy_type</th>\n",
       "      <th>policy</th>\n",
       "      <th>renew_offer_type</th>\n",
       "      <th>sales_channel</th>\n",
       "      <th>total_claim_amount</th>\n",
       "      <th>vehicle_class</th>\n",
       "      <th>vehicle_size</th>\n",
       "    </tr>\n",
       "  </thead>\n",
       "  <tbody>\n",
       "    <tr>\n",
       "      <th>0</th>\n",
       "      <td>BU79786</td>\n",
       "      <td>Washington</td>\n",
       "      <td>2763.519279</td>\n",
       "      <td>No</td>\n",
       "      <td>Basic</td>\n",
       "      <td>Bachelor</td>\n",
       "      <td>2/24/11</td>\n",
       "      <td>Employed</td>\n",
       "      <td>F</td>\n",
       "      <td>56274</td>\n",
       "      <td>...</td>\n",
       "      <td>5</td>\n",
       "      <td>0</td>\n",
       "      <td>1</td>\n",
       "      <td>Corporate Auto</td>\n",
       "      <td>Corporate L3</td>\n",
       "      <td>Offer1</td>\n",
       "      <td>Agent</td>\n",
       "      <td>384.811147</td>\n",
       "      <td>Two-Door Car</td>\n",
       "      <td>Medsize</td>\n",
       "    </tr>\n",
       "    <tr>\n",
       "      <th>1</th>\n",
       "      <td>QZ44356</td>\n",
       "      <td>Arizona</td>\n",
       "      <td>6979.535903</td>\n",
       "      <td>No</td>\n",
       "      <td>Extended</td>\n",
       "      <td>Bachelor</td>\n",
       "      <td>1/31/11</td>\n",
       "      <td>Unemployed</td>\n",
       "      <td>F</td>\n",
       "      <td>0</td>\n",
       "      <td>...</td>\n",
       "      <td>42</td>\n",
       "      <td>0</td>\n",
       "      <td>8</td>\n",
       "      <td>Personal Auto</td>\n",
       "      <td>Personal L3</td>\n",
       "      <td>Offer3</td>\n",
       "      <td>Agent</td>\n",
       "      <td>1131.464935</td>\n",
       "      <td>Four-Door Car</td>\n",
       "      <td>Medsize</td>\n",
       "    </tr>\n",
       "    <tr>\n",
       "      <th>2</th>\n",
       "      <td>AI49188</td>\n",
       "      <td>Nevada</td>\n",
       "      <td>12887.431650</td>\n",
       "      <td>No</td>\n",
       "      <td>Premium</td>\n",
       "      <td>Bachelor</td>\n",
       "      <td>2/19/11</td>\n",
       "      <td>Employed</td>\n",
       "      <td>F</td>\n",
       "      <td>48767</td>\n",
       "      <td>...</td>\n",
       "      <td>38</td>\n",
       "      <td>0</td>\n",
       "      <td>2</td>\n",
       "      <td>Personal Auto</td>\n",
       "      <td>Personal L3</td>\n",
       "      <td>Offer1</td>\n",
       "      <td>Agent</td>\n",
       "      <td>566.472247</td>\n",
       "      <td>Two-Door Car</td>\n",
       "      <td>Medsize</td>\n",
       "    </tr>\n",
       "    <tr>\n",
       "      <th>3</th>\n",
       "      <td>WW63253</td>\n",
       "      <td>California</td>\n",
       "      <td>7645.861827</td>\n",
       "      <td>No</td>\n",
       "      <td>Basic</td>\n",
       "      <td>Bachelor</td>\n",
       "      <td>1/20/11</td>\n",
       "      <td>Unemployed</td>\n",
       "      <td>M</td>\n",
       "      <td>0</td>\n",
       "      <td>...</td>\n",
       "      <td>65</td>\n",
       "      <td>0</td>\n",
       "      <td>7</td>\n",
       "      <td>Corporate Auto</td>\n",
       "      <td>Corporate L2</td>\n",
       "      <td>Offer1</td>\n",
       "      <td>Call Center</td>\n",
       "      <td>529.881344</td>\n",
       "      <td>SUV</td>\n",
       "      <td>Medsize</td>\n",
       "    </tr>\n",
       "    <tr>\n",
       "      <th>4</th>\n",
       "      <td>HB64268</td>\n",
       "      <td>Washington</td>\n",
       "      <td>2813.692575</td>\n",
       "      <td>No</td>\n",
       "      <td>Basic</td>\n",
       "      <td>Bachelor</td>\n",
       "      <td>2/3/11</td>\n",
       "      <td>Employed</td>\n",
       "      <td>M</td>\n",
       "      <td>43836</td>\n",
       "      <td>...</td>\n",
       "      <td>44</td>\n",
       "      <td>0</td>\n",
       "      <td>1</td>\n",
       "      <td>Personal Auto</td>\n",
       "      <td>Personal L1</td>\n",
       "      <td>Offer1</td>\n",
       "      <td>Agent</td>\n",
       "      <td>138.130879</td>\n",
       "      <td>Four-Door Car</td>\n",
       "      <td>Medsize</td>\n",
       "    </tr>\n",
       "  </tbody>\n",
       "</table>\n",
       "<p>5 rows × 24 columns</p>\n",
       "</div>"
      ],
      "text/plain": [
       "  customer       state  customer_lifetime_value response  coverage education  \\\n",
       "0  BU79786  Washington              2763.519279       No     Basic  Bachelor   \n",
       "1  QZ44356     Arizona              6979.535903       No  Extended  Bachelor   \n",
       "2  AI49188      Nevada             12887.431650       No   Premium  Bachelor   \n",
       "3  WW63253  California              7645.861827       No     Basic  Bachelor   \n",
       "4  HB64268  Washington              2813.692575       No     Basic  Bachelor   \n",
       "\n",
       "  effective_to_date employmentstatus gender  income  ...  \\\n",
       "0           2/24/11         Employed      F   56274  ...   \n",
       "1           1/31/11       Unemployed      F       0  ...   \n",
       "2           2/19/11         Employed      F   48767  ...   \n",
       "3           1/20/11       Unemployed      M       0  ...   \n",
       "4            2/3/11         Employed      M   43836  ...   \n",
       "\n",
       "  months_since_policy_inception number_of_open_complaints  number_of_policies  \\\n",
       "0                             5                         0                   1   \n",
       "1                            42                         0                   8   \n",
       "2                            38                         0                   2   \n",
       "3                            65                         0                   7   \n",
       "4                            44                         0                   1   \n",
       "\n",
       "      policy_type        policy  renew_offer_type  sales_channel  \\\n",
       "0  Corporate Auto  Corporate L3            Offer1          Agent   \n",
       "1   Personal Auto   Personal L3            Offer3          Agent   \n",
       "2   Personal Auto   Personal L3            Offer1          Agent   \n",
       "3  Corporate Auto  Corporate L2            Offer1    Call Center   \n",
       "4   Personal Auto   Personal L1            Offer1          Agent   \n",
       "\n",
       "  total_claim_amount  vehicle_class vehicle_size  \n",
       "0         384.811147   Two-Door Car      Medsize  \n",
       "1        1131.464935  Four-Door Car      Medsize  \n",
       "2         566.472247   Two-Door Car      Medsize  \n",
       "3         529.881344            SUV      Medsize  \n",
       "4         138.130879  Four-Door Car      Medsize  \n",
       "\n",
       "[5 rows x 24 columns]"
      ]
     },
     "execution_count": 207,
     "metadata": {},
     "output_type": "execute_result"
    }
   ],
   "source": [
    "data_c.head()"
   ]
  },
  {
   "cell_type": "markdown",
   "id": "cross-internet",
   "metadata": {},
   "source": [
    "- ***Missing Data***"
   ]
  },
  {
   "cell_type": "code",
   "execution_count": 208,
   "id": "current-fraction",
   "metadata": {},
   "outputs": [
    {
     "data": {
      "text/plain": [
       "customer                         0.0\n",
       "state                            0.0\n",
       "customer_lifetime_value          0.0\n",
       "response                         0.0\n",
       "coverage                         0.0\n",
       "education                        0.0\n",
       "effective_to_date                0.0\n",
       "employmentstatus                 0.0\n",
       "gender                           0.0\n",
       "income                           0.0\n",
       "location_code                    0.0\n",
       "marital_status                   0.0\n",
       "monthly_premium_auto             0.0\n",
       "months_since_last_claim          0.0\n",
       "months_since_policy_inception    0.0\n",
       "number_of_open_complaints        0.0\n",
       "number_of_policies               0.0\n",
       "policy_type                      0.0\n",
       "policy                           0.0\n",
       "renew_offer_type                 0.0\n",
       "sales_channel                    0.0\n",
       "total_claim_amount               0.0\n",
       "vehicle_class                    0.0\n",
       "vehicle_size                     0.0\n",
       "dtype: float64"
      ]
     },
     "execution_count": 208,
     "metadata": {},
     "output_type": "execute_result"
    }
   ],
   "source": [
    "data_c.isna().mean().round(4) *100"
   ]
  },
  {
   "cell_type": "code",
   "execution_count": 209,
   "id": "excellent-polish",
   "metadata": {},
   "outputs": [
    {
     "name": "stdout",
     "output_type": "stream",
     "text": [
      "<class 'pandas.core.frame.DataFrame'>\n",
      "RangeIndex: 9134 entries, 0 to 9133\n",
      "Data columns (total 24 columns):\n",
      " #   Column                         Non-Null Count  Dtype  \n",
      "---  ------                         --------------  -----  \n",
      " 0   customer                       9134 non-null   object \n",
      " 1   state                          9134 non-null   object \n",
      " 2   customer_lifetime_value        9134 non-null   float64\n",
      " 3   response                       9134 non-null   object \n",
      " 4   coverage                       9134 non-null   object \n",
      " 5   education                      9134 non-null   object \n",
      " 6   effective_to_date              9134 non-null   object \n",
      " 7   employmentstatus               9134 non-null   object \n",
      " 8   gender                         9134 non-null   object \n",
      " 9   income                         9134 non-null   int64  \n",
      " 10  location_code                  9134 non-null   object \n",
      " 11  marital_status                 9134 non-null   object \n",
      " 12  monthly_premium_auto           9134 non-null   int64  \n",
      " 13  months_since_last_claim        9134 non-null   int64  \n",
      " 14  months_since_policy_inception  9134 non-null   int64  \n",
      " 15  number_of_open_complaints      9134 non-null   int64  \n",
      " 16  number_of_policies             9134 non-null   int64  \n",
      " 17  policy_type                    9134 non-null   object \n",
      " 18  policy                         9134 non-null   object \n",
      " 19  renew_offer_type               9134 non-null   object \n",
      " 20  sales_channel                  9134 non-null   object \n",
      " 21  total_claim_amount             9134 non-null   float64\n",
      " 22  vehicle_class                  9134 non-null   object \n",
      " 23  vehicle_size                   9134 non-null   object \n",
      "dtypes: float64(2), int64(6), object(16)\n",
      "memory usage: 1.7+ MB\n"
     ]
    }
   ],
   "source": [
    "data_c.info()"
   ]
  },
  {
   "cell_type": "markdown",
   "id": "elect-stopping",
   "metadata": {},
   "source": [
    "Result: There are no NaN."
   ]
  },
  {
   "cell_type": "markdown",
   "id": "ideal-miami",
   "metadata": {},
   "source": [
    "- ***check the datatypes***"
   ]
  },
  {
   "cell_type": "code",
   "execution_count": 210,
   "id": "mineral-brother",
   "metadata": {},
   "outputs": [
    {
     "data": {
      "text/plain": [
       "customer                          object\n",
       "state                             object\n",
       "customer_lifetime_value          float64\n",
       "response                          object\n",
       "coverage                          object\n",
       "education                         object\n",
       "effective_to_date                 object\n",
       "employmentstatus                  object\n",
       "gender                            object\n",
       "income                             int64\n",
       "location_code                     object\n",
       "marital_status                    object\n",
       "monthly_premium_auto               int64\n",
       "months_since_last_claim            int64\n",
       "months_since_policy_inception      int64\n",
       "number_of_open_complaints          int64\n",
       "number_of_policies                 int64\n",
       "policy_type                       object\n",
       "policy                            object\n",
       "renew_offer_type                  object\n",
       "sales_channel                     object\n",
       "total_claim_amount               float64\n",
       "vehicle_class                     object\n",
       "vehicle_size                      object\n",
       "dtype: object"
      ]
     },
     "execution_count": 210,
     "metadata": {},
     "output_type": "execute_result"
    }
   ],
   "source": [
    "data_c.dtypes"
   ]
  },
  {
   "cell_type": "code",
   "execution_count": 211,
   "id": "theoretical-cutting",
   "metadata": {},
   "outputs": [
    {
     "data": {
      "text/html": [
       "<div>\n",
       "<style scoped>\n",
       "    .dataframe tbody tr th:only-of-type {\n",
       "        vertical-align: middle;\n",
       "    }\n",
       "\n",
       "    .dataframe tbody tr th {\n",
       "        vertical-align: top;\n",
       "    }\n",
       "\n",
       "    .dataframe thead th {\n",
       "        text-align: right;\n",
       "    }\n",
       "</style>\n",
       "<table border=\"1\" class=\"dataframe\">\n",
       "  <thead>\n",
       "    <tr style=\"text-align: right;\">\n",
       "      <th></th>\n",
       "      <th>customer</th>\n",
       "      <th>state</th>\n",
       "      <th>customer_lifetime_value</th>\n",
       "      <th>response</th>\n",
       "      <th>coverage</th>\n",
       "      <th>education</th>\n",
       "      <th>effective_to_date</th>\n",
       "      <th>employmentstatus</th>\n",
       "      <th>gender</th>\n",
       "      <th>income</th>\n",
       "      <th>...</th>\n",
       "      <th>months_since_policy_inception</th>\n",
       "      <th>number_of_open_complaints</th>\n",
       "      <th>number_of_policies</th>\n",
       "      <th>policy_type</th>\n",
       "      <th>policy</th>\n",
       "      <th>renew_offer_type</th>\n",
       "      <th>sales_channel</th>\n",
       "      <th>total_claim_amount</th>\n",
       "      <th>vehicle_class</th>\n",
       "      <th>vehicle_size</th>\n",
       "    </tr>\n",
       "  </thead>\n",
       "  <tbody>\n",
       "    <tr>\n",
       "      <th>0</th>\n",
       "      <td>BU79786</td>\n",
       "      <td>Washington</td>\n",
       "      <td>2763.519279</td>\n",
       "      <td>No</td>\n",
       "      <td>Basic</td>\n",
       "      <td>Bachelor</td>\n",
       "      <td>2/24/11</td>\n",
       "      <td>Employed</td>\n",
       "      <td>F</td>\n",
       "      <td>56274</td>\n",
       "      <td>...</td>\n",
       "      <td>5</td>\n",
       "      <td>0</td>\n",
       "      <td>1</td>\n",
       "      <td>Corporate Auto</td>\n",
       "      <td>Corporate L3</td>\n",
       "      <td>Offer1</td>\n",
       "      <td>Agent</td>\n",
       "      <td>384.811147</td>\n",
       "      <td>Two-Door Car</td>\n",
       "      <td>Medsize</td>\n",
       "    </tr>\n",
       "    <tr>\n",
       "      <th>1</th>\n",
       "      <td>QZ44356</td>\n",
       "      <td>Arizona</td>\n",
       "      <td>6979.535903</td>\n",
       "      <td>No</td>\n",
       "      <td>Extended</td>\n",
       "      <td>Bachelor</td>\n",
       "      <td>1/31/11</td>\n",
       "      <td>Unemployed</td>\n",
       "      <td>F</td>\n",
       "      <td>0</td>\n",
       "      <td>...</td>\n",
       "      <td>42</td>\n",
       "      <td>0</td>\n",
       "      <td>8</td>\n",
       "      <td>Personal Auto</td>\n",
       "      <td>Personal L3</td>\n",
       "      <td>Offer3</td>\n",
       "      <td>Agent</td>\n",
       "      <td>1131.464935</td>\n",
       "      <td>Four-Door Car</td>\n",
       "      <td>Medsize</td>\n",
       "    </tr>\n",
       "    <tr>\n",
       "      <th>2</th>\n",
       "      <td>AI49188</td>\n",
       "      <td>Nevada</td>\n",
       "      <td>12887.431650</td>\n",
       "      <td>No</td>\n",
       "      <td>Premium</td>\n",
       "      <td>Bachelor</td>\n",
       "      <td>2/19/11</td>\n",
       "      <td>Employed</td>\n",
       "      <td>F</td>\n",
       "      <td>48767</td>\n",
       "      <td>...</td>\n",
       "      <td>38</td>\n",
       "      <td>0</td>\n",
       "      <td>2</td>\n",
       "      <td>Personal Auto</td>\n",
       "      <td>Personal L3</td>\n",
       "      <td>Offer1</td>\n",
       "      <td>Agent</td>\n",
       "      <td>566.472247</td>\n",
       "      <td>Two-Door Car</td>\n",
       "      <td>Medsize</td>\n",
       "    </tr>\n",
       "    <tr>\n",
       "      <th>3</th>\n",
       "      <td>WW63253</td>\n",
       "      <td>California</td>\n",
       "      <td>7645.861827</td>\n",
       "      <td>No</td>\n",
       "      <td>Basic</td>\n",
       "      <td>Bachelor</td>\n",
       "      <td>1/20/11</td>\n",
       "      <td>Unemployed</td>\n",
       "      <td>M</td>\n",
       "      <td>0</td>\n",
       "      <td>...</td>\n",
       "      <td>65</td>\n",
       "      <td>0</td>\n",
       "      <td>7</td>\n",
       "      <td>Corporate Auto</td>\n",
       "      <td>Corporate L2</td>\n",
       "      <td>Offer1</td>\n",
       "      <td>Call Center</td>\n",
       "      <td>529.881344</td>\n",
       "      <td>SUV</td>\n",
       "      <td>Medsize</td>\n",
       "    </tr>\n",
       "    <tr>\n",
       "      <th>4</th>\n",
       "      <td>HB64268</td>\n",
       "      <td>Washington</td>\n",
       "      <td>2813.692575</td>\n",
       "      <td>No</td>\n",
       "      <td>Basic</td>\n",
       "      <td>Bachelor</td>\n",
       "      <td>2/3/11</td>\n",
       "      <td>Employed</td>\n",
       "      <td>M</td>\n",
       "      <td>43836</td>\n",
       "      <td>...</td>\n",
       "      <td>44</td>\n",
       "      <td>0</td>\n",
       "      <td>1</td>\n",
       "      <td>Personal Auto</td>\n",
       "      <td>Personal L1</td>\n",
       "      <td>Offer1</td>\n",
       "      <td>Agent</td>\n",
       "      <td>138.130879</td>\n",
       "      <td>Four-Door Car</td>\n",
       "      <td>Medsize</td>\n",
       "    </tr>\n",
       "  </tbody>\n",
       "</table>\n",
       "<p>5 rows × 24 columns</p>\n",
       "</div>"
      ],
      "text/plain": [
       "  customer       state  customer_lifetime_value response  coverage education  \\\n",
       "0  BU79786  Washington              2763.519279       No     Basic  Bachelor   \n",
       "1  QZ44356     Arizona              6979.535903       No  Extended  Bachelor   \n",
       "2  AI49188      Nevada             12887.431650       No   Premium  Bachelor   \n",
       "3  WW63253  California              7645.861827       No     Basic  Bachelor   \n",
       "4  HB64268  Washington              2813.692575       No     Basic  Bachelor   \n",
       "\n",
       "  effective_to_date employmentstatus gender  income  ...  \\\n",
       "0           2/24/11         Employed      F   56274  ...   \n",
       "1           1/31/11       Unemployed      F       0  ...   \n",
       "2           2/19/11         Employed      F   48767  ...   \n",
       "3           1/20/11       Unemployed      M       0  ...   \n",
       "4            2/3/11         Employed      M   43836  ...   \n",
       "\n",
       "  months_since_policy_inception number_of_open_complaints  number_of_policies  \\\n",
       "0                             5                         0                   1   \n",
       "1                            42                         0                   8   \n",
       "2                            38                         0                   2   \n",
       "3                            65                         0                   7   \n",
       "4                            44                         0                   1   \n",
       "\n",
       "      policy_type        policy  renew_offer_type  sales_channel  \\\n",
       "0  Corporate Auto  Corporate L3            Offer1          Agent   \n",
       "1   Personal Auto   Personal L3            Offer3          Agent   \n",
       "2   Personal Auto   Personal L3            Offer1          Agent   \n",
       "3  Corporate Auto  Corporate L2            Offer1    Call Center   \n",
       "4   Personal Auto   Personal L1            Offer1          Agent   \n",
       "\n",
       "  total_claim_amount  vehicle_class vehicle_size  \n",
       "0         384.811147   Two-Door Car      Medsize  \n",
       "1        1131.464935  Four-Door Car      Medsize  \n",
       "2         566.472247   Two-Door Car      Medsize  \n",
       "3         529.881344            SUV      Medsize  \n",
       "4         138.130879  Four-Door Car      Medsize  \n",
       "\n",
       "[5 rows x 24 columns]"
      ]
     },
     "execution_count": 211,
     "metadata": {},
     "output_type": "execute_result"
    }
   ],
   "source": [
    "data_c.head()"
   ]
  },
  {
   "cell_type": "markdown",
   "id": "through-detail",
   "metadata": {},
   "source": [
    "- ***change the column effective_to_date from object to date***"
   ]
  },
  {
   "cell_type": "code",
   "execution_count": 212,
   "id": "favorite-injection",
   "metadata": {},
   "outputs": [],
   "source": [
    "data_c['effective_to_date'] = pd.to_datetime(data_c['effective_to_date'], errors='coerce')"
   ]
  },
  {
   "cell_type": "code",
   "execution_count": 213,
   "id": "muslim-sterling",
   "metadata": {},
   "outputs": [
    {
     "data": {
      "text/plain": [
       "customer                                 object\n",
       "state                                    object\n",
       "customer_lifetime_value                 float64\n",
       "response                                 object\n",
       "coverage                                 object\n",
       "education                                object\n",
       "effective_to_date                datetime64[ns]\n",
       "employmentstatus                         object\n",
       "gender                                   object\n",
       "income                                    int64\n",
       "location_code                            object\n",
       "marital_status                           object\n",
       "monthly_premium_auto                      int64\n",
       "months_since_last_claim                   int64\n",
       "months_since_policy_inception             int64\n",
       "number_of_open_complaints                 int64\n",
       "number_of_policies                        int64\n",
       "policy_type                              object\n",
       "policy                                   object\n",
       "renew_offer_type                         object\n",
       "sales_channel                            object\n",
       "total_claim_amount                      float64\n",
       "vehicle_class                            object\n",
       "vehicle_size                             object\n",
       "dtype: object"
      ]
     },
     "execution_count": 213,
     "metadata": {},
     "output_type": "execute_result"
    }
   ],
   "source": [
    "data_c.dtypes"
   ]
  },
  {
   "cell_type": "markdown",
   "id": "saved-prefix",
   "metadata": {},
   "source": [
    "- ***Transform the time variables (day, week and month) to integers.***"
   ]
  },
  {
   "cell_type": "code",
   "execution_count": 214,
   "id": "expired-found",
   "metadata": {},
   "outputs": [],
   "source": [
    "data_c['day'] = pd.DatetimeIndex(data_c['effective_to_date']).day"
   ]
  },
  {
   "cell_type": "code",
   "execution_count": 215,
   "id": "expired-short",
   "metadata": {},
   "outputs": [],
   "source": [
    "data_c['month'] = pd.DatetimeIndex(data_c['effective_to_date']).month"
   ]
  },
  {
   "cell_type": "code",
   "execution_count": 216,
   "id": "original-persian",
   "metadata": {},
   "outputs": [
    {
     "name": "stderr",
     "output_type": "stream",
     "text": [
      "<ipython-input-216-f47953e2e7fa>:1: FutureWarning: weekofyear and week have been deprecated, please use DatetimeIndex.isocalendar().week instead, which returns a Series.  To exactly reproduce the behavior of week and weekofyear and return an Index, you may call pd.Int64Index(idx.isocalendar().week)\n",
      "  data_c['weeknumber'] = pd.DatetimeIndex(data_c['effective_to_date']).week\n"
     ]
    }
   ],
   "source": [
    "data_c['weeknumber'] = pd.DatetimeIndex(data_c['effective_to_date']).week"
   ]
  },
  {
   "cell_type": "code",
   "execution_count": 217,
   "id": "trying-roman",
   "metadata": {},
   "outputs": [
    {
     "data": {
      "text/html": [
       "<div>\n",
       "<style scoped>\n",
       "    .dataframe tbody tr th:only-of-type {\n",
       "        vertical-align: middle;\n",
       "    }\n",
       "\n",
       "    .dataframe tbody tr th {\n",
       "        vertical-align: top;\n",
       "    }\n",
       "\n",
       "    .dataframe thead th {\n",
       "        text-align: right;\n",
       "    }\n",
       "</style>\n",
       "<table border=\"1\" class=\"dataframe\">\n",
       "  <thead>\n",
       "    <tr style=\"text-align: right;\">\n",
       "      <th></th>\n",
       "      <th>customer</th>\n",
       "      <th>state</th>\n",
       "      <th>customer_lifetime_value</th>\n",
       "      <th>response</th>\n",
       "      <th>coverage</th>\n",
       "      <th>education</th>\n",
       "      <th>effective_to_date</th>\n",
       "      <th>employmentstatus</th>\n",
       "      <th>gender</th>\n",
       "      <th>income</th>\n",
       "      <th>...</th>\n",
       "      <th>policy_type</th>\n",
       "      <th>policy</th>\n",
       "      <th>renew_offer_type</th>\n",
       "      <th>sales_channel</th>\n",
       "      <th>total_claim_amount</th>\n",
       "      <th>vehicle_class</th>\n",
       "      <th>vehicle_size</th>\n",
       "      <th>day</th>\n",
       "      <th>month</th>\n",
       "      <th>weeknumber</th>\n",
       "    </tr>\n",
       "  </thead>\n",
       "  <tbody>\n",
       "    <tr>\n",
       "      <th>0</th>\n",
       "      <td>BU79786</td>\n",
       "      <td>Washington</td>\n",
       "      <td>2763.519279</td>\n",
       "      <td>No</td>\n",
       "      <td>Basic</td>\n",
       "      <td>Bachelor</td>\n",
       "      <td>2011-02-24</td>\n",
       "      <td>Employed</td>\n",
       "      <td>F</td>\n",
       "      <td>56274</td>\n",
       "      <td>...</td>\n",
       "      <td>Corporate Auto</td>\n",
       "      <td>Corporate L3</td>\n",
       "      <td>Offer1</td>\n",
       "      <td>Agent</td>\n",
       "      <td>384.811147</td>\n",
       "      <td>Two-Door Car</td>\n",
       "      <td>Medsize</td>\n",
       "      <td>24</td>\n",
       "      <td>2</td>\n",
       "      <td>8</td>\n",
       "    </tr>\n",
       "    <tr>\n",
       "      <th>1</th>\n",
       "      <td>QZ44356</td>\n",
       "      <td>Arizona</td>\n",
       "      <td>6979.535903</td>\n",
       "      <td>No</td>\n",
       "      <td>Extended</td>\n",
       "      <td>Bachelor</td>\n",
       "      <td>2011-01-31</td>\n",
       "      <td>Unemployed</td>\n",
       "      <td>F</td>\n",
       "      <td>0</td>\n",
       "      <td>...</td>\n",
       "      <td>Personal Auto</td>\n",
       "      <td>Personal L3</td>\n",
       "      <td>Offer3</td>\n",
       "      <td>Agent</td>\n",
       "      <td>1131.464935</td>\n",
       "      <td>Four-Door Car</td>\n",
       "      <td>Medsize</td>\n",
       "      <td>31</td>\n",
       "      <td>1</td>\n",
       "      <td>5</td>\n",
       "    </tr>\n",
       "    <tr>\n",
       "      <th>2</th>\n",
       "      <td>AI49188</td>\n",
       "      <td>Nevada</td>\n",
       "      <td>12887.431650</td>\n",
       "      <td>No</td>\n",
       "      <td>Premium</td>\n",
       "      <td>Bachelor</td>\n",
       "      <td>2011-02-19</td>\n",
       "      <td>Employed</td>\n",
       "      <td>F</td>\n",
       "      <td>48767</td>\n",
       "      <td>...</td>\n",
       "      <td>Personal Auto</td>\n",
       "      <td>Personal L3</td>\n",
       "      <td>Offer1</td>\n",
       "      <td>Agent</td>\n",
       "      <td>566.472247</td>\n",
       "      <td>Two-Door Car</td>\n",
       "      <td>Medsize</td>\n",
       "      <td>19</td>\n",
       "      <td>2</td>\n",
       "      <td>7</td>\n",
       "    </tr>\n",
       "    <tr>\n",
       "      <th>3</th>\n",
       "      <td>WW63253</td>\n",
       "      <td>California</td>\n",
       "      <td>7645.861827</td>\n",
       "      <td>No</td>\n",
       "      <td>Basic</td>\n",
       "      <td>Bachelor</td>\n",
       "      <td>2011-01-20</td>\n",
       "      <td>Unemployed</td>\n",
       "      <td>M</td>\n",
       "      <td>0</td>\n",
       "      <td>...</td>\n",
       "      <td>Corporate Auto</td>\n",
       "      <td>Corporate L2</td>\n",
       "      <td>Offer1</td>\n",
       "      <td>Call Center</td>\n",
       "      <td>529.881344</td>\n",
       "      <td>SUV</td>\n",
       "      <td>Medsize</td>\n",
       "      <td>20</td>\n",
       "      <td>1</td>\n",
       "      <td>3</td>\n",
       "    </tr>\n",
       "    <tr>\n",
       "      <th>4</th>\n",
       "      <td>HB64268</td>\n",
       "      <td>Washington</td>\n",
       "      <td>2813.692575</td>\n",
       "      <td>No</td>\n",
       "      <td>Basic</td>\n",
       "      <td>Bachelor</td>\n",
       "      <td>2011-02-03</td>\n",
       "      <td>Employed</td>\n",
       "      <td>M</td>\n",
       "      <td>43836</td>\n",
       "      <td>...</td>\n",
       "      <td>Personal Auto</td>\n",
       "      <td>Personal L1</td>\n",
       "      <td>Offer1</td>\n",
       "      <td>Agent</td>\n",
       "      <td>138.130879</td>\n",
       "      <td>Four-Door Car</td>\n",
       "      <td>Medsize</td>\n",
       "      <td>3</td>\n",
       "      <td>2</td>\n",
       "      <td>5</td>\n",
       "    </tr>\n",
       "  </tbody>\n",
       "</table>\n",
       "<p>5 rows × 27 columns</p>\n",
       "</div>"
      ],
      "text/plain": [
       "  customer       state  customer_lifetime_value response  coverage education  \\\n",
       "0  BU79786  Washington              2763.519279       No     Basic  Bachelor   \n",
       "1  QZ44356     Arizona              6979.535903       No  Extended  Bachelor   \n",
       "2  AI49188      Nevada             12887.431650       No   Premium  Bachelor   \n",
       "3  WW63253  California              7645.861827       No     Basic  Bachelor   \n",
       "4  HB64268  Washington              2813.692575       No     Basic  Bachelor   \n",
       "\n",
       "  effective_to_date employmentstatus gender  income  ...     policy_type  \\\n",
       "0        2011-02-24         Employed      F   56274  ...  Corporate Auto   \n",
       "1        2011-01-31       Unemployed      F       0  ...   Personal Auto   \n",
       "2        2011-02-19         Employed      F   48767  ...   Personal Auto   \n",
       "3        2011-01-20       Unemployed      M       0  ...  Corporate Auto   \n",
       "4        2011-02-03         Employed      M   43836  ...   Personal Auto   \n",
       "\n",
       "         policy  renew_offer_type  sales_channel  total_claim_amount  \\\n",
       "0  Corporate L3            Offer1          Agent          384.811147   \n",
       "1   Personal L3            Offer3          Agent         1131.464935   \n",
       "2   Personal L3            Offer1          Agent          566.472247   \n",
       "3  Corporate L2            Offer1    Call Center          529.881344   \n",
       "4   Personal L1            Offer1          Agent          138.130879   \n",
       "\n",
       "   vehicle_class  vehicle_size day month weeknumber  \n",
       "0   Two-Door Car       Medsize  24     2          8  \n",
       "1  Four-Door Car       Medsize  31     1          5  \n",
       "2   Two-Door Car       Medsize  19     2          7  \n",
       "3            SUV       Medsize  20     1          3  \n",
       "4  Four-Door Car       Medsize   3     2          5  \n",
       "\n",
       "[5 rows x 27 columns]"
      ]
     },
     "execution_count": 217,
     "metadata": {},
     "output_type": "execute_result"
    }
   ],
   "source": [
    "data_c.head()"
   ]
  },
  {
   "cell_type": "markdown",
   "id": "mounted-contractor",
   "metadata": {},
   "source": [
    "\n",
    "\n",
    "Result: The column 'effective_to_date' is split into day, month and week. The column 'effective_to_date' will remove from the dataset.\n",
    "\n"
   ]
  },
  {
   "cell_type": "code",
   "execution_count": 218,
   "id": "waiting-stylus",
   "metadata": {},
   "outputs": [],
   "source": [
    "data_c = data_c.drop(['effective_to_date'], axis=1)"
   ]
  },
  {
   "cell_type": "code",
   "execution_count": 219,
   "id": "european-oracle",
   "metadata": {},
   "outputs": [
    {
     "data": {
      "text/html": [
       "<div>\n",
       "<style scoped>\n",
       "    .dataframe tbody tr th:only-of-type {\n",
       "        vertical-align: middle;\n",
       "    }\n",
       "\n",
       "    .dataframe tbody tr th {\n",
       "        vertical-align: top;\n",
       "    }\n",
       "\n",
       "    .dataframe thead th {\n",
       "        text-align: right;\n",
       "    }\n",
       "</style>\n",
       "<table border=\"1\" class=\"dataframe\">\n",
       "  <thead>\n",
       "    <tr style=\"text-align: right;\">\n",
       "      <th></th>\n",
       "      <th>customer</th>\n",
       "      <th>state</th>\n",
       "      <th>customer_lifetime_value</th>\n",
       "      <th>response</th>\n",
       "      <th>coverage</th>\n",
       "      <th>education</th>\n",
       "      <th>employmentstatus</th>\n",
       "      <th>gender</th>\n",
       "      <th>income</th>\n",
       "      <th>location_code</th>\n",
       "      <th>...</th>\n",
       "      <th>policy_type</th>\n",
       "      <th>policy</th>\n",
       "      <th>renew_offer_type</th>\n",
       "      <th>sales_channel</th>\n",
       "      <th>total_claim_amount</th>\n",
       "      <th>vehicle_class</th>\n",
       "      <th>vehicle_size</th>\n",
       "      <th>day</th>\n",
       "      <th>month</th>\n",
       "      <th>weeknumber</th>\n",
       "    </tr>\n",
       "  </thead>\n",
       "  <tbody>\n",
       "    <tr>\n",
       "      <th>0</th>\n",
       "      <td>BU79786</td>\n",
       "      <td>Washington</td>\n",
       "      <td>2763.519279</td>\n",
       "      <td>No</td>\n",
       "      <td>Basic</td>\n",
       "      <td>Bachelor</td>\n",
       "      <td>Employed</td>\n",
       "      <td>F</td>\n",
       "      <td>56274</td>\n",
       "      <td>Suburban</td>\n",
       "      <td>...</td>\n",
       "      <td>Corporate Auto</td>\n",
       "      <td>Corporate L3</td>\n",
       "      <td>Offer1</td>\n",
       "      <td>Agent</td>\n",
       "      <td>384.811147</td>\n",
       "      <td>Two-Door Car</td>\n",
       "      <td>Medsize</td>\n",
       "      <td>24</td>\n",
       "      <td>2</td>\n",
       "      <td>8</td>\n",
       "    </tr>\n",
       "    <tr>\n",
       "      <th>1</th>\n",
       "      <td>QZ44356</td>\n",
       "      <td>Arizona</td>\n",
       "      <td>6979.535903</td>\n",
       "      <td>No</td>\n",
       "      <td>Extended</td>\n",
       "      <td>Bachelor</td>\n",
       "      <td>Unemployed</td>\n",
       "      <td>F</td>\n",
       "      <td>0</td>\n",
       "      <td>Suburban</td>\n",
       "      <td>...</td>\n",
       "      <td>Personal Auto</td>\n",
       "      <td>Personal L3</td>\n",
       "      <td>Offer3</td>\n",
       "      <td>Agent</td>\n",
       "      <td>1131.464935</td>\n",
       "      <td>Four-Door Car</td>\n",
       "      <td>Medsize</td>\n",
       "      <td>31</td>\n",
       "      <td>1</td>\n",
       "      <td>5</td>\n",
       "    </tr>\n",
       "    <tr>\n",
       "      <th>2</th>\n",
       "      <td>AI49188</td>\n",
       "      <td>Nevada</td>\n",
       "      <td>12887.431650</td>\n",
       "      <td>No</td>\n",
       "      <td>Premium</td>\n",
       "      <td>Bachelor</td>\n",
       "      <td>Employed</td>\n",
       "      <td>F</td>\n",
       "      <td>48767</td>\n",
       "      <td>Suburban</td>\n",
       "      <td>...</td>\n",
       "      <td>Personal Auto</td>\n",
       "      <td>Personal L3</td>\n",
       "      <td>Offer1</td>\n",
       "      <td>Agent</td>\n",
       "      <td>566.472247</td>\n",
       "      <td>Two-Door Car</td>\n",
       "      <td>Medsize</td>\n",
       "      <td>19</td>\n",
       "      <td>2</td>\n",
       "      <td>7</td>\n",
       "    </tr>\n",
       "    <tr>\n",
       "      <th>3</th>\n",
       "      <td>WW63253</td>\n",
       "      <td>California</td>\n",
       "      <td>7645.861827</td>\n",
       "      <td>No</td>\n",
       "      <td>Basic</td>\n",
       "      <td>Bachelor</td>\n",
       "      <td>Unemployed</td>\n",
       "      <td>M</td>\n",
       "      <td>0</td>\n",
       "      <td>Suburban</td>\n",
       "      <td>...</td>\n",
       "      <td>Corporate Auto</td>\n",
       "      <td>Corporate L2</td>\n",
       "      <td>Offer1</td>\n",
       "      <td>Call Center</td>\n",
       "      <td>529.881344</td>\n",
       "      <td>SUV</td>\n",
       "      <td>Medsize</td>\n",
       "      <td>20</td>\n",
       "      <td>1</td>\n",
       "      <td>3</td>\n",
       "    </tr>\n",
       "    <tr>\n",
       "      <th>4</th>\n",
       "      <td>HB64268</td>\n",
       "      <td>Washington</td>\n",
       "      <td>2813.692575</td>\n",
       "      <td>No</td>\n",
       "      <td>Basic</td>\n",
       "      <td>Bachelor</td>\n",
       "      <td>Employed</td>\n",
       "      <td>M</td>\n",
       "      <td>43836</td>\n",
       "      <td>Rural</td>\n",
       "      <td>...</td>\n",
       "      <td>Personal Auto</td>\n",
       "      <td>Personal L1</td>\n",
       "      <td>Offer1</td>\n",
       "      <td>Agent</td>\n",
       "      <td>138.130879</td>\n",
       "      <td>Four-Door Car</td>\n",
       "      <td>Medsize</td>\n",
       "      <td>3</td>\n",
       "      <td>2</td>\n",
       "      <td>5</td>\n",
       "    </tr>\n",
       "  </tbody>\n",
       "</table>\n",
       "<p>5 rows × 26 columns</p>\n",
       "</div>"
      ],
      "text/plain": [
       "  customer       state  customer_lifetime_value response  coverage education  \\\n",
       "0  BU79786  Washington              2763.519279       No     Basic  Bachelor   \n",
       "1  QZ44356     Arizona              6979.535903       No  Extended  Bachelor   \n",
       "2  AI49188      Nevada             12887.431650       No   Premium  Bachelor   \n",
       "3  WW63253  California              7645.861827       No     Basic  Bachelor   \n",
       "4  HB64268  Washington              2813.692575       No     Basic  Bachelor   \n",
       "\n",
       "  employmentstatus gender  income location_code  ...     policy_type  \\\n",
       "0         Employed      F   56274      Suburban  ...  Corporate Auto   \n",
       "1       Unemployed      F       0      Suburban  ...   Personal Auto   \n",
       "2         Employed      F   48767      Suburban  ...   Personal Auto   \n",
       "3       Unemployed      M       0      Suburban  ...  Corporate Auto   \n",
       "4         Employed      M   43836         Rural  ...   Personal Auto   \n",
       "\n",
       "         policy  renew_offer_type  sales_channel  total_claim_amount  \\\n",
       "0  Corporate L3            Offer1          Agent          384.811147   \n",
       "1   Personal L3            Offer3          Agent         1131.464935   \n",
       "2   Personal L3            Offer1          Agent          566.472247   \n",
       "3  Corporate L2            Offer1    Call Center          529.881344   \n",
       "4   Personal L1            Offer1          Agent          138.130879   \n",
       "\n",
       "   vehicle_class vehicle_size day month weeknumber  \n",
       "0   Two-Door Car      Medsize  24     2          8  \n",
       "1  Four-Door Car      Medsize  31     1          5  \n",
       "2   Two-Door Car      Medsize  19     2          7  \n",
       "3            SUV      Medsize  20     1          3  \n",
       "4  Four-Door Car      Medsize   3     2          5  \n",
       "\n",
       "[5 rows x 26 columns]"
      ]
     },
     "execution_count": 219,
     "metadata": {},
     "output_type": "execute_result"
    }
   ],
   "source": [
    "data_c.head()"
   ]
  },
  {
   "cell_type": "code",
   "execution_count": 220,
   "id": "outdoor-current",
   "metadata": {},
   "outputs": [
    {
     "data": {
      "text/plain": [
       "customer                          object\n",
       "state                             object\n",
       "customer_lifetime_value          float64\n",
       "response                          object\n",
       "coverage                          object\n",
       "education                         object\n",
       "employmentstatus                  object\n",
       "gender                            object\n",
       "income                             int64\n",
       "location_code                     object\n",
       "marital_status                    object\n",
       "monthly_premium_auto               int64\n",
       "months_since_last_claim            int64\n",
       "months_since_policy_inception      int64\n",
       "number_of_open_complaints          int64\n",
       "number_of_policies                 int64\n",
       "policy_type                       object\n",
       "policy                            object\n",
       "renew_offer_type                  object\n",
       "sales_channel                     object\n",
       "total_claim_amount               float64\n",
       "vehicle_class                     object\n",
       "vehicle_size                      object\n",
       "day                                int64\n",
       "month                              int64\n",
       "weeknumber                         int64\n",
       "dtype: object"
      ]
     },
     "execution_count": 220,
     "metadata": {},
     "output_type": "execute_result"
    }
   ],
   "source": [
    "data_c.dtypes"
   ]
  },
  {
   "cell_type": "markdown",
   "id": "psychological-duncan",
   "metadata": {},
   "source": [
    "- ***Split the dataset into data_num (only numerical data) only to check the outliers.***"
   ]
  },
  {
   "cell_type": "code",
   "execution_count": 221,
   "id": "musical-typing",
   "metadata": {},
   "outputs": [],
   "source": [
    "data_num = data_c.select_dtypes(include = np.number)"
   ]
  },
  {
   "cell_type": "markdown",
   "id": "looking-poultry",
   "metadata": {},
   "source": [
    " *** Check the outliers in the numerical data***\n",
    " - using the boxplot to visalize the outliers and describe()-function"
   ]
  },
  {
   "cell_type": "code",
   "execution_count": 222,
   "id": "ranging-venice",
   "metadata": {},
   "outputs": [
    {
     "data": {
      "text/html": [
       "<div>\n",
       "<style scoped>\n",
       "    .dataframe tbody tr th:only-of-type {\n",
       "        vertical-align: middle;\n",
       "    }\n",
       "\n",
       "    .dataframe tbody tr th {\n",
       "        vertical-align: top;\n",
       "    }\n",
       "\n",
       "    .dataframe thead th {\n",
       "        text-align: right;\n",
       "    }\n",
       "</style>\n",
       "<table border=\"1\" class=\"dataframe\">\n",
       "  <thead>\n",
       "    <tr style=\"text-align: right;\">\n",
       "      <th></th>\n",
       "      <th>customer_lifetime_value</th>\n",
       "      <th>income</th>\n",
       "      <th>monthly_premium_auto</th>\n",
       "      <th>months_since_last_claim</th>\n",
       "      <th>months_since_policy_inception</th>\n",
       "      <th>number_of_open_complaints</th>\n",
       "      <th>number_of_policies</th>\n",
       "      <th>total_claim_amount</th>\n",
       "      <th>day</th>\n",
       "      <th>month</th>\n",
       "      <th>weeknumber</th>\n",
       "    </tr>\n",
       "  </thead>\n",
       "  <tbody>\n",
       "    <tr>\n",
       "      <th>count</th>\n",
       "      <td>9134.000000</td>\n",
       "      <td>9134.000000</td>\n",
       "      <td>9134.000000</td>\n",
       "      <td>9134.000000</td>\n",
       "      <td>9134.000000</td>\n",
       "      <td>9134.000000</td>\n",
       "      <td>9134.000000</td>\n",
       "      <td>9134.000000</td>\n",
       "      <td>9134.000000</td>\n",
       "      <td>9134.000000</td>\n",
       "      <td>9134.000000</td>\n",
       "    </tr>\n",
       "    <tr>\n",
       "      <th>mean</th>\n",
       "      <td>8004.940475</td>\n",
       "      <td>37657.380009</td>\n",
       "      <td>93.219291</td>\n",
       "      <td>15.097000</td>\n",
       "      <td>48.064594</td>\n",
       "      <td>0.384388</td>\n",
       "      <td>2.966170</td>\n",
       "      <td>434.088794</td>\n",
       "      <td>15.461134</td>\n",
       "      <td>1.463762</td>\n",
       "      <td>6.160499</td>\n",
       "    </tr>\n",
       "    <tr>\n",
       "      <th>std</th>\n",
       "      <td>6870.967608</td>\n",
       "      <td>30379.904734</td>\n",
       "      <td>34.407967</td>\n",
       "      <td>10.073257</td>\n",
       "      <td>27.905991</td>\n",
       "      <td>0.910384</td>\n",
       "      <td>2.390182</td>\n",
       "      <td>290.500092</td>\n",
       "      <td>8.653770</td>\n",
       "      <td>0.498712</td>\n",
       "      <td>8.864645</td>\n",
       "    </tr>\n",
       "    <tr>\n",
       "      <th>min</th>\n",
       "      <td>1898.007675</td>\n",
       "      <td>0.000000</td>\n",
       "      <td>61.000000</td>\n",
       "      <td>0.000000</td>\n",
       "      <td>0.000000</td>\n",
       "      <td>0.000000</td>\n",
       "      <td>1.000000</td>\n",
       "      <td>0.099007</td>\n",
       "      <td>1.000000</td>\n",
       "      <td>1.000000</td>\n",
       "      <td>1.000000</td>\n",
       "    </tr>\n",
       "    <tr>\n",
       "      <th>25%</th>\n",
       "      <td>3994.251794</td>\n",
       "      <td>0.000000</td>\n",
       "      <td>68.000000</td>\n",
       "      <td>6.000000</td>\n",
       "      <td>24.000000</td>\n",
       "      <td>0.000000</td>\n",
       "      <td>1.000000</td>\n",
       "      <td>272.258244</td>\n",
       "      <td>8.000000</td>\n",
       "      <td>1.000000</td>\n",
       "      <td>3.000000</td>\n",
       "    </tr>\n",
       "    <tr>\n",
       "      <th>50%</th>\n",
       "      <td>5780.182197</td>\n",
       "      <td>33889.500000</td>\n",
       "      <td>83.000000</td>\n",
       "      <td>14.000000</td>\n",
       "      <td>48.000000</td>\n",
       "      <td>0.000000</td>\n",
       "      <td>2.000000</td>\n",
       "      <td>383.945434</td>\n",
       "      <td>15.000000</td>\n",
       "      <td>1.000000</td>\n",
       "      <td>5.000000</td>\n",
       "    </tr>\n",
       "    <tr>\n",
       "      <th>75%</th>\n",
       "      <td>8962.167041</td>\n",
       "      <td>62320.000000</td>\n",
       "      <td>109.000000</td>\n",
       "      <td>23.000000</td>\n",
       "      <td>71.000000</td>\n",
       "      <td>0.000000</td>\n",
       "      <td>4.000000</td>\n",
       "      <td>547.514839</td>\n",
       "      <td>23.000000</td>\n",
       "      <td>2.000000</td>\n",
       "      <td>7.000000</td>\n",
       "    </tr>\n",
       "    <tr>\n",
       "      <th>max</th>\n",
       "      <td>83325.381190</td>\n",
       "      <td>99981.000000</td>\n",
       "      <td>298.000000</td>\n",
       "      <td>35.000000</td>\n",
       "      <td>99.000000</td>\n",
       "      <td>5.000000</td>\n",
       "      <td>9.000000</td>\n",
       "      <td>2893.239678</td>\n",
       "      <td>31.000000</td>\n",
       "      <td>2.000000</td>\n",
       "      <td>52.000000</td>\n",
       "    </tr>\n",
       "  </tbody>\n",
       "</table>\n",
       "</div>"
      ],
      "text/plain": [
       "       customer_lifetime_value        income  monthly_premium_auto  \\\n",
       "count              9134.000000   9134.000000           9134.000000   \n",
       "mean               8004.940475  37657.380009             93.219291   \n",
       "std                6870.967608  30379.904734             34.407967   \n",
       "min                1898.007675      0.000000             61.000000   \n",
       "25%                3994.251794      0.000000             68.000000   \n",
       "50%                5780.182197  33889.500000             83.000000   \n",
       "75%                8962.167041  62320.000000            109.000000   \n",
       "max               83325.381190  99981.000000            298.000000   \n",
       "\n",
       "       months_since_last_claim  months_since_policy_inception  \\\n",
       "count              9134.000000                    9134.000000   \n",
       "mean                 15.097000                      48.064594   \n",
       "std                  10.073257                      27.905991   \n",
       "min                   0.000000                       0.000000   \n",
       "25%                   6.000000                      24.000000   \n",
       "50%                  14.000000                      48.000000   \n",
       "75%                  23.000000                      71.000000   \n",
       "max                  35.000000                      99.000000   \n",
       "\n",
       "       number_of_open_complaints  number_of_policies  total_claim_amount  \\\n",
       "count                9134.000000         9134.000000         9134.000000   \n",
       "mean                    0.384388            2.966170          434.088794   \n",
       "std                     0.910384            2.390182          290.500092   \n",
       "min                     0.000000            1.000000            0.099007   \n",
       "25%                     0.000000            1.000000          272.258244   \n",
       "50%                     0.000000            2.000000          383.945434   \n",
       "75%                     0.000000            4.000000          547.514839   \n",
       "max                     5.000000            9.000000         2893.239678   \n",
       "\n",
       "               day        month   weeknumber  \n",
       "count  9134.000000  9134.000000  9134.000000  \n",
       "mean     15.461134     1.463762     6.160499  \n",
       "std       8.653770     0.498712     8.864645  \n",
       "min       1.000000     1.000000     1.000000  \n",
       "25%       8.000000     1.000000     3.000000  \n",
       "50%      15.000000     1.000000     5.000000  \n",
       "75%      23.000000     2.000000     7.000000  \n",
       "max      31.000000     2.000000    52.000000  "
      ]
     },
     "execution_count": 222,
     "metadata": {},
     "output_type": "execute_result"
    }
   ],
   "source": [
    "calc_data_num = data_num.describe()\n",
    "calc_data_num"
   ]
  },
  {
   "cell_type": "markdown",
   "id": "dependent-emerald",
   "metadata": {},
   "source": [
    "***- Calculate the borders (whisker) for Outliers***"
   ]
  },
  {
   "cell_type": "code",
   "execution_count": 223,
   "id": "anonymous-stanley",
   "metadata": {},
   "outputs": [
    {
     "data": {
      "text/plain": [
       "customer_lifetime_value          3994.251794\n",
       "income                              0.000000\n",
       "monthly_premium_auto               68.000000\n",
       "months_since_last_claim             6.000000\n",
       "months_since_policy_inception      24.000000\n",
       "number_of_open_complaints           0.000000\n",
       "number_of_policies                  1.000000\n",
       "total_claim_amount                272.258244\n",
       "day                                 8.000000\n",
       "month                               1.000000\n",
       "weeknumber                          3.000000\n",
       "Name: 0.25, dtype: float64"
      ]
     },
     "execution_count": 223,
     "metadata": {},
     "output_type": "execute_result"
    }
   ],
   "source": [
    "Q1 = data_c.quantile(q=0.25)\n",
    "Q1"
   ]
  },
  {
   "cell_type": "code",
   "execution_count": 224,
   "id": "breeding-offense",
   "metadata": {},
   "outputs": [
    {
     "data": {
      "text/plain": [
       "customer_lifetime_value           8962.167041\n",
       "income                           62320.000000\n",
       "monthly_premium_auto               109.000000\n",
       "months_since_last_claim             23.000000\n",
       "months_since_policy_inception       71.000000\n",
       "number_of_open_complaints            0.000000\n",
       "number_of_policies                   4.000000\n",
       "total_claim_amount                 547.514839\n",
       "day                                 23.000000\n",
       "month                                2.000000\n",
       "weeknumber                           7.000000\n",
       "Name: 0.75, dtype: float64"
      ]
     },
     "execution_count": 224,
     "metadata": {},
     "output_type": "execute_result"
    }
   ],
   "source": [
    "Q3 = data_c.quantile(q=0.75)\n",
    "Q3"
   ]
  },
  {
   "cell_type": "code",
   "execution_count": 225,
   "id": "relevant-dancing",
   "metadata": {},
   "outputs": [
    {
     "data": {
      "text/plain": [
       "customer_lifetime_value           4967.915247\n",
       "income                           62320.000000\n",
       "monthly_premium_auto                41.000000\n",
       "months_since_last_claim             17.000000\n",
       "months_since_policy_inception       47.000000\n",
       "number_of_open_complaints            0.000000\n",
       "number_of_policies                   3.000000\n",
       "total_claim_amount                 275.256594\n",
       "day                                 15.000000\n",
       "month                                1.000000\n",
       "weeknumber                           4.000000\n",
       "dtype: float64"
      ]
     },
     "execution_count": 225,
     "metadata": {},
     "output_type": "execute_result"
    }
   ],
   "source": [
    "IQR = Q3-Q1\n",
    "IQR"
   ]
  },
  {
   "cell_type": "code",
   "execution_count": 226,
   "id": "unique-marathon",
   "metadata": {},
   "outputs": [
    {
     "data": {
      "text/plain": [
       "(customer_lifetime_value           -973.663453\n",
       " income                          -62320.000000\n",
       " monthly_premium_auto                27.000000\n",
       " months_since_last_claim            -11.000000\n",
       " months_since_policy_inception      -23.000000\n",
       " number_of_open_complaints            0.000000\n",
       " number_of_policies                  -2.000000\n",
       " total_claim_amount                  -2.998350\n",
       " day                                 -7.000000\n",
       " month                                0.000000\n",
       " weeknumber                          -1.000000\n",
       " dtype: float64,\n",
       " 5)"
      ]
     },
     "execution_count": 226,
     "metadata": {},
     "output_type": "execute_result"
    }
   ],
   "source": [
    "lower_whisker = Q1 - IQR*1,5\n",
    "lower_whisker"
   ]
  },
  {
   "cell_type": "code",
   "execution_count": 227,
   "id": "induced-advisory",
   "metadata": {},
   "outputs": [
    {
     "data": {
      "text/plain": [
       "(customer_lifetime_value           13930.082288\n",
       " income                           124640.000000\n",
       " monthly_premium_auto                150.000000\n",
       " months_since_last_claim              40.000000\n",
       " months_since_policy_inception       118.000000\n",
       " number_of_open_complaints             0.000000\n",
       " number_of_policies                    7.000000\n",
       " total_claim_amount                  822.771433\n",
       " day                                  38.000000\n",
       " month                                 3.000000\n",
       " weeknumber                           11.000000\n",
       " dtype: float64,\n",
       " 5)"
      ]
     },
     "execution_count": 227,
     "metadata": {},
     "output_type": "execute_result"
    }
   ],
   "source": [
    "upper_whisker = Q3 + IQR*1,5\n",
    "upper_whisker"
   ]
  },
  {
   "cell_type": "markdown",
   "id": "reasonable-norman",
   "metadata": {},
   "source": [
    "***Visualization of the outliers***"
   ]
  },
  {
   "cell_type": "code",
   "execution_count": 228,
   "id": "desperate-alcohol",
   "metadata": {},
   "outputs": [
    {
     "data": {
      "image/png": "[encoded data removed]",
      "text/plain": [
       "<Figure size 432x288 with 1 Axes>"
      ]
     },
     "metadata": {
      "needs_background": "light"
     },
     "output_type": "display_data"
    }
   ],
   "source": [
    "plt.boxplot(data_num['customer_lifetime_value'])\n",
    "plt.show()"
   ]
  },
  {
   "cell_type": "code",
   "execution_count": 229,
   "id": "known-governor",
   "metadata": {},
   "outputs": [
    {
     "data": {
      "image/png": "[encoded data removed]",
      "text/plain": [
       "<Figure size 432x288 with 1 Axes>"
      ]
     },
     "metadata": {
      "needs_background": "light"
     },
     "output_type": "display_data"
    }
   ],
   "source": [
    "plt.boxplot(data_num['income'])\n",
    "plt.show()"
   ]
  },
  {
   "cell_type": "code",
   "execution_count": 230,
   "id": "delayed-digit",
   "metadata": {},
   "outputs": [
    {
     "data": {
      "image/png": "[encoded data removed]",
      "text/plain": [
       "<Figure size 432x288 with 1 Axes>"
      ]
     },
     "metadata": {
      "needs_background": "light"
     },
     "output_type": "display_data"
    }
   ],
   "source": [
    "plt.boxplot(data_num['monthly_premium_auto'])\n",
    "plt.show()"
   ]
  },
  {
   "cell_type": "code",
   "execution_count": 231,
   "id": "blind-piano",
   "metadata": {},
   "outputs": [
    {
     "data": {
      "image/png": "[encoded data removed]",
      "text/plain": [
       "<Figure size 432x288 with 1 Axes>"
      ]
     },
     "metadata": {
      "needs_background": "light"
     },
     "output_type": "display_data"
    }
   ],
   "source": [
    "plt.boxplot(data_num['months_since_last_claim'])\n",
    "plt.show()"
   ]
  },
  {
   "cell_type": "code",
   "execution_count": 232,
   "id": "limited-population",
   "metadata": {},
   "outputs": [
    {
     "data": {
      "image/png": "[encoded data removed]",
      "text/plain": [
       "<Figure size 432x288 with 1 Axes>"
      ]
     },
     "metadata": {
      "needs_background": "light"
     },
     "output_type": "display_data"
    }
   ],
   "source": [
    "plt.boxplot(data_num['months_since_policy_inception'])\n",
    "plt.show()"
   ]
  },
  {
   "cell_type": "code",
   "execution_count": 233,
   "id": "conservative-cursor",
   "metadata": {},
   "outputs": [
    {
     "data": {
      "image/png": "[encoded data removed]",
      "text/plain": [
       "<Figure size 432x288 with 1 Axes>"
      ]
     },
     "metadata": {
      "needs_background": "light"
     },
     "output_type": "display_data"
    }
   ],
   "source": [
    "plt.boxplot(data_num['number_of_open_complaints'])\n",
    "plt.show()"
   ]
  },
  {
   "cell_type": "code",
   "execution_count": 234,
   "id": "caroline-street",
   "metadata": {},
   "outputs": [
    {
     "data": {
      "image/png": "[encoded data removed]",
      "text/plain": [
       "<Figure size 432x288 with 1 Axes>"
      ]
     },
     "metadata": {
      "needs_background": "light"
     },
     "output_type": "display_data"
    }
   ],
   "source": [
    "plt.boxplot(data_num['number_of_policies'])\n",
    "plt.show()"
   ]
  },
  {
   "cell_type": "code",
   "execution_count": 235,
   "id": "national-adoption",
   "metadata": {},
   "outputs": [
    {
     "data": {
      "image/png": "[encoded data removed]",
      "text/plain": [
       "<Figure size 432x288 with 1 Axes>"
      ]
     },
     "metadata": {
      "needs_background": "light"
     },
     "output_type": "display_data"
    }
   ],
   "source": [
    "plt.boxplot(data_num['total_claim_amount'])\n",
    "plt.show()"
   ]
  },
  {
   "cell_type": "markdown",
   "id": "strange-coalition",
   "metadata": {},
   "source": [
    "*** What to do with outliers?***"
   ]
  },
  {
   "cell_type": "markdown",
   "id": "alleged-arthritis",
   "metadata": {},
   "source": [
    "Hint: Cap or drop\n",
    "Cap: do not exaggerate\n",
    "Drop: make sure it's not a typing mistake, drop outliers with significant impact"
   ]
  },
  {
   "cell_type": "markdown",
   "id": "geological-virus",
   "metadata": {},
   "source": [
    "-> I capped the outliers."
   ]
  },
  {
   "cell_type": "markdown",
   "id": "arbitrary-penetration",
   "metadata": {},
   "source": [
    "***'number_of_policies'***"
   ]
  },
  {
   "cell_type": "code",
   "execution_count": 236,
   "id": "roman-giving",
   "metadata": {},
   "outputs": [
    {
     "data": {
      "text/plain": [
       "8.0"
      ]
     },
     "execution_count": 236,
     "metadata": {},
     "output_type": "execute_result"
    }
   ],
   "source": [
    "Upper_lim1 = data_c['number_of_policies'].quantile(0.95) \n",
    "Upper_lim1"
   ]
  },
  {
   "cell_type": "code",
   "execution_count": 237,
   "id": "wanted-valentine",
   "metadata": {},
   "outputs": [
    {
     "data": {
      "text/plain": [
       "1.0"
      ]
     },
     "execution_count": 237,
     "metadata": {},
     "output_type": "execute_result"
    }
   ],
   "source": [
    "Lower_lim1 = data_c['number_of_policies'].quantile(0.05)\n",
    "Lower_lim1"
   ]
  },
  {
   "cell_type": "code",
   "execution_count": 238,
   "id": "pointed-subcommittee",
   "metadata": {},
   "outputs": [
    {
     "data": {
      "text/plain": [
       "6       9\n",
       "74      9\n",
       "94      9\n",
       "96      9\n",
       "98      9\n",
       "       ..\n",
       "8991    9\n",
       "9006    9\n",
       "9011    9\n",
       "9017    9\n",
       "9106    9\n",
       "Name: number_of_policies, Length: 416, dtype: int64"
      ]
     },
     "execution_count": 238,
     "metadata": {},
     "output_type": "execute_result"
    }
   ],
   "source": [
    "data_c.loc[(data_c['number_of_policies']> Upper_lim1), 'number_of_policies']"
   ]
  },
  {
   "cell_type": "code",
   "execution_count": 239,
   "id": "furnished-strand",
   "metadata": {},
   "outputs": [],
   "source": [
    "# There are no outliers below the lower_lim1\n",
    "#data_c.loc[(data_c['number_of_policies']< Lower_lim1), 'number_of_policies']"
   ]
  },
  {
   "cell_type": "code",
   "execution_count": 240,
   "id": "acting-leisure",
   "metadata": {},
   "outputs": [],
   "source": [
    "data_c = data_c.drop(data_c[data_c.number_of_policies > Upper_lim1].index)"
   ]
  },
  {
   "cell_type": "code",
   "execution_count": 241,
   "id": "passing-national",
   "metadata": {},
   "outputs": [
    {
     "name": "stdout",
     "output_type": "stream",
     "text": [
      "<class 'pandas.core.frame.DataFrame'>\n",
      "Int64Index: 8718 entries, 0 to 9133\n",
      "Data columns (total 26 columns):\n",
      " #   Column                         Non-Null Count  Dtype  \n",
      "---  ------                         --------------  -----  \n",
      " 0   customer                       8718 non-null   object \n",
      " 1   state                          8718 non-null   object \n",
      " 2   customer_lifetime_value        8718 non-null   float64\n",
      " 3   response                       8718 non-null   object \n",
      " 4   coverage                       8718 non-null   object \n",
      " 5   education                      8718 non-null   object \n",
      " 6   employmentstatus               8718 non-null   object \n",
      " 7   gender                         8718 non-null   object \n",
      " 8   income                         8718 non-null   int64  \n",
      " 9   location_code                  8718 non-null   object \n",
      " 10  marital_status                 8718 non-null   object \n",
      " 11  monthly_premium_auto           8718 non-null   int64  \n",
      " 12  months_since_last_claim        8718 non-null   int64  \n",
      " 13  months_since_policy_inception  8718 non-null   int64  \n",
      " 14  number_of_open_complaints      8718 non-null   int64  \n",
      " 15  number_of_policies             8718 non-null   int64  \n",
      " 16  policy_type                    8718 non-null   object \n",
      " 17  policy                         8718 non-null   object \n",
      " 18  renew_offer_type               8718 non-null   object \n",
      " 19  sales_channel                  8718 non-null   object \n",
      " 20  total_claim_amount             8718 non-null   float64\n",
      " 21  vehicle_class                  8718 non-null   object \n",
      " 22  vehicle_size                   8718 non-null   object \n",
      " 23  day                            8718 non-null   int64  \n",
      " 24  month                          8718 non-null   int64  \n",
      " 25  weeknumber                     8718 non-null   int64  \n",
      "dtypes: float64(2), int64(9), object(15)\n",
      "memory usage: 1.8+ MB\n"
     ]
    }
   ],
   "source": [
    "data_c.info()"
   ]
  },
  {
   "cell_type": "code",
   "execution_count": 242,
   "id": "documentary-necessity",
   "metadata": {},
   "outputs": [
    {
     "data": {
      "image/png": "[encoded data removed]",
      "text/plain": [
       "<Figure size 432x288 with 1 Axes>"
      ]
     },
     "metadata": {
      "needs_background": "light"
     },
     "output_type": "display_data"
    }
   ],
   "source": [
    "plt.boxplot(data_num['number_of_policies'])\n",
    "plt.show()"
   ]
  },
  {
   "cell_type": "markdown",
   "id": "competent-heather",
   "metadata": {},
   "source": [
    "***'customer_lifetime_value'***"
   ]
  },
  {
   "cell_type": "code",
   "execution_count": 243,
   "id": "heard-preparation",
   "metadata": {},
   "outputs": [
    {
     "data": {
      "text/plain": [
       "22316.673308499998"
      ]
     },
     "execution_count": 243,
     "metadata": {},
     "output_type": "execute_result"
    }
   ],
   "source": [
    "Upper_lim2 = data_c['customer_lifetime_value'].quantile(0.95) \n",
    "Upper_lim2"
   ]
  },
  {
   "cell_type": "code",
   "execution_count": 244,
   "id": "satisfied-arizona",
   "metadata": {},
   "outputs": [
    {
     "data": {
      "text/plain": [
       "2470.0702388"
      ]
     },
     "execution_count": 244,
     "metadata": {},
     "output_type": "execute_result"
    }
   ],
   "source": [
    "Lower_lim2 = data_c['customer_lifetime_value'].quantile(0.05)\n",
    "Lower_lim2"
   ]
  },
  {
   "cell_type": "code",
   "execution_count": 245,
   "id": "appropriate-drawing",
   "metadata": {},
   "outputs": [
    {
     "data": {
      "text/plain": [
       "8       24127.50402\n",
       "22      24127.50402\n",
       "50      36707.42639\n",
       "51      33473.34946\n",
       "63      24261.01777\n",
       "           ...     \n",
       "9062    30205.01297\n",
       "9097    30104.51969\n",
       "9110    34611.37896\n",
       "9122    25464.82059\n",
       "9129    23405.98798\n",
       "Name: customer_lifetime_value, Length: 436, dtype: float64"
      ]
     },
     "execution_count": 245,
     "metadata": {},
     "output_type": "execute_result"
    }
   ],
   "source": [
    "data_c.loc[(data_c['customer_lifetime_value']> Upper_lim2), 'customer_lifetime_value']"
   ]
  },
  {
   "cell_type": "code",
   "execution_count": 246,
   "id": "liable-computer",
   "metadata": {},
   "outputs": [
    {
     "data": {
      "text/plain": [
       "23      2450.190996\n",
       "24      2392.107890\n",
       "30      2454.583540\n",
       "44      2443.665166\n",
       "49      2294.478927\n",
       "           ...     \n",
       "9023    2117.989147\n",
       "9024    2290.681171\n",
       "9069    2224.555883\n",
       "9080    2230.275142\n",
       "9120    2114.738469\n",
       "Name: customer_lifetime_value, Length: 436, dtype: float64"
      ]
     },
     "execution_count": 246,
     "metadata": {},
     "output_type": "execute_result"
    }
   ],
   "source": [
    "data_c.loc[(data_c['customer_lifetime_value'] < Lower_lim2), 'customer_lifetime_value']"
   ]
  },
  {
   "cell_type": "code",
   "execution_count": 247,
   "id": "wound-humanitarian",
   "metadata": {},
   "outputs": [],
   "source": [
    "data_c = data_c.drop(data_c[data_c.customer_lifetime_value > Upper_lim2].index)"
   ]
  },
  {
   "cell_type": "code",
   "execution_count": 248,
   "id": "cardiac-attraction",
   "metadata": {},
   "outputs": [],
   "source": [
    "data_c = data_c.drop(data_c[data_c.customer_lifetime_value < Lower_lim2].index)"
   ]
  },
  {
   "cell_type": "code",
   "execution_count": 249,
   "id": "quick-airline",
   "metadata": {},
   "outputs": [
    {
     "name": "stdout",
     "output_type": "stream",
     "text": [
      "<class 'pandas.core.frame.DataFrame'>\n",
      "Int64Index: 7846 entries, 0 to 9133\n",
      "Data columns (total 26 columns):\n",
      " #   Column                         Non-Null Count  Dtype  \n",
      "---  ------                         --------------  -----  \n",
      " 0   customer                       7846 non-null   object \n",
      " 1   state                          7846 non-null   object \n",
      " 2   customer_lifetime_value        7846 non-null   float64\n",
      " 3   response                       7846 non-null   object \n",
      " 4   coverage                       7846 non-null   object \n",
      " 5   education                      7846 non-null   object \n",
      " 6   employmentstatus               7846 non-null   object \n",
      " 7   gender                         7846 non-null   object \n",
      " 8   income                         7846 non-null   int64  \n",
      " 9   location_code                  7846 non-null   object \n",
      " 10  marital_status                 7846 non-null   object \n",
      " 11  monthly_premium_auto           7846 non-null   int64  \n",
      " 12  months_since_last_claim        7846 non-null   int64  \n",
      " 13  months_since_policy_inception  7846 non-null   int64  \n",
      " 14  number_of_open_complaints      7846 non-null   int64  \n",
      " 15  number_of_policies             7846 non-null   int64  \n",
      " 16  policy_type                    7846 non-null   object \n",
      " 17  policy                         7846 non-null   object \n",
      " 18  renew_offer_type               7846 non-null   object \n",
      " 19  sales_channel                  7846 non-null   object \n",
      " 20  total_claim_amount             7846 non-null   float64\n",
      " 21  vehicle_class                  7846 non-null   object \n",
      " 22  vehicle_size                   7846 non-null   object \n",
      " 23  day                            7846 non-null   int64  \n",
      " 24  month                          7846 non-null   int64  \n",
      " 25  weeknumber                     7846 non-null   int64  \n",
      "dtypes: float64(2), int64(9), object(15)\n",
      "memory usage: 1.6+ MB\n"
     ]
    }
   ],
   "source": [
    "data_c.info()"
   ]
  },
  {
   "cell_type": "code",
   "execution_count": 250,
   "id": "stopped-collection",
   "metadata": {},
   "outputs": [
    {
     "data": {
      "image/png": "[encoded data removed]",
      "text/plain": [
       "<Figure size 432x288 with 1 Axes>"
      ]
     },
     "metadata": {
      "needs_background": "light"
     },
     "output_type": "display_data"
    }
   ],
   "source": [
    "plt.boxplot(data_num['customer_lifetime_value'])\n",
    "plt.show()"
   ]
  },
  {
   "cell_type": "markdown",
   "id": "usual-protocol",
   "metadata": {},
   "source": [
    "***'monthly_premium_auto'***"
   ]
  },
  {
   "cell_type": "code",
   "execution_count": 251,
   "id": "lesser-crossing",
   "metadata": {},
   "outputs": [
    {
     "data": {
      "text/plain": [
       "154.0"
      ]
     },
     "execution_count": 251,
     "metadata": {},
     "output_type": "execute_result"
    }
   ],
   "source": [
    "Upper_lim3 = data_c['monthly_premium_auto'].quantile(0.95) \n",
    "Upper_lim3"
   ]
  },
  {
   "cell_type": "code",
   "execution_count": 252,
   "id": "irish-correspondence",
   "metadata": {},
   "outputs": [
    {
     "data": {
      "text/plain": [
       "63.0"
      ]
     },
     "execution_count": 252,
     "metadata": {},
     "output_type": "execute_result"
    }
   ],
   "source": [
    "Lower_lim3 = data_c['monthly_premium_auto'].quantile(0.05)\n",
    "Lower_lim3"
   ]
  },
  {
   "cell_type": "code",
   "execution_count": 253,
   "id": "annual-employer",
   "metadata": {},
   "outputs": [
    {
     "data": {
      "text/plain": [
       "31      237\n",
       "45      172\n",
       "123     192\n",
       "143     168\n",
       "181     217\n",
       "       ... \n",
       "9020    176\n",
       "9026    213\n",
       "9096    177\n",
       "9103    195\n",
       "9125    185\n",
       "Name: monthly_premium_auto, Length: 392, dtype: int64"
      ]
     },
     "execution_count": 253,
     "metadata": {},
     "output_type": "execute_result"
    }
   ],
   "source": [
    "data_c.loc[(data_c['monthly_premium_auto']> Upper_lim3), 'monthly_premium_auto']"
   ]
  },
  {
   "cell_type": "code",
   "execution_count": 254,
   "id": "continued-professor",
   "metadata": {},
   "outputs": [
    {
     "data": {
      "text/plain": [
       "34      62\n",
       "97      62\n",
       "102     62\n",
       "167     61\n",
       "182     62\n",
       "        ..\n",
       "8958    62\n",
       "9042    62\n",
       "9060    61\n",
       "9081    61\n",
       "9092    61\n",
       "Name: monthly_premium_auto, Length: 352, dtype: int64"
      ]
     },
     "execution_count": 254,
     "metadata": {},
     "output_type": "execute_result"
    }
   ],
   "source": [
    "data_c.loc[(data_c['monthly_premium_auto'] < Lower_lim3), 'monthly_premium_auto']"
   ]
  },
  {
   "cell_type": "code",
   "execution_count": 255,
   "id": "technical-permit",
   "metadata": {},
   "outputs": [],
   "source": [
    "data_c = data_c.drop(data_c[data_c.monthly_premium_auto > Upper_lim3].index)"
   ]
  },
  {
   "cell_type": "code",
   "execution_count": 256,
   "id": "anonymous-bulletin",
   "metadata": {},
   "outputs": [],
   "source": [
    "data_c = data_c.drop(data_c[data_c.monthly_premium_auto < Lower_lim3].index)"
   ]
  },
  {
   "cell_type": "code",
   "execution_count": 257,
   "id": "based-testing",
   "metadata": {},
   "outputs": [
    {
     "name": "stdout",
     "output_type": "stream",
     "text": [
      "<class 'pandas.core.frame.DataFrame'>\n",
      "Int64Index: 7102 entries, 0 to 9133\n",
      "Data columns (total 26 columns):\n",
      " #   Column                         Non-Null Count  Dtype  \n",
      "---  ------                         --------------  -----  \n",
      " 0   customer                       7102 non-null   object \n",
      " 1   state                          7102 non-null   object \n",
      " 2   customer_lifetime_value        7102 non-null   float64\n",
      " 3   response                       7102 non-null   object \n",
      " 4   coverage                       7102 non-null   object \n",
      " 5   education                      7102 non-null   object \n",
      " 6   employmentstatus               7102 non-null   object \n",
      " 7   gender                         7102 non-null   object \n",
      " 8   income                         7102 non-null   int64  \n",
      " 9   location_code                  7102 non-null   object \n",
      " 10  marital_status                 7102 non-null   object \n",
      " 11  monthly_premium_auto           7102 non-null   int64  \n",
      " 12  months_since_last_claim        7102 non-null   int64  \n",
      " 13  months_since_policy_inception  7102 non-null   int64  \n",
      " 14  number_of_open_complaints      7102 non-null   int64  \n",
      " 15  number_of_policies             7102 non-null   int64  \n",
      " 16  policy_type                    7102 non-null   object \n",
      " 17  policy                         7102 non-null   object \n",
      " 18  renew_offer_type               7102 non-null   object \n",
      " 19  sales_channel                  7102 non-null   object \n",
      " 20  total_claim_amount             7102 non-null   float64\n",
      " 21  vehicle_class                  7102 non-null   object \n",
      " 22  vehicle_size                   7102 non-null   object \n",
      " 23  day                            7102 non-null   int64  \n",
      " 24  month                          7102 non-null   int64  \n",
      " 25  weeknumber                     7102 non-null   int64  \n",
      "dtypes: float64(2), int64(9), object(15)\n",
      "memory usage: 1.5+ MB\n"
     ]
    }
   ],
   "source": [
    "data_c.info()"
   ]
  },
  {
   "cell_type": "markdown",
   "id": "inside-reason",
   "metadata": {},
   "source": [
    "***'total_claim_amount'***"
   ]
  },
  {
   "cell_type": "code",
   "execution_count": 258,
   "id": "outside-butler",
   "metadata": {},
   "outputs": [],
   "source": [
    "Upper_lim4 = data_c['total_claim_amount'].quantile(0.95) \n",
    "Lower_lim4 = data_c['total_claim_amount'].quantile(0.05)"
   ]
  },
  {
   "cell_type": "code",
   "execution_count": 259,
   "id": "cathedral-native",
   "metadata": {},
   "outputs": [
    {
     "data": {
      "text/plain": [
       "1       1131.464935\n",
       "42       882.871945\n",
       "54       831.625979\n",
       "62       863.327324\n",
       "73       982.399613\n",
       "           ...     \n",
       "9035     978.257137\n",
       "9038     873.127345\n",
       "9078     880.435943\n",
       "9107    1027.000029\n",
       "9109    1254.177129\n",
       "Name: total_claim_amount, Length: 356, dtype: float64"
      ]
     },
     "execution_count": 259,
     "metadata": {},
     "output_type": "execute_result"
    }
   ],
   "source": [
    "data_c.loc[(data_c['total_claim_amount']> Upper_lim4), 'total_claim_amount']"
   ]
  },
  {
   "cell_type": "code",
   "execution_count": 260,
   "id": "recorded-setting",
   "metadata": {},
   "outputs": [
    {
     "data": {
      "text/plain": [
       "15      42.920271\n",
       "41      18.918935\n",
       "71       5.434505\n",
       "76      29.034160\n",
       "80      25.807685\n",
       "          ...    \n",
       "8915     3.406136\n",
       "8925    29.828668\n",
       "8945    44.159065\n",
       "8949    10.367410\n",
       "9113     6.880385\n",
       "Name: total_claim_amount, Length: 356, dtype: float64"
      ]
     },
     "execution_count": 260,
     "metadata": {},
     "output_type": "execute_result"
    }
   ],
   "source": [
    "data_c.loc[(data_c['total_claim_amount'] < Lower_lim4), 'total_claim_amount']"
   ]
  },
  {
   "cell_type": "code",
   "execution_count": 261,
   "id": "corporate-softball",
   "metadata": {},
   "outputs": [
    {
     "name": "stdout",
     "output_type": "stream",
     "text": [
      "<class 'pandas.core.frame.DataFrame'>\n",
      "Int64Index: 6390 entries, 0 to 9133\n",
      "Data columns (total 26 columns):\n",
      " #   Column                         Non-Null Count  Dtype  \n",
      "---  ------                         --------------  -----  \n",
      " 0   customer                       6390 non-null   object \n",
      " 1   state                          6390 non-null   object \n",
      " 2   customer_lifetime_value        6390 non-null   float64\n",
      " 3   response                       6390 non-null   object \n",
      " 4   coverage                       6390 non-null   object \n",
      " 5   education                      6390 non-null   object \n",
      " 6   employmentstatus               6390 non-null   object \n",
      " 7   gender                         6390 non-null   object \n",
      " 8   income                         6390 non-null   int64  \n",
      " 9   location_code                  6390 non-null   object \n",
      " 10  marital_status                 6390 non-null   object \n",
      " 11  monthly_premium_auto           6390 non-null   int64  \n",
      " 12  months_since_last_claim        6390 non-null   int64  \n",
      " 13  months_since_policy_inception  6390 non-null   int64  \n",
      " 14  number_of_open_complaints      6390 non-null   int64  \n",
      " 15  number_of_policies             6390 non-null   int64  \n",
      " 16  policy_type                    6390 non-null   object \n",
      " 17  policy                         6390 non-null   object \n",
      " 18  renew_offer_type               6390 non-null   object \n",
      " 19  sales_channel                  6390 non-null   object \n",
      " 20  total_claim_amount             6390 non-null   float64\n",
      " 21  vehicle_class                  6390 non-null   object \n",
      " 22  vehicle_size                   6390 non-null   object \n",
      " 23  day                            6390 non-null   int64  \n",
      " 24  month                          6390 non-null   int64  \n",
      " 25  weeknumber                     6390 non-null   int64  \n",
      "dtypes: float64(2), int64(9), object(15)\n",
      "memory usage: 1.3+ MB\n"
     ]
    }
   ],
   "source": [
    "data_c = data_c.drop(data_c[data_c.total_claim_amount > Upper_lim4].index)\n",
    "data_c = data_c.drop(data_c[data_c.total_claim_amount < Lower_lim4].index)\n",
    "data_c.info()"
   ]
  },
  {
   "cell_type": "markdown",
   "id": "healthy-intro",
   "metadata": {},
   "source": [
    "- ***Now split the dataset into data_num (only numerical data) and data_cat (only object).***"
   ]
  },
  {
   "cell_type": "code",
   "execution_count": 262,
   "id": "sublime-jones",
   "metadata": {},
   "outputs": [],
   "source": [
    "data_num = data_c.select_dtypes(include = np.number)"
   ]
  },
  {
   "cell_type": "code",
   "execution_count": 263,
   "id": "included-insight",
   "metadata": {},
   "outputs": [
    {
     "name": "stderr",
     "output_type": "stream",
     "text": [
      "<ipython-input-263-631f6870589b>:1: DeprecationWarning: `np.object` is a deprecated alias for the builtin `object`. To silence this warning, use `object` by itself. Doing this will not modify any behavior and is safe. \n",
      "Deprecated in NumPy 1.20; for more details and guidance: https://numpy.org/devdocs/release/1.20.0-notes.html#deprecations\n",
      "  data_cat = data_c.select_dtypes(include = np.object)\n"
     ]
    }
   ],
   "source": [
    "data_cat = data_c.select_dtypes(include = np.object)"
   ]
  },
  {
   "cell_type": "code",
   "execution_count": 264,
   "id": "rational-mentor",
   "metadata": {},
   "outputs": [
    {
     "data": {
      "text/html": [
       "<div>\n",
       "<style scoped>\n",
       "    .dataframe tbody tr th:only-of-type {\n",
       "        vertical-align: middle;\n",
       "    }\n",
       "\n",
       "    .dataframe tbody tr th {\n",
       "        vertical-align: top;\n",
       "    }\n",
       "\n",
       "    .dataframe thead th {\n",
       "        text-align: right;\n",
       "    }\n",
       "</style>\n",
       "<table border=\"1\" class=\"dataframe\">\n",
       "  <thead>\n",
       "    <tr style=\"text-align: right;\">\n",
       "      <th></th>\n",
       "      <th>customer</th>\n",
       "      <th>state</th>\n",
       "      <th>response</th>\n",
       "      <th>coverage</th>\n",
       "      <th>education</th>\n",
       "      <th>employmentstatus</th>\n",
       "      <th>gender</th>\n",
       "      <th>location_code</th>\n",
       "      <th>marital_status</th>\n",
       "      <th>policy_type</th>\n",
       "      <th>policy</th>\n",
       "      <th>renew_offer_type</th>\n",
       "      <th>sales_channel</th>\n",
       "      <th>vehicle_class</th>\n",
       "      <th>vehicle_size</th>\n",
       "    </tr>\n",
       "  </thead>\n",
       "  <tbody>\n",
       "    <tr>\n",
       "      <th>0</th>\n",
       "      <td>BU79786</td>\n",
       "      <td>Washington</td>\n",
       "      <td>No</td>\n",
       "      <td>Basic</td>\n",
       "      <td>Bachelor</td>\n",
       "      <td>Employed</td>\n",
       "      <td>F</td>\n",
       "      <td>Suburban</td>\n",
       "      <td>Married</td>\n",
       "      <td>Corporate Auto</td>\n",
       "      <td>Corporate L3</td>\n",
       "      <td>Offer1</td>\n",
       "      <td>Agent</td>\n",
       "      <td>Two-Door Car</td>\n",
       "      <td>Medsize</td>\n",
       "    </tr>\n",
       "    <tr>\n",
       "      <th>2</th>\n",
       "      <td>AI49188</td>\n",
       "      <td>Nevada</td>\n",
       "      <td>No</td>\n",
       "      <td>Premium</td>\n",
       "      <td>Bachelor</td>\n",
       "      <td>Employed</td>\n",
       "      <td>F</td>\n",
       "      <td>Suburban</td>\n",
       "      <td>Married</td>\n",
       "      <td>Personal Auto</td>\n",
       "      <td>Personal L3</td>\n",
       "      <td>Offer1</td>\n",
       "      <td>Agent</td>\n",
       "      <td>Two-Door Car</td>\n",
       "      <td>Medsize</td>\n",
       "    </tr>\n",
       "    <tr>\n",
       "      <th>3</th>\n",
       "      <td>WW63253</td>\n",
       "      <td>California</td>\n",
       "      <td>No</td>\n",
       "      <td>Basic</td>\n",
       "      <td>Bachelor</td>\n",
       "      <td>Unemployed</td>\n",
       "      <td>M</td>\n",
       "      <td>Suburban</td>\n",
       "      <td>Married</td>\n",
       "      <td>Corporate Auto</td>\n",
       "      <td>Corporate L2</td>\n",
       "      <td>Offer1</td>\n",
       "      <td>Call Center</td>\n",
       "      <td>SUV</td>\n",
       "      <td>Medsize</td>\n",
       "    </tr>\n",
       "    <tr>\n",
       "      <th>4</th>\n",
       "      <td>HB64268</td>\n",
       "      <td>Washington</td>\n",
       "      <td>No</td>\n",
       "      <td>Basic</td>\n",
       "      <td>Bachelor</td>\n",
       "      <td>Employed</td>\n",
       "      <td>M</td>\n",
       "      <td>Rural</td>\n",
       "      <td>Single</td>\n",
       "      <td>Personal Auto</td>\n",
       "      <td>Personal L1</td>\n",
       "      <td>Offer1</td>\n",
       "      <td>Agent</td>\n",
       "      <td>Four-Door Car</td>\n",
       "      <td>Medsize</td>\n",
       "    </tr>\n",
       "    <tr>\n",
       "      <th>5</th>\n",
       "      <td>OC83172</td>\n",
       "      <td>Oregon</td>\n",
       "      <td>Yes</td>\n",
       "      <td>Basic</td>\n",
       "      <td>Bachelor</td>\n",
       "      <td>Employed</td>\n",
       "      <td>F</td>\n",
       "      <td>Rural</td>\n",
       "      <td>Married</td>\n",
       "      <td>Personal Auto</td>\n",
       "      <td>Personal L3</td>\n",
       "      <td>Offer2</td>\n",
       "      <td>Web</td>\n",
       "      <td>Two-Door Car</td>\n",
       "      <td>Medsize</td>\n",
       "    </tr>\n",
       "  </tbody>\n",
       "</table>\n",
       "</div>"
      ],
      "text/plain": [
       "  customer       state response coverage education employmentstatus gender  \\\n",
       "0  BU79786  Washington       No    Basic  Bachelor         Employed      F   \n",
       "2  AI49188      Nevada       No  Premium  Bachelor         Employed      F   \n",
       "3  WW63253  California       No    Basic  Bachelor       Unemployed      M   \n",
       "4  HB64268  Washington       No    Basic  Bachelor         Employed      M   \n",
       "5  OC83172      Oregon      Yes    Basic  Bachelor         Employed      F   \n",
       "\n",
       "  location_code marital_status     policy_type        policy renew_offer_type  \\\n",
       "0      Suburban        Married  Corporate Auto  Corporate L3           Offer1   \n",
       "2      Suburban        Married   Personal Auto   Personal L3           Offer1   \n",
       "3      Suburban        Married  Corporate Auto  Corporate L2           Offer1   \n",
       "4         Rural         Single   Personal Auto   Personal L1           Offer1   \n",
       "5         Rural        Married   Personal Auto   Personal L3           Offer2   \n",
       "\n",
       "  sales_channel  vehicle_class vehicle_size  \n",
       "0         Agent   Two-Door Car      Medsize  \n",
       "2         Agent   Two-Door Car      Medsize  \n",
       "3   Call Center            SUV      Medsize  \n",
       "4         Agent  Four-Door Car      Medsize  \n",
       "5           Web   Two-Door Car      Medsize  "
      ]
     },
     "execution_count": 264,
     "metadata": {},
     "output_type": "execute_result"
    }
   ],
   "source": [
    "data_cat.head()"
   ]
  },
  {
   "cell_type": "code",
   "execution_count": 265,
   "id": "wrapped-concept",
   "metadata": {},
   "outputs": [
    {
     "data": {
      "text/html": [
       "<div>\n",
       "<style scoped>\n",
       "    .dataframe tbody tr th:only-of-type {\n",
       "        vertical-align: middle;\n",
       "    }\n",
       "\n",
       "    .dataframe tbody tr th {\n",
       "        vertical-align: top;\n",
       "    }\n",
       "\n",
       "    .dataframe thead th {\n",
       "        text-align: right;\n",
       "    }\n",
       "</style>\n",
       "<table border=\"1\" class=\"dataframe\">\n",
       "  <thead>\n",
       "    <tr style=\"text-align: right;\">\n",
       "      <th></th>\n",
       "      <th>customer_lifetime_value</th>\n",
       "      <th>income</th>\n",
       "      <th>monthly_premium_auto</th>\n",
       "      <th>months_since_last_claim</th>\n",
       "      <th>months_since_policy_inception</th>\n",
       "      <th>number_of_open_complaints</th>\n",
       "      <th>number_of_policies</th>\n",
       "      <th>total_claim_amount</th>\n",
       "      <th>day</th>\n",
       "      <th>month</th>\n",
       "      <th>weeknumber</th>\n",
       "    </tr>\n",
       "  </thead>\n",
       "  <tbody>\n",
       "    <tr>\n",
       "      <th>0</th>\n",
       "      <td>2763.519279</td>\n",
       "      <td>56274</td>\n",
       "      <td>69</td>\n",
       "      <td>32</td>\n",
       "      <td>5</td>\n",
       "      <td>0</td>\n",
       "      <td>1</td>\n",
       "      <td>384.811147</td>\n",
       "      <td>24</td>\n",
       "      <td>2</td>\n",
       "      <td>8</td>\n",
       "    </tr>\n",
       "    <tr>\n",
       "      <th>2</th>\n",
       "      <td>12887.431650</td>\n",
       "      <td>48767</td>\n",
       "      <td>108</td>\n",
       "      <td>18</td>\n",
       "      <td>38</td>\n",
       "      <td>0</td>\n",
       "      <td>2</td>\n",
       "      <td>566.472247</td>\n",
       "      <td>19</td>\n",
       "      <td>2</td>\n",
       "      <td>7</td>\n",
       "    </tr>\n",
       "    <tr>\n",
       "      <th>3</th>\n",
       "      <td>7645.861827</td>\n",
       "      <td>0</td>\n",
       "      <td>106</td>\n",
       "      <td>18</td>\n",
       "      <td>65</td>\n",
       "      <td>0</td>\n",
       "      <td>7</td>\n",
       "      <td>529.881344</td>\n",
       "      <td>20</td>\n",
       "      <td>1</td>\n",
       "      <td>3</td>\n",
       "    </tr>\n",
       "    <tr>\n",
       "      <th>4</th>\n",
       "      <td>2813.692575</td>\n",
       "      <td>43836</td>\n",
       "      <td>73</td>\n",
       "      <td>12</td>\n",
       "      <td>44</td>\n",
       "      <td>0</td>\n",
       "      <td>1</td>\n",
       "      <td>138.130879</td>\n",
       "      <td>3</td>\n",
       "      <td>2</td>\n",
       "      <td>5</td>\n",
       "    </tr>\n",
       "    <tr>\n",
       "      <th>5</th>\n",
       "      <td>8256.297800</td>\n",
       "      <td>62902</td>\n",
       "      <td>69</td>\n",
       "      <td>14</td>\n",
       "      <td>94</td>\n",
       "      <td>0</td>\n",
       "      <td>2</td>\n",
       "      <td>159.383042</td>\n",
       "      <td>25</td>\n",
       "      <td>1</td>\n",
       "      <td>4</td>\n",
       "    </tr>\n",
       "  </tbody>\n",
       "</table>\n",
       "</div>"
      ],
      "text/plain": [
       "   customer_lifetime_value  income  monthly_premium_auto  \\\n",
       "0              2763.519279   56274                    69   \n",
       "2             12887.431650   48767                   108   \n",
       "3              7645.861827       0                   106   \n",
       "4              2813.692575   43836                    73   \n",
       "5              8256.297800   62902                    69   \n",
       "\n",
       "   months_since_last_claim  months_since_policy_inception  \\\n",
       "0                       32                              5   \n",
       "2                       18                             38   \n",
       "3                       18                             65   \n",
       "4                       12                             44   \n",
       "5                       14                             94   \n",
       "\n",
       "   number_of_open_complaints  number_of_policies  total_claim_amount  day  \\\n",
       "0                          0                   1          384.811147   24   \n",
       "2                          0                   2          566.472247   19   \n",
       "3                          0                   7          529.881344   20   \n",
       "4                          0                   1          138.130879    3   \n",
       "5                          0                   2          159.383042   25   \n",
       "\n",
       "   month  weeknumber  \n",
       "0      2           8  \n",
       "2      2           7  \n",
       "3      1           3  \n",
       "4      2           5  \n",
       "5      1           4  "
      ]
     },
     "execution_count": 265,
     "metadata": {},
     "output_type": "execute_result"
    }
   ],
   "source": [
    "data_num.head()"
   ]
  },
  {
   "cell_type": "markdown",
   "id": "weighted-conditioning",
   "metadata": {},
   "source": [
    "- ***Check the categorical data (the content of the rows - typing mistakes, summarize similar groups ..... )***"
   ]
  },
  {
   "cell_type": "code",
   "execution_count": 266,
   "id": "colonial-source",
   "metadata": {},
   "outputs": [
    {
     "data": {
      "text/plain": [
       "California    2250\n",
       "Oregon        1788\n",
       "Arizona       1176\n",
       "Nevada         624\n",
       "Washington     552\n",
       "Name: state, dtype: int64"
      ]
     },
     "execution_count": 266,
     "metadata": {},
     "output_type": "execute_result"
    }
   ],
   "source": [
    "data_cat['state'].value_counts()"
   ]
  },
  {
   "cell_type": "code",
   "execution_count": 267,
   "id": "acoustic-trigger",
   "metadata": {},
   "outputs": [
    {
     "data": {
      "text/plain": [
       "No     5448\n",
       "Yes     942\n",
       "Name: response, dtype: int64"
      ]
     },
     "execution_count": 267,
     "metadata": {},
     "output_type": "execute_result"
    }
   ],
   "source": [
    "data_cat['response'].value_counts()"
   ]
  },
  {
   "cell_type": "code",
   "execution_count": 268,
   "id": "asian-block",
   "metadata": {},
   "outputs": [
    {
     "data": {
      "text/plain": [
       "Basic       3833\n",
       "Extended    2068\n",
       "Premium      489\n",
       "Name: coverage, dtype: int64"
      ]
     },
     "execution_count": 268,
     "metadata": {},
     "output_type": "execute_result"
    }
   ],
   "source": [
    "data_cat['coverage'].value_counts()"
   ]
  },
  {
   "cell_type": "code",
   "execution_count": 269,
   "id": "graphic-easter",
   "metadata": {},
   "outputs": [
    {
     "data": {
      "text/plain": [
       "Bachelor                1896\n",
       "College                 1896\n",
       "High School or Below    1804\n",
       "Master                   534\n",
       "Doctor                   260\n",
       "Name: education, dtype: int64"
      ]
     },
     "execution_count": 269,
     "metadata": {},
     "output_type": "execute_result"
    }
   ],
   "source": [
    "data_cat['education'].value_counts()"
   ]
  },
  {
   "cell_type": "code",
   "execution_count": 270,
   "id": "limited-philosophy",
   "metadata": {},
   "outputs": [
    {
     "data": {
      "text/plain": [
       "Employed         4195\n",
       "Unemployed       1422\n",
       "Medical Leave     299\n",
       "Disabled          274\n",
       "Retired           200\n",
       "Name: employmentstatus, dtype: int64"
      ]
     },
     "execution_count": 270,
     "metadata": {},
     "output_type": "execute_result"
    }
   ],
   "source": [
    "data_cat['employmentstatus'].value_counts()"
   ]
  },
  {
   "cell_type": "code",
   "execution_count": 271,
   "id": "annual-analyst",
   "metadata": {},
   "outputs": [
    {
     "data": {
      "text/plain": [
       "F    3271\n",
       "M    3119\n",
       "Name: gender, dtype: int64"
      ]
     },
     "execution_count": 271,
     "metadata": {},
     "output_type": "execute_result"
    }
   ],
   "source": [
    "data_cat['gender'].value_counts()"
   ]
  },
  {
   "cell_type": "code",
   "execution_count": 272,
   "id": "clinical-teacher",
   "metadata": {},
   "outputs": [
    {
     "data": {
      "text/plain": [
       "Suburban    4052\n",
       "Urban       1281\n",
       "Rural       1057\n",
       "Name: location_code, dtype: int64"
      ]
     },
     "execution_count": 272,
     "metadata": {},
     "output_type": "execute_result"
    }
   ],
   "source": [
    "data_cat['location_code'].value_counts()"
   ]
  },
  {
   "cell_type": "code",
   "execution_count": 273,
   "id": "expensive-picnic",
   "metadata": {},
   "outputs": [
    {
     "data": {
      "text/plain": [
       "Married     3877\n",
       "Single      1531\n",
       "Divorced     982\n",
       "Name: marital_status, dtype: int64"
      ]
     },
     "execution_count": 273,
     "metadata": {},
     "output_type": "execute_result"
    }
   ],
   "source": [
    "data_cat['marital_status'].value_counts()"
   ]
  },
  {
   "cell_type": "code",
   "execution_count": 274,
   "id": "iraqi-cameroon",
   "metadata": {},
   "outputs": [
    {
     "data": {
      "text/plain": [
       "Personal Auto     4764\n",
       "Corporate Auto    1350\n",
       "Special Auto       276\n",
       "Name: policy_type, dtype: int64"
      ]
     },
     "execution_count": 274,
     "metadata": {},
     "output_type": "execute_result"
    }
   ],
   "source": [
    "data_cat['policy_type'].value_counts()"
   ]
  },
  {
   "cell_type": "code",
   "execution_count": 275,
   "id": "moved-alias",
   "metadata": {},
   "outputs": [
    {
     "data": {
      "text/plain": [
       "Personal L3     2416\n",
       "Personal L2     1493\n",
       "Personal L1      855\n",
       "Corporate L3     680\n",
       "Corporate L2     417\n",
       "Corporate L1     253\n",
       "Special L2       122\n",
       "Special L3       107\n",
       "Special L1        47\n",
       "Name: policy, dtype: int64"
      ]
     },
     "execution_count": 275,
     "metadata": {},
     "output_type": "execute_result"
    }
   ],
   "source": [
    "data_cat['policy'].value_counts()"
   ]
  },
  {
   "cell_type": "code",
   "execution_count": 276,
   "id": "dense-beijing",
   "metadata": {},
   "outputs": [
    {
     "data": {
      "text/plain": [
       "Agent          2408\n",
       "Branch         1790\n",
       "Call Center    1260\n",
       "Web             932\n",
       "Name: sales_channel, dtype: int64"
      ]
     },
     "execution_count": 276,
     "metadata": {},
     "output_type": "execute_result"
    }
   ],
   "source": [
    "data_cat['sales_channel'].value_counts()"
   ]
  },
  {
   "cell_type": "code",
   "execution_count": 277,
   "id": "developmental-optimization",
   "metadata": {},
   "outputs": [
    {
     "data": {
      "text/plain": [
       "Offer1    2544\n",
       "Offer2    2115\n",
       "Offer3    1001\n",
       "Offer4     730\n",
       "Name: renew_offer_type, dtype: int64"
      ]
     },
     "execution_count": 277,
     "metadata": {},
     "output_type": "execute_result"
    }
   ],
   "source": [
    "data_cat['renew_offer_type'].value_counts()"
   ]
  },
  {
   "cell_type": "code",
   "execution_count": 278,
   "id": "sudden-function",
   "metadata": {},
   "outputs": [
    {
     "data": {
      "text/plain": [
       "Four-Door Car    3419\n",
       "Two-Door Car     1393\n",
       "SUV              1256\n",
       "Sports Car        322\n",
       "Name: vehicle_class, dtype: int64"
      ]
     },
     "execution_count": 278,
     "metadata": {},
     "output_type": "execute_result"
    }
   ],
   "source": [
    "data_cat['vehicle_class'].value_counts()"
   ]
  },
  {
   "cell_type": "code",
   "execution_count": 279,
   "id": "alert-tulsa",
   "metadata": {},
   "outputs": [
    {
     "data": {
      "text/plain": [
       "Medsize    4479\n",
       "Small      1236\n",
       "Large       675\n",
       "Name: vehicle_size, dtype: int64"
      ]
     },
     "execution_count": 279,
     "metadata": {},
     "output_type": "execute_result"
    }
   ],
   "source": [
    "data_cat['vehicle_size'].value_counts()"
   ]
  },
  {
   "cell_type": "markdown",
   "id": "novel-bermuda",
   "metadata": {},
   "source": [
    "- ****possible groupings (For me: Possible summarizeng depends at first on the hypothesis. But I try to summarize similar groups together. The goal is to achieve bigger groups and less distinct groups and of cours less distinct categorical values )***"
   ]
  },
  {
   "cell_type": "markdown",
   "id": "creative-english",
   "metadata": {},
   "source": [
    "***-> column \"education\"***\n",
    "\n",
    "- It could be possible to put the education level doctor and master in one group. After that, the both in one group make the group bigger. The both separate is too small.\n",
    "- new name for the degree doctor and master = Higher_degree"
   ]
  },
  {
   "cell_type": "code",
   "execution_count": 280,
   "id": "higher-netscape",
   "metadata": {},
   "outputs": [
    {
     "data": {
      "image/png": "[encoded data removed]",
      "text/plain": [
       "<Figure size 432x288 with 1 Axes>"
      ]
     },
     "metadata": {
      "needs_background": "light"
     },
     "output_type": "display_data"
    },
    {
     "data": {
      "text/plain": [
       "<Figure size 432x288 with 0 Axes>"
      ]
     },
     "metadata": {},
     "output_type": "display_data"
    }
   ],
   "source": [
    "data_cat[\"education\"].value_counts().plot(kind=\"bar\")\n",
    "plt.figure();"
   ]
  },
  {
   "cell_type": "code",
   "execution_count": 281,
   "id": "chemical-scholar",
   "metadata": {},
   "outputs": [],
   "source": [
    "def col_education(x):\n",
    "    if 'Bachelor' in x:\n",
    "        return 'Bachelor'\n",
    "    elif 'College' in x:\n",
    "        return 'College'\n",
    "    elif 'High School or Below' in x:\n",
    "        return 'High School or Below'\n",
    "    elif 'Master' or 'Doctor' in x:\n",
    "        return 'Higher_degree'\n",
    "    else:\n",
    "        return 'unknown'"
   ]
  },
  {
   "cell_type": "code",
   "execution_count": 282,
   "id": "printable-depth",
   "metadata": {},
   "outputs": [
    {
     "name": "stderr",
     "output_type": "stream",
     "text": [
      "<ipython-input-282-e819e8410822>:1: SettingWithCopyWarning: \n",
      "A value is trying to be set on a copy of a slice from a DataFrame.\n",
      "Try using .loc[row_indexer,col_indexer] = value instead\n",
      "\n",
      "See the caveats in the documentation: https://pandas.pydata.org/pandas-docs/stable/user_guide/indexing.html#returning-a-view-versus-a-copy\n",
      "  data_cat['education'] = data_cat['education'].apply(col_education)\n"
     ]
    }
   ],
   "source": [
    "data_cat['education'] = data_cat['education'].apply(col_education)"
   ]
  },
  {
   "cell_type": "code",
   "execution_count": 283,
   "id": "ignored-jacket",
   "metadata": {},
   "outputs": [
    {
     "data": {
      "text/plain": [
       "Bachelor                1896\n",
       "College                 1896\n",
       "High School or Below    1804\n",
       "Higher_degree            794\n",
       "Name: education, dtype: int64"
      ]
     },
     "execution_count": 283,
     "metadata": {},
     "output_type": "execute_result"
    }
   ],
   "source": [
    "data_cat['education'].value_counts()"
   ]
  },
  {
   "cell_type": "markdown",
   "id": "olive-graduation",
   "metadata": {},
   "source": [
    "***-> column 'employmentstatus'***\n",
    "- summarize the group 'Medical Leave','Disabled' and 'Retired' to the new group \"no_participation_work_life\""
   ]
  },
  {
   "cell_type": "code",
   "execution_count": 284,
   "id": "advised-nature",
   "metadata": {},
   "outputs": [
    {
     "data": {
      "text/plain": [
       "<Figure size 432x288 with 0 Axes>"
      ]
     },
     "execution_count": 284,
     "metadata": {},
     "output_type": "execute_result"
    },
    {
     "data": {
      "image/png": "[encoded data removed]",
      "text/plain": [
       "<Figure size 432x288 with 1 Axes>"
      ]
     },
     "metadata": {
      "needs_background": "light"
     },
     "output_type": "display_data"
    },
    {
     "data": {
      "text/plain": [
       "<Figure size 432x288 with 0 Axes>"
      ]
     },
     "metadata": {},
     "output_type": "display_data"
    }
   ],
   "source": [
    "data_cat[\"employmentstatus\"].value_counts().plot(kind=\"bar\")\n",
    "plt.figure()"
   ]
  },
  {
   "cell_type": "code",
   "execution_count": 285,
   "id": "approximate-victoria",
   "metadata": {},
   "outputs": [],
   "source": [
    "def col_employmentstatus(x):\n",
    "    if 'Employed' in x:\n",
    "        return 'Employed'\n",
    "    elif 'Unemployed' in x:\n",
    "        return 'Unemployed'\n",
    "    elif x in ['Medical Leave','Disabled','Retired']:\n",
    "        return 'no_participation_work_life'\n",
    "    else:\n",
    "        return 'unknown'"
   ]
  },
  {
   "cell_type": "code",
   "execution_count": 286,
   "id": "spread-synthetic",
   "metadata": {},
   "outputs": [
    {
     "name": "stderr",
     "output_type": "stream",
     "text": [
      "<ipython-input-286-63cd4d4a8fe7>:1: SettingWithCopyWarning: \n",
      "A value is trying to be set on a copy of a slice from a DataFrame.\n",
      "Try using .loc[row_indexer,col_indexer] = value instead\n",
      "\n",
      "See the caveats in the documentation: https://pandas.pydata.org/pandas-docs/stable/user_guide/indexing.html#returning-a-view-versus-a-copy\n",
      "  data_cat['employmentstatus'] = data_cat['employmentstatus'].apply(col_employmentstatus)\n"
     ]
    }
   ],
   "source": [
    "data_cat['employmentstatus'] = data_cat['employmentstatus'].apply(col_employmentstatus)"
   ]
  },
  {
   "cell_type": "code",
   "execution_count": 287,
   "id": "plain-diving",
   "metadata": {},
   "outputs": [
    {
     "data": {
      "text/plain": [
       "Employed                      4195\n",
       "Unemployed                    1422\n",
       "no_participation_work_life     773\n",
       "Name: employmentstatus, dtype: int64"
      ]
     },
     "execution_count": 287,
     "metadata": {},
     "output_type": "execute_result"
    }
   ],
   "source": [
    "data_cat['employmentstatus'].value_counts()"
   ]
  },
  {
   "cell_type": "markdown",
   "id": "synthetic-settlement",
   "metadata": {},
   "source": [
    "***-> column 'vehicle_class'***\n",
    "\n",
    "summarize the group 'Sports Car ','Luxury SUV' and 'Luxury Car' to the new group \"Luxury\""
   ]
  },
  {
   "cell_type": "code",
   "execution_count": 288,
   "id": "published-sugar",
   "metadata": {},
   "outputs": [
    {
     "data": {
      "image/png": "[encoded data removed]",
      "text/plain": [
       "<Figure size 432x288 with 1 Axes>"
      ]
     },
     "metadata": {
      "needs_background": "light"
     },
     "output_type": "display_data"
    },
    {
     "data": {
      "text/plain": [
       "<Figure size 432x288 with 0 Axes>"
      ]
     },
     "metadata": {},
     "output_type": "display_data"
    }
   ],
   "source": [
    "data_cat[\"vehicle_class\"].value_counts().plot(kind=\"bar\")\n",
    "plt.figure();"
   ]
  },
  {
   "cell_type": "code",
   "execution_count": 289,
   "id": "changing-nebraska",
   "metadata": {},
   "outputs": [],
   "source": [
    "def col_vehicle_class(x):\n",
    "    if 'Four-Door Car' in x:\n",
    "        return 'Four-Door Car'\n",
    "    elif 'Two-Door Car' in x:\n",
    "        return 'Two-Door Car'\n",
    "    elif 'SUV' in x:\n",
    "        return 'SUV'\n",
    "    elif x in ['Sports Car','Luxury SUV','Luxury Car']:\n",
    "        return 'Luxury'\n",
    "    else:\n",
    "        return 'unknown'"
   ]
  },
  {
   "cell_type": "code",
   "execution_count": 290,
   "id": "suited-bunch",
   "metadata": {},
   "outputs": [
    {
     "name": "stderr",
     "output_type": "stream",
     "text": [
      "<ipython-input-290-3b6a097a6460>:1: SettingWithCopyWarning: \n",
      "A value is trying to be set on a copy of a slice from a DataFrame.\n",
      "Try using .loc[row_indexer,col_indexer] = value instead\n",
      "\n",
      "See the caveats in the documentation: https://pandas.pydata.org/pandas-docs/stable/user_guide/indexing.html#returning-a-view-versus-a-copy\n",
      "  data_cat['vehicle_class'] = data_cat['vehicle_class'].apply(col_vehicle_class)\n"
     ]
    }
   ],
   "source": [
    "data_cat['vehicle_class'] = data_cat['vehicle_class'].apply(col_vehicle_class)"
   ]
  },
  {
   "cell_type": "code",
   "execution_count": 291,
   "id": "advisory-mainland",
   "metadata": {},
   "outputs": [
    {
     "data": {
      "text/plain": [
       "Four-Door Car    3419\n",
       "Two-Door Car     1393\n",
       "SUV              1256\n",
       "Luxury            322\n",
       "Name: vehicle_class, dtype: int64"
      ]
     },
     "execution_count": 291,
     "metadata": {},
     "output_type": "execute_result"
    }
   ],
   "source": [
    "data_cat['vehicle_class'].value_counts()"
   ]
  },
  {
   "cell_type": "markdown",
   "id": "expired-anatomy",
   "metadata": {},
   "source": [
    "- Normalize the continuous variables."
   ]
  },
  {
   "cell_type": "markdown",
   "id": "revised-reaction",
   "metadata": {},
   "source": [
    "Standard Scaler: standardising all numeric features / rescaling using"
   ]
  },
  {
   "cell_type": "code",
   "execution_count": 292,
   "id": "different-exercise",
   "metadata": {},
   "outputs": [],
   "source": [
    "transformer = StandardScaler().fit(data_num)\n",
    "x_standardized = transformer.transform(data_num)"
   ]
  },
  {
   "cell_type": "code",
   "execution_count": 293,
   "id": "graphic-bumper",
   "metadata": {},
   "outputs": [],
   "source": [
    "num_new = pd.DataFrame(x_standardized, columns=data_num.columns)"
   ]
  },
  {
   "cell_type": "code",
   "execution_count": 294,
   "id": "sudden-royal",
   "metadata": {},
   "outputs": [
    {
     "data": {
      "text/html": [
       "<div>\n",
       "<style scoped>\n",
       "    .dataframe tbody tr th:only-of-type {\n",
       "        vertical-align: middle;\n",
       "    }\n",
       "\n",
       "    .dataframe tbody tr th {\n",
       "        vertical-align: top;\n",
       "    }\n",
       "\n",
       "    .dataframe thead th {\n",
       "        text-align: right;\n",
       "    }\n",
       "</style>\n",
       "<table border=\"1\" class=\"dataframe\">\n",
       "  <thead>\n",
       "    <tr style=\"text-align: right;\">\n",
       "      <th></th>\n",
       "      <th>customer_lifetime_value</th>\n",
       "      <th>income</th>\n",
       "      <th>monthly_premium_auto</th>\n",
       "      <th>months_since_last_claim</th>\n",
       "      <th>months_since_policy_inception</th>\n",
       "      <th>number_of_open_complaints</th>\n",
       "      <th>number_of_policies</th>\n",
       "      <th>total_claim_amount</th>\n",
       "      <th>day</th>\n",
       "      <th>month</th>\n",
       "      <th>weeknumber</th>\n",
       "    </tr>\n",
       "  </thead>\n",
       "  <tbody>\n",
       "    <tr>\n",
       "      <th>0</th>\n",
       "      <td>-1.016120</td>\n",
       "      <td>0.552963</td>\n",
       "      <td>-0.899125</td>\n",
       "      <td>1.687846</td>\n",
       "      <td>-1.547183</td>\n",
       "      <td>-0.417002</td>\n",
       "      <td>-0.855380</td>\n",
       "      <td>-0.058033</td>\n",
       "      <td>0.991871</td>\n",
       "      <td>1.072749</td>\n",
       "      <td>0.193762</td>\n",
       "    </tr>\n",
       "    <tr>\n",
       "      <th>1</th>\n",
       "      <td>1.516639</td>\n",
       "      <td>0.304407</td>\n",
       "      <td>0.950912</td>\n",
       "      <td>0.290640</td>\n",
       "      <td>-0.358763</td>\n",
       "      <td>-0.417002</td>\n",
       "      <td>-0.378635</td>\n",
       "      <td>0.956933</td>\n",
       "      <td>0.414266</td>\n",
       "      <td>1.072749</td>\n",
       "      <td>0.083371</td>\n",
       "    </tr>\n",
       "    <tr>\n",
       "      <th>2</th>\n",
       "      <td>0.205324</td>\n",
       "      <td>-1.310261</td>\n",
       "      <td>0.856038</td>\n",
       "      <td>0.290640</td>\n",
       "      <td>0.613580</td>\n",
       "      <td>-0.417002</td>\n",
       "      <td>2.005089</td>\n",
       "      <td>0.752495</td>\n",
       "      <td>0.529787</td>\n",
       "      <td>-0.932184</td>\n",
       "      <td>-0.358190</td>\n",
       "    </tr>\n",
       "    <tr>\n",
       "      <th>3</th>\n",
       "      <td>-1.003568</td>\n",
       "      <td>0.141142</td>\n",
       "      <td>-0.709378</td>\n",
       "      <td>-0.308163</td>\n",
       "      <td>-0.142687</td>\n",
       "      <td>-0.417002</td>\n",
       "      <td>-0.855380</td>\n",
       "      <td>-1.436270</td>\n",
       "      <td>-1.434068</td>\n",
       "      <td>1.072749</td>\n",
       "      <td>-0.137409</td>\n",
       "    </tr>\n",
       "    <tr>\n",
       "      <th>4</th>\n",
       "      <td>0.358041</td>\n",
       "      <td>0.772415</td>\n",
       "      <td>-0.899125</td>\n",
       "      <td>-0.108562</td>\n",
       "      <td>1.657949</td>\n",
       "      <td>-0.417002</td>\n",
       "      <td>-0.378635</td>\n",
       "      <td>-1.317531</td>\n",
       "      <td>1.107392</td>\n",
       "      <td>-0.932184</td>\n",
       "      <td>-0.247800</td>\n",
       "    </tr>\n",
       "  </tbody>\n",
       "</table>\n",
       "</div>"
      ],
      "text/plain": [
       "   customer_lifetime_value    income  monthly_premium_auto  \\\n",
       "0                -1.016120  0.552963             -0.899125   \n",
       "1                 1.516639  0.304407              0.950912   \n",
       "2                 0.205324 -1.310261              0.856038   \n",
       "3                -1.003568  0.141142             -0.709378   \n",
       "4                 0.358041  0.772415             -0.899125   \n",
       "\n",
       "   months_since_last_claim  months_since_policy_inception  \\\n",
       "0                 1.687846                      -1.547183   \n",
       "1                 0.290640                      -0.358763   \n",
       "2                 0.290640                       0.613580   \n",
       "3                -0.308163                      -0.142687   \n",
       "4                -0.108562                       1.657949   \n",
       "\n",
       "   number_of_open_complaints  number_of_policies  total_claim_amount  \\\n",
       "0                  -0.417002           -0.855380           -0.058033   \n",
       "1                  -0.417002           -0.378635            0.956933   \n",
       "2                  -0.417002            2.005089            0.752495   \n",
       "3                  -0.417002           -0.855380           -1.436270   \n",
       "4                  -0.417002           -0.378635           -1.317531   \n",
       "\n",
       "        day     month  weeknumber  \n",
       "0  0.991871  1.072749    0.193762  \n",
       "1  0.414266  1.072749    0.083371  \n",
       "2  0.529787 -0.932184   -0.358190  \n",
       "3 -1.434068  1.072749   -0.137409  \n",
       "4  1.107392 -0.932184   -0.247800  "
      ]
     },
     "execution_count": 294,
     "metadata": {},
     "output_type": "execute_result"
    }
   ],
   "source": [
    "num_new.head()"
   ]
  },
  {
   "cell_type": "markdown",
   "id": "devoted-accent",
   "metadata": {},
   "source": [
    "- Encode the categorical variables"
   ]
  },
  {
   "cell_type": "markdown",
   "id": "interim-forum",
   "metadata": {},
   "source": [
    "Using get_dummies"
   ]
  },
  {
   "cell_type": "code",
   "execution_count": 295,
   "id": "turned-technician",
   "metadata": {},
   "outputs": [],
   "source": [
    "cat_new = pd.get_dummies(data_cat, columns=['customer','state', 'response', 'coverage', 'education','employmentstatus','gender','location_code','marital_status','policy_type', 'policy', 'renew_offer_type','sales_channel','vehicle_class','vehicle_size'], drop_first=True)\n"
   ]
  },
  {
   "cell_type": "code",
   "execution_count": 296,
   "id": "under-combination",
   "metadata": {},
   "outputs": [
    {
     "data": {
      "text/html": [
       "<div>\n",
       "<style scoped>\n",
       "    .dataframe tbody tr th:only-of-type {\n",
       "        vertical-align: middle;\n",
       "    }\n",
       "\n",
       "    .dataframe tbody tr th {\n",
       "        vertical-align: top;\n",
       "    }\n",
       "\n",
       "    .dataframe thead th {\n",
       "        text-align: right;\n",
       "    }\n",
       "</style>\n",
       "<table border=\"1\" class=\"dataframe\">\n",
       "  <thead>\n",
       "    <tr style=\"text-align: right;\">\n",
       "      <th></th>\n",
       "      <th>customer_AA35519</th>\n",
       "      <th>customer_AA56476</th>\n",
       "      <th>customer_AA69265</th>\n",
       "      <th>customer_AA71604</th>\n",
       "      <th>customer_AB13432</th>\n",
       "      <th>customer_AB21519</th>\n",
       "      <th>customer_AB23825</th>\n",
       "      <th>customer_AB26022</th>\n",
       "      <th>customer_AB45325</th>\n",
       "      <th>customer_AB60627</th>\n",
       "      <th>...</th>\n",
       "      <th>renew_offer_type_Offer3</th>\n",
       "      <th>renew_offer_type_Offer4</th>\n",
       "      <th>sales_channel_Branch</th>\n",
       "      <th>sales_channel_Call Center</th>\n",
       "      <th>sales_channel_Web</th>\n",
       "      <th>vehicle_class_Luxury</th>\n",
       "      <th>vehicle_class_SUV</th>\n",
       "      <th>vehicle_class_Two-Door Car</th>\n",
       "      <th>vehicle_size_Medsize</th>\n",
       "      <th>vehicle_size_Small</th>\n",
       "    </tr>\n",
       "  </thead>\n",
       "  <tbody>\n",
       "    <tr>\n",
       "      <th>0</th>\n",
       "      <td>0</td>\n",
       "      <td>0</td>\n",
       "      <td>0</td>\n",
       "      <td>0</td>\n",
       "      <td>0</td>\n",
       "      <td>0</td>\n",
       "      <td>0</td>\n",
       "      <td>0</td>\n",
       "      <td>0</td>\n",
       "      <td>0</td>\n",
       "      <td>...</td>\n",
       "      <td>0</td>\n",
       "      <td>0</td>\n",
       "      <td>0</td>\n",
       "      <td>0</td>\n",
       "      <td>0</td>\n",
       "      <td>0</td>\n",
       "      <td>0</td>\n",
       "      <td>1</td>\n",
       "      <td>1</td>\n",
       "      <td>0</td>\n",
       "    </tr>\n",
       "    <tr>\n",
       "      <th>2</th>\n",
       "      <td>0</td>\n",
       "      <td>0</td>\n",
       "      <td>0</td>\n",
       "      <td>0</td>\n",
       "      <td>0</td>\n",
       "      <td>0</td>\n",
       "      <td>0</td>\n",
       "      <td>0</td>\n",
       "      <td>0</td>\n",
       "      <td>0</td>\n",
       "      <td>...</td>\n",
       "      <td>0</td>\n",
       "      <td>0</td>\n",
       "      <td>0</td>\n",
       "      <td>0</td>\n",
       "      <td>0</td>\n",
       "      <td>0</td>\n",
       "      <td>0</td>\n",
       "      <td>1</td>\n",
       "      <td>1</td>\n",
       "      <td>0</td>\n",
       "    </tr>\n",
       "    <tr>\n",
       "      <th>3</th>\n",
       "      <td>0</td>\n",
       "      <td>0</td>\n",
       "      <td>0</td>\n",
       "      <td>0</td>\n",
       "      <td>0</td>\n",
       "      <td>0</td>\n",
       "      <td>0</td>\n",
       "      <td>0</td>\n",
       "      <td>0</td>\n",
       "      <td>0</td>\n",
       "      <td>...</td>\n",
       "      <td>0</td>\n",
       "      <td>0</td>\n",
       "      <td>0</td>\n",
       "      <td>1</td>\n",
       "      <td>0</td>\n",
       "      <td>0</td>\n",
       "      <td>1</td>\n",
       "      <td>0</td>\n",
       "      <td>1</td>\n",
       "      <td>0</td>\n",
       "    </tr>\n",
       "    <tr>\n",
       "      <th>4</th>\n",
       "      <td>0</td>\n",
       "      <td>0</td>\n",
       "      <td>0</td>\n",
       "      <td>0</td>\n",
       "      <td>0</td>\n",
       "      <td>0</td>\n",
       "      <td>0</td>\n",
       "      <td>0</td>\n",
       "      <td>0</td>\n",
       "      <td>0</td>\n",
       "      <td>...</td>\n",
       "      <td>0</td>\n",
       "      <td>0</td>\n",
       "      <td>0</td>\n",
       "      <td>0</td>\n",
       "      <td>0</td>\n",
       "      <td>0</td>\n",
       "      <td>0</td>\n",
       "      <td>0</td>\n",
       "      <td>1</td>\n",
       "      <td>0</td>\n",
       "    </tr>\n",
       "    <tr>\n",
       "      <th>5</th>\n",
       "      <td>0</td>\n",
       "      <td>0</td>\n",
       "      <td>0</td>\n",
       "      <td>0</td>\n",
       "      <td>0</td>\n",
       "      <td>0</td>\n",
       "      <td>0</td>\n",
       "      <td>0</td>\n",
       "      <td>0</td>\n",
       "      <td>0</td>\n",
       "      <td>...</td>\n",
       "      <td>0</td>\n",
       "      <td>0</td>\n",
       "      <td>0</td>\n",
       "      <td>0</td>\n",
       "      <td>1</td>\n",
       "      <td>0</td>\n",
       "      <td>0</td>\n",
       "      <td>1</td>\n",
       "      <td>1</td>\n",
       "      <td>0</td>\n",
       "    </tr>\n",
       "  </tbody>\n",
       "</table>\n",
       "<p>5 rows × 6427 columns</p>\n",
       "</div>"
      ],
      "text/plain": [
       "   customer_AA35519  customer_AA56476  customer_AA69265  customer_AA71604  \\\n",
       "0                 0                 0                 0                 0   \n",
       "2                 0                 0                 0                 0   \n",
       "3                 0                 0                 0                 0   \n",
       "4                 0                 0                 0                 0   \n",
       "5                 0                 0                 0                 0   \n",
       "\n",
       "   customer_AB13432  customer_AB21519  customer_AB23825  customer_AB26022  \\\n",
       "0                 0                 0                 0                 0   \n",
       "2                 0                 0                 0                 0   \n",
       "3                 0                 0                 0                 0   \n",
       "4                 0                 0                 0                 0   \n",
       "5                 0                 0                 0                 0   \n",
       "\n",
       "   customer_AB45325  customer_AB60627  ...  renew_offer_type_Offer3  \\\n",
       "0                 0                 0  ...                        0   \n",
       "2                 0                 0  ...                        0   \n",
       "3                 0                 0  ...                        0   \n",
       "4                 0                 0  ...                        0   \n",
       "5                 0                 0  ...                        0   \n",
       "\n",
       "   renew_offer_type_Offer4  sales_channel_Branch  sales_channel_Call Center  \\\n",
       "0                        0                     0                          0   \n",
       "2                        0                     0                          0   \n",
       "3                        0                     0                          1   \n",
       "4                        0                     0                          0   \n",
       "5                        0                     0                          0   \n",
       "\n",
       "   sales_channel_Web  vehicle_class_Luxury  vehicle_class_SUV  \\\n",
       "0                  0                     0                  0   \n",
       "2                  0                     0                  0   \n",
       "3                  0                     0                  1   \n",
       "4                  0                     0                  0   \n",
       "5                  1                     0                  0   \n",
       "\n",
       "   vehicle_class_Two-Door Car  vehicle_size_Medsize  vehicle_size_Small  \n",
       "0                           1                     1                   0  \n",
       "2                           1                     1                   0  \n",
       "3                           0                     1                   0  \n",
       "4                           0                     1                   0  \n",
       "5                           1                     1                   0  \n",
       "\n",
       "[5 rows x 6427 columns]"
      ]
     },
     "execution_count": 296,
     "metadata": {},
     "output_type": "execute_result"
    }
   ],
   "source": [
    "cat_new.head()"
   ]
  },
  {
   "cell_type": "markdown",
   "id": "aggressive-mumbai",
   "metadata": {},
   "source": [
    "- check the lengths to avoid mismatches"
   ]
  },
  {
   "cell_type": "code",
   "execution_count": 300,
   "id": "affiliated-warrant",
   "metadata": {},
   "outputs": [
    {
     "data": {
      "text/plain": [
       "(6390, 6390, 6390)"
      ]
     },
     "execution_count": 300,
     "metadata": {},
     "output_type": "execute_result"
    }
   ],
   "source": [
    "len(data_num), len(x_standardized), len(cat_new)"
   ]
  },
  {
   "cell_type": "code",
   "execution_count": 301,
   "id": "weekly-cradle",
   "metadata": {},
   "outputs": [],
   "source": [
    "new_data = np.concatenate((cat_new, num_new), axis=1)"
   ]
  },
  {
   "cell_type": "code",
   "execution_count": 302,
   "id": "invisible-glossary",
   "metadata": {},
   "outputs": [
    {
     "data": {
      "text/plain": [
       "(6390, 6438)"
      ]
     },
     "execution_count": 302,
     "metadata": {},
     "output_type": "execute_result"
    }
   ],
   "source": [
    "new_data.shape"
   ]
  },
  {
   "cell_type": "markdown",
   "id": "spread-horizon",
   "metadata": {},
   "source": [
    "- Since the model will only accept numerical data, check and make sure that every column is numerical, if some are not, change it using encoding."
   ]
  }
 ],
 "metadata": {
  "kernelspec": {
   "display_name": "Python 3",
   "language": "python",
   "name": "python3"
  },
  "language_info": {
   "codemirror_mode": {
    "name": "ipython",
    "version": 3
   },
   "file_extension": ".py",
   "mimetype": "text/x-python",
   "name": "python",
   "nbconvert_exporter": "python",
   "pygments_lexer": "ipython3",
   "version": "3.9.2"
  }
 },
 "nbformat": 4,
 "nbformat_minor": 5
}
